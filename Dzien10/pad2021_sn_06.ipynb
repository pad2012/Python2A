{
  "nbformat": 4,
  "nbformat_minor": 0,
  "metadata": {
    "colab": {
      "name": "pad2021-sn-06.ipynb",
      "provenance": [],
      "collapsed_sections": []
    },
    "kernelspec": {
      "name": "python3",
      "display_name": "Python 3"
    },
    "language_info": {
      "name": "python"
    }
  },
  "cells": [
    {
      "cell_type": "code",
      "execution_count": 3,
      "metadata": {
        "id": "sh-SioOe6pxU"
      },
      "outputs": [],
      "source": [
        "!pip install autokeras -q"
      ]
    },
    {
      "cell_type": "code",
      "source": [
        "import pandas as pd\n",
        "from sklearn.model_selection import train_test_split\n"
      ],
      "metadata": {
        "id": "sxo7Di4T60hd"
      },
      "execution_count": 4,
      "outputs": []
    },
    {
      "cell_type": "code",
      "source": [
        "import keras"
      ],
      "metadata": {
        "id": "JN_PR9y57dzz"
      },
      "execution_count": 5,
      "outputs": []
    },
    {
      "cell_type": "code",
      "source": [
        "keras.__version__"
      ],
      "metadata": {
        "colab": {
          "base_uri": "https://localhost:8080/",
          "height": 35
        },
        "id": "qKCAP-sV7hN1",
        "outputId": "bca6aaa4-204c-484f-824d-1f7de52f11b5"
      },
      "execution_count": 6,
      "outputs": [
        {
          "output_type": "execute_result",
          "data": {
            "application/vnd.google.colaboratory.intrinsic+json": {
              "type": "string"
            },
            "text/plain": [
              "'2.8.0'"
            ]
          },
          "metadata": {},
          "execution_count": 6
        }
      ]
    },
    {
      "cell_type": "code",
      "source": [
        "import tensorflow as tf"
      ],
      "metadata": {
        "id": "a-dttQ6m7kGI"
      },
      "execution_count": 7,
      "outputs": []
    },
    {
      "cell_type": "code",
      "source": [
        "tf.keras.__version__"
      ],
      "metadata": {
        "colab": {
          "base_uri": "https://localhost:8080/",
          "height": 35
        },
        "id": "_s_9ShQj7n0q",
        "outputId": "de07f8c4-b0a7-4ad2-93d4-0cb3a58ef938"
      },
      "execution_count": 8,
      "outputs": [
        {
          "output_type": "execute_result",
          "data": {
            "application/vnd.google.colaboratory.intrinsic+json": {
              "type": "string"
            },
            "text/plain": [
              "'2.8.0'"
            ]
          },
          "metadata": {},
          "execution_count": 8
        }
      ]
    },
    {
      "cell_type": "code",
      "source": [
        "from sklearn.datasets import load_breast_cancer"
      ],
      "metadata": {
        "id": "rToEB4mT7rDd"
      },
      "execution_count": 9,
      "outputs": []
    },
    {
      "cell_type": "code",
      "source": [
        "X, y = load_breast_cancer(return_X_y=True, as_frame=True)"
      ],
      "metadata": {
        "id": "HNa4aPV9794h"
      },
      "execution_count": 10,
      "outputs": []
    },
    {
      "cell_type": "code",
      "source": [
        "# ładowanie klasy z Autokeras\n",
        "from autokeras import StructuredDataClassifier"
      ],
      "metadata": {
        "id": "dTeRCW5j8Fk7"
      },
      "execution_count": 11,
      "outputs": []
    },
    {
      "cell_type": "code",
      "source": [
        "X_train, X_test, y_train, y_test  = train_test_split(X, y, random_state=42, test_size=.2)"
      ],
      "metadata": {
        "id": "vQvG0rFW8KFE"
      },
      "execution_count": 12,
      "outputs": []
    },
    {
      "cell_type": "code",
      "source": [
        "autokeras_ml = StructuredDataClassifier(max_trials=5)\n",
        "autokeras_ml.fit(X_train, y_train)"
      ],
      "metadata": {
        "id": "_V5jE2DK8t-v"
      },
      "execution_count": null,
      "outputs": []
    },
    {
      "cell_type": "code",
      "source": [
        "loss, acc = autokeras_ml.evaluate(X_test, y_test, verbose=0)\n",
        "loss, acc"
      ],
      "metadata": {
        "id": "vWRdomV28yf6"
      },
      "execution_count": null,
      "outputs": []
    },
    {
      "cell_type": "code",
      "source": [
        "model = autokeras_ml.export_model()"
      ],
      "metadata": {
        "id": "5gW-P-sG-YIg"
      },
      "execution_count": null,
      "outputs": []
    },
    {
      "cell_type": "code",
      "source": [
        "model.summary()"
      ],
      "metadata": {
        "id": "buVfWqEC-tn5"
      },
      "execution_count": null,
      "outputs": []
    },
    {
      "cell_type": "code",
      "source": [
        "X_test[11:12]"
      ],
      "metadata": {
        "id": "J5tOqlbp-yIh"
      },
      "execution_count": null,
      "outputs": []
    },
    {
      "cell_type": "code",
      "source": [
        "model.predict(X_test[11:12])"
      ],
      "metadata": {
        "id": "MpzQv-ak_B6W"
      },
      "execution_count": null,
      "outputs": []
    },
    {
      "cell_type": "code",
      "source": [
        "y_test[11:12]"
      ],
      "metadata": {
        "id": "HMAvdMLU_Sje"
      },
      "execution_count": null,
      "outputs": []
    },
    {
      "cell_type": "code",
      "source": [
        "# Autokeras w regresji\n",
        "from sklearn.datasets import load_boston\n",
        "from sklearn.preprocessing import MinMaxScaler\n",
        "\n",
        "ds = load_boston()\n",
        "df = pd.DataFrame(ds.data, columns=ds.feature_names)\n",
        "df[\"MEDV\"] = ds.target"
      ],
      "metadata": {
        "id": "nkciFgxu_WaV"
      },
      "execution_count": null,
      "outputs": []
    },
    {
      "cell_type": "code",
      "source": [
        "X = df.iloc[:, :-1]\n",
        "y = df.MEDV\n",
        "\n",
        "# normalizacja\n",
        "#X = MinMaxScaler().fit_transform(X)\n",
        "X_train, X_test, y_train, y_test = train_test_split(X, y, test_size=.2, random_state=42)"
      ],
      "metadata": {
        "id": "7k0A48oeAlza"
      },
      "execution_count": null,
      "outputs": []
    },
    {
      "cell_type": "code",
      "source": [
        "from autokeras import StructuredDataRegressor"
      ],
      "metadata": {
        "id": "hejXS3pCA-0o"
      },
      "execution_count": 14,
      "outputs": []
    },
    {
      "cell_type": "code",
      "source": [
        "autokeras_ai = StructuredDataRegressor(max_trials=5, loss=\"mae\")\n",
        "autokeras_ai.fit(X_train, y_train)"
      ],
      "metadata": {
        "id": "wy_m6DOrBH_V"
      },
      "execution_count": null,
      "outputs": []
    },
    {
      "cell_type": "code",
      "source": [
        "model = autokeras_ai.export_model()"
      ],
      "metadata": {
        "id": "JjQ4349wBdh1"
      },
      "execution_count": null,
      "outputs": []
    },
    {
      "cell_type": "code",
      "source": [
        "model.summary()"
      ],
      "metadata": {
        "id": "fX7jBk2KC0kF"
      },
      "execution_count": null,
      "outputs": []
    },
    {
      "cell_type": "code",
      "source": [
        "from sklearn.metrics import r2_score"
      ],
      "metadata": {
        "id": "6Rr9vdqeC3Xi"
      },
      "execution_count": 22,
      "outputs": []
    },
    {
      "cell_type": "code",
      "source": [
        "autokeras_ai.evaluate(X_test, y_test)"
      ],
      "metadata": {
        "id": "0v6RP0SKDBHO"
      },
      "execution_count": null,
      "outputs": []
    },
    {
      "cell_type": "code",
      "source": [
        "autokeras_ai.predict(X_test[:3])"
      ],
      "metadata": {
        "id": "UJ4bjDRhjas3"
      },
      "execution_count": null,
      "outputs": []
    },
    {
      "cell_type": "code",
      "source": [
        "from tensorflow.keras.models import Sequential"
      ],
      "metadata": {
        "id": "J4ihGae4DaKZ"
      },
      "execution_count": null,
      "outputs": []
    },
    {
      "cell_type": "code",
      "source": [
        "model1 = Sequential.from_config(model.get_config())\n",
        "model.save_weights(\"wagi\", save_format='tf')\n",
        "model1.load_weights(\"wagi\")"
      ],
      "metadata": {
        "id": "DCAMyqsED4lW"
      },
      "execution_count": null,
      "outputs": []
    },
    {
      "cell_type": "code",
      "source": [
        "type(model)"
      ],
      "metadata": {
        "id": "8e313sPKEZkV"
      },
      "execution_count": null,
      "outputs": []
    },
    {
      "cell_type": "code",
      "source": [
        "y_pred = model.predict(X_test)"
      ],
      "metadata": {
        "id": "_LXmqlK4FlMP"
      },
      "execution_count": null,
      "outputs": []
    },
    {
      "cell_type": "code",
      "source": [
        "r2_score(y_test, y_pred)"
      ],
      "metadata": {
        "id": "GzQ-zsXZF7Ou"
      },
      "execution_count": null,
      "outputs": []
    },
    {
      "cell_type": "code",
      "source": [
        "y_pred[:10]"
      ],
      "metadata": {
        "id": "xz6nfIEfGBWu"
      },
      "execution_count": null,
      "outputs": []
    },
    {
      "cell_type": "code",
      "source": [
        "autokeras_ai.predict(X[:1])"
      ],
      "metadata": {
        "id": "unbGRT6_Gekp"
      },
      "execution_count": null,
      "outputs": []
    },
    {
      "cell_type": "code",
      "source": [
        "import numpy as np\n",
        "from sklearn.datasets import fetch_california_housing\n",
        "\n",
        "house_dataset = fetch_california_housing()\n",
        "df = pd.DataFrame(\n",
        "    np.concatenate(\n",
        "        (house_dataset.data, house_dataset.target.reshape(-1, 1)), axis=1\n",
        "    ),\n",
        "    columns=house_dataset.feature_names + [\"Price\"],\n",
        ")\n",
        "train_size = int(df.shape[0] * 0.9)\n",
        "df[:train_size].to_csv(\"train.csv\", index=False)\n",
        "df[train_size:].to_csv(\"eval.csv\", index=False)\n",
        "train_file_path = \"train.csv\"\n",
        "test_file_path = \"eval.csv\""
      ],
      "metadata": {
        "id": "b53YYlKlGs_p"
      },
      "execution_count": 15,
      "outputs": []
    },
    {
      "cell_type": "code",
      "source": [
        "# Initialize the structured data regressor.\n",
        "reg = StructuredDataRegressor(\n",
        "    overwrite=True, max_trials=3\n",
        ")  # It tries 3 different models.\n",
        "# Feed the structured data regressor with training data.\n",
        "reg.fit(\n",
        "    # The path to the train.csv file.\n",
        "    train_file_path,\n",
        "    # The name of the label column.\n",
        "    \"Price\",\n",
        "    epochs=10,\n",
        ")\n",
        "# Predict with the best model.\n",
        "predicted_y = reg.predict(test_file_path)\n",
        "# Evaluate the best model with testing data.\n",
        "print(reg.evaluate(test_file_path, \"Price\"))\n"
      ],
      "metadata": {
        "colab": {
          "base_uri": "https://localhost:8080/"
        },
        "id": "LBmiQIThkAGs",
        "outputId": "fc3ce08c-7a9b-4497-e418-131ebcc3d456"
      },
      "execution_count": 16,
      "outputs": [
        {
          "output_type": "stream",
          "name": "stdout",
          "text": [
            "Trial 3 Complete [00h 00m 26s]\n",
            "val_loss: 0.89969801902771\n",
            "\n",
            "Best val_loss So Far: 0.8750770092010498\n",
            "Total elapsed time: 00h 01m 18s\n",
            "INFO:tensorflow:Oracle triggered exit\n",
            "Epoch 1/10\n",
            "581/581 [==============================] - 2s 2ms/step - loss: 1.1179 - mean_squared_error: 1.1179\n",
            "Epoch 2/10\n",
            "581/581 [==============================] - 1s 2ms/step - loss: 0.6075 - mean_squared_error: 0.6075\n",
            "Epoch 3/10\n",
            "581/581 [==============================] - 1s 2ms/step - loss: 0.5457 - mean_squared_error: 0.5457\n",
            "Epoch 4/10\n",
            "581/581 [==============================] - 1s 2ms/step - loss: 0.5265 - mean_squared_error: 0.5265\n",
            "Epoch 5/10\n",
            "581/581 [==============================] - 1s 2ms/step - loss: 0.5140 - mean_squared_error: 0.5140\n",
            "Epoch 6/10\n",
            "581/581 [==============================] - 1s 2ms/step - loss: 0.5074 - mean_squared_error: 0.5074\n",
            "Epoch 7/10\n",
            "581/581 [==============================] - 1s 2ms/step - loss: 0.5006 - mean_squared_error: 0.5006\n",
            "Epoch 8/10\n",
            "581/581 [==============================] - 1s 2ms/step - loss: 0.4968 - mean_squared_error: 0.4968\n",
            "Epoch 9/10\n",
            "581/581 [==============================] - 1s 2ms/step - loss: 0.4921 - mean_squared_error: 0.4921\n",
            "Epoch 10/10\n",
            "581/581 [==============================] - 1s 2ms/step - loss: 0.4878 - mean_squared_error: 0.4878\n",
            "INFO:tensorflow:Assets written to: ./structured_data_regressor/best_model/assets\n",
            "65/65 [==============================] - 0s 2ms/step\n",
            "65/65 [==============================] - 0s 2ms/step - loss: 0.5804 - mean_squared_error: 0.5804\n",
            "[0.5804458260536194, 0.5804458260536194]\n"
          ]
        }
      ]
    },
    {
      "cell_type": "code",
      "source": [
        "model = reg.export_model()"
      ],
      "metadata": {
        "id": "y95lMqvrkf97"
      },
      "execution_count": 17,
      "outputs": []
    },
    {
      "cell_type": "code",
      "source": [
        "y_pred = model.predict(df[train_size:].iloc[:, :-1])\n",
        "y_pred"
      ],
      "metadata": {
        "colab": {
          "base_uri": "https://localhost:8080/"
        },
        "id": "OYbe6-QcoLIW",
        "outputId": "dac528a6-567e-4c79-e194-7cec08654dcc"
      },
      "execution_count": 18,
      "outputs": [
        {
          "output_type": "execute_result",
          "data": {
            "text/plain": [
              "array([[1.3512282],\n",
              "       [1.5916896],\n",
              "       [1.526486 ],\n",
              "       ...,\n",
              "       [1.7876022],\n",
              "       [1.8822197],\n",
              "       [1.7382846]], dtype=float32)"
            ]
          },
          "metadata": {},
          "execution_count": 18
        }
      ]
    },
    {
      "cell_type": "code",
      "source": [
        "tmp = pd.DataFrame()\n",
        "tmp[\"kol1\"] = pd.Series(y_pred.flatten())\n",
        "tmp[\"kol2\"] = df[train_size:].Price.reset_index(drop=True)\n",
        "tmp"
      ],
      "metadata": {
        "id": "FWDHerZ7ok_C",
        "colab": {
          "base_uri": "https://localhost:8080/",
          "height": 423
        },
        "outputId": "c0736a79-926d-48cb-cfb5-fde3f9df7925"
      },
      "execution_count": 19,
      "outputs": [
        {
          "output_type": "execute_result",
          "data": {
            "text/html": [
              "\n",
              "  <div id=\"df-6d768792-98ab-42ec-a91d-26e1b27b1ebd\">\n",
              "    <div class=\"colab-df-container\">\n",
              "      <div>\n",
              "<style scoped>\n",
              "    .dataframe tbody tr th:only-of-type {\n",
              "        vertical-align: middle;\n",
              "    }\n",
              "\n",
              "    .dataframe tbody tr th {\n",
              "        vertical-align: top;\n",
              "    }\n",
              "\n",
              "    .dataframe thead th {\n",
              "        text-align: right;\n",
              "    }\n",
              "</style>\n",
              "<table border=\"1\" class=\"dataframe\">\n",
              "  <thead>\n",
              "    <tr style=\"text-align: right;\">\n",
              "      <th></th>\n",
              "      <th>kol1</th>\n",
              "      <th>kol2</th>\n",
              "    </tr>\n",
              "  </thead>\n",
              "  <tbody>\n",
              "    <tr>\n",
              "      <th>0</th>\n",
              "      <td>1.351228</td>\n",
              "      <td>1.214</td>\n",
              "    </tr>\n",
              "    <tr>\n",
              "      <th>1</th>\n",
              "      <td>1.591690</td>\n",
              "      <td>1.904</td>\n",
              "    </tr>\n",
              "    <tr>\n",
              "      <th>2</th>\n",
              "      <td>1.526486</td>\n",
              "      <td>1.843</td>\n",
              "    </tr>\n",
              "    <tr>\n",
              "      <th>3</th>\n",
              "      <td>1.840640</td>\n",
              "      <td>1.900</td>\n",
              "    </tr>\n",
              "    <tr>\n",
              "      <th>4</th>\n",
              "      <td>1.396907</td>\n",
              "      <td>1.697</td>\n",
              "    </tr>\n",
              "    <tr>\n",
              "      <th>...</th>\n",
              "      <td>...</td>\n",
              "      <td>...</td>\n",
              "    </tr>\n",
              "    <tr>\n",
              "      <th>2059</th>\n",
              "      <td>1.565757</td>\n",
              "      <td>0.781</td>\n",
              "    </tr>\n",
              "    <tr>\n",
              "      <th>2060</th>\n",
              "      <td>1.319014</td>\n",
              "      <td>0.771</td>\n",
              "    </tr>\n",
              "    <tr>\n",
              "      <th>2061</th>\n",
              "      <td>1.787602</td>\n",
              "      <td>0.923</td>\n",
              "    </tr>\n",
              "    <tr>\n",
              "      <th>2062</th>\n",
              "      <td>1.882220</td>\n",
              "      <td>0.847</td>\n",
              "    </tr>\n",
              "    <tr>\n",
              "      <th>2063</th>\n",
              "      <td>1.738285</td>\n",
              "      <td>0.894</td>\n",
              "    </tr>\n",
              "  </tbody>\n",
              "</table>\n",
              "<p>2064 rows × 2 columns</p>\n",
              "</div>\n",
              "      <button class=\"colab-df-convert\" onclick=\"convertToInteractive('df-6d768792-98ab-42ec-a91d-26e1b27b1ebd')\"\n",
              "              title=\"Convert this dataframe to an interactive table.\"\n",
              "              style=\"display:none;\">\n",
              "        \n",
              "  <svg xmlns=\"http://www.w3.org/2000/svg\" height=\"24px\"viewBox=\"0 0 24 24\"\n",
              "       width=\"24px\">\n",
              "    <path d=\"M0 0h24v24H0V0z\" fill=\"none\"/>\n",
              "    <path d=\"M18.56 5.44l.94 2.06.94-2.06 2.06-.94-2.06-.94-.94-2.06-.94 2.06-2.06.94zm-11 1L8.5 8.5l.94-2.06 2.06-.94-2.06-.94L8.5 2.5l-.94 2.06-2.06.94zm10 10l.94 2.06.94-2.06 2.06-.94-2.06-.94-.94-2.06-.94 2.06-2.06.94z\"/><path d=\"M17.41 7.96l-1.37-1.37c-.4-.4-.92-.59-1.43-.59-.52 0-1.04.2-1.43.59L10.3 9.45l-7.72 7.72c-.78.78-.78 2.05 0 2.83L4 21.41c.39.39.9.59 1.41.59.51 0 1.02-.2 1.41-.59l7.78-7.78 2.81-2.81c.8-.78.8-2.07 0-2.86zM5.41 20L4 18.59l7.72-7.72 1.47 1.35L5.41 20z\"/>\n",
              "  </svg>\n",
              "      </button>\n",
              "      \n",
              "  <style>\n",
              "    .colab-df-container {\n",
              "      display:flex;\n",
              "      flex-wrap:wrap;\n",
              "      gap: 12px;\n",
              "    }\n",
              "\n",
              "    .colab-df-convert {\n",
              "      background-color: #E8F0FE;\n",
              "      border: none;\n",
              "      border-radius: 50%;\n",
              "      cursor: pointer;\n",
              "      display: none;\n",
              "      fill: #1967D2;\n",
              "      height: 32px;\n",
              "      padding: 0 0 0 0;\n",
              "      width: 32px;\n",
              "    }\n",
              "\n",
              "    .colab-df-convert:hover {\n",
              "      background-color: #E2EBFA;\n",
              "      box-shadow: 0px 1px 2px rgba(60, 64, 67, 0.3), 0px 1px 3px 1px rgba(60, 64, 67, 0.15);\n",
              "      fill: #174EA6;\n",
              "    }\n",
              "\n",
              "    [theme=dark] .colab-df-convert {\n",
              "      background-color: #3B4455;\n",
              "      fill: #D2E3FC;\n",
              "    }\n",
              "\n",
              "    [theme=dark] .colab-df-convert:hover {\n",
              "      background-color: #434B5C;\n",
              "      box-shadow: 0px 1px 3px 1px rgba(0, 0, 0, 0.15);\n",
              "      filter: drop-shadow(0px 1px 2px rgba(0, 0, 0, 0.3));\n",
              "      fill: #FFFFFF;\n",
              "    }\n",
              "  </style>\n",
              "\n",
              "      <script>\n",
              "        const buttonEl =\n",
              "          document.querySelector('#df-6d768792-98ab-42ec-a91d-26e1b27b1ebd button.colab-df-convert');\n",
              "        buttonEl.style.display =\n",
              "          google.colab.kernel.accessAllowed ? 'block' : 'none';\n",
              "\n",
              "        async function convertToInteractive(key) {\n",
              "          const element = document.querySelector('#df-6d768792-98ab-42ec-a91d-26e1b27b1ebd');\n",
              "          const dataTable =\n",
              "            await google.colab.kernel.invokeFunction('convertToInteractive',\n",
              "                                                     [key], {});\n",
              "          if (!dataTable) return;\n",
              "\n",
              "          const docLinkHtml = 'Like what you see? Visit the ' +\n",
              "            '<a target=\"_blank\" href=https://colab.research.google.com/notebooks/data_table.ipynb>data table notebook</a>'\n",
              "            + ' to learn more about interactive tables.';\n",
              "          element.innerHTML = '';\n",
              "          dataTable['output_type'] = 'display_data';\n",
              "          await google.colab.output.renderOutput(dataTable, element);\n",
              "          const docLink = document.createElement('div');\n",
              "          docLink.innerHTML = docLinkHtml;\n",
              "          element.appendChild(docLink);\n",
              "        }\n",
              "      </script>\n",
              "    </div>\n",
              "  </div>\n",
              "  "
            ],
            "text/plain": [
              "          kol1   kol2\n",
              "0     1.351228  1.214\n",
              "1     1.591690  1.904\n",
              "2     1.526486  1.843\n",
              "3     1.840640  1.900\n",
              "4     1.396907  1.697\n",
              "...        ...    ...\n",
              "2059  1.565757  0.781\n",
              "2060  1.319014  0.771\n",
              "2061  1.787602  0.923\n",
              "2062  1.882220  0.847\n",
              "2063  1.738285  0.894\n",
              "\n",
              "[2064 rows x 2 columns]"
            ]
          },
          "metadata": {},
          "execution_count": 19
        }
      ]
    },
    {
      "cell_type": "code",
      "source": [
        "import matplotlib.pyplot as plt\n",
        "\n",
        "plt.plot( tmp.kol1 - tmp.kol2 )"
      ],
      "metadata": {
        "colab": {
          "base_uri": "https://localhost:8080/",
          "height": 283
        },
        "id": "Hy88PMjXq00j",
        "outputId": "7ee4e7f6-f34b-4b04-981f-0a1a648ad42b"
      },
      "execution_count": 20,
      "outputs": [
        {
          "output_type": "execute_result",
          "data": {
            "text/plain": [
              "[<matplotlib.lines.Line2D at 0x7f535aff9cd0>]"
            ]
          },
          "metadata": {},
          "execution_count": 20
        },
        {
          "output_type": "display_data",
          "data": {
            "image/png": "[encoded data removed]",
            "text/plain": [
              "<Figure size 432x288 with 1 Axes>"
            ]
          },
          "metadata": {
            "needs_background": "light"
          }
        }
      ]
    },
    {
      "cell_type": "code",
      "source": [
        "r2_score(tmp.kol2, tmp.kol1)"
      ],
      "metadata": {
        "id": "5vcIkrIRrCgy",
        "colab": {
          "base_uri": "https://localhost:8080/"
        },
        "outputId": "d9fcac76-9e72-473f-80b0-2ce1143159b2"
      },
      "execution_count": 23,
      "outputs": [
        {
          "output_type": "execute_result",
          "data": {
            "text/plain": [
              "0.28273043121207253"
            ]
          },
          "metadata": {},
          "execution_count": 23
        }
      ]
    },
    {
      "cell_type": "code",
      "source": [
        ""
      ],
      "metadata": {
        "id": "TrMiqteqvRw5"
      },
      "execution_count": null,
      "outputs": []
    }
  ]
}