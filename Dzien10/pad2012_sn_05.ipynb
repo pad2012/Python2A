{
  "nbformat": 4,
  "nbformat_minor": 0,
  "metadata": {
    "colab": {
      "name": "pad2012-sn-05.ipynb",
      "provenance": [],
      "collapsed_sections": []
    },
    "kernelspec": {
      "name": "python3",
      "display_name": "Python 3"
    },
    "language_info": {
      "name": "python"
    },
    "accelerator": "GPU"
  },
  "cells": [
    {
      "cell_type": "code",
      "execution_count": 1,
      "metadata": {
        "id": "1wQSRj86jsmK"
      },
      "outputs": [],
      "source": [
        "import numpy as np\n",
        "import pandas as pd\n",
        "import matplotlib.pyplot as plt"
      ]
    },
    {
      "cell_type": "code",
      "source": [
        "from tensorflow.keras.models import Sequential\n",
        "from tensorflow.keras.layers import Dense, Flatten, Dropout\n",
        "from tensorflow.random import set_seed\n",
        "from tensorflow.keras.datasets.mnist import load_data"
      ],
      "metadata": {
        "id": "ClpoQmonj7WI"
      },
      "execution_count": 2,
      "outputs": []
    },
    {
      "cell_type": "code",
      "source": [
        "(X_train, y_train) , (X_test, y_test) = load_data()\n",
        "\n",
        "X_train = X_train / 255\n",
        "X_test = X_test / 255"
      ],
      "metadata": {
        "id": "Rwf-9AlGk9F_",
        "colab": {
          "base_uri": "https://localhost:8080/"
        },
        "outputId": "49abd898-3cf5-4c22-9b35-310454031ba6"
      },
      "execution_count": 3,
      "outputs": [
        {
          "output_type": "stream",
          "name": "stdout",
          "text": [
            "Downloading data from https://storage.googleapis.com/tensorflow/tf-keras-datasets/mnist.npz\n",
            "11493376/11490434 [==============================] - 1s 0us/step\n",
            "11501568/11490434 [==============================] - 1s 0us/step\n"
          ]
        }
      ]
    },
    {
      "cell_type": "code",
      "source": [
        "# tworzenie ANN\n",
        "def create_ANN():\n",
        "  set_seed(0)\n",
        "\n",
        "  model = Sequential()\n",
        "  model.add( Flatten(input_shape=(28,28)) ) # adapter danych wejściowych\n",
        "  model.add( Dense(128, activation=\"relu\") )\n",
        "  model.add( Dropout(0.2))\n",
        "\n",
        "  model.add( Dense(10, activation=\"softmax\") )  # warstwa wyjściowa\n",
        "  \n",
        "  model.compile(optimizer=\"rmsprop\", metrics=\"accuracy\", loss=\"sparse_categorical_crossentropy\")\n",
        "  \n",
        "  return model"
      ],
      "metadata": {
        "id": "3ffUp4Lxmhpo"
      },
      "execution_count": 4,
      "outputs": []
    },
    {
      "cell_type": "code",
      "source": [
        "from sklearn.metrics import confusion_matrix, accuracy_score"
      ],
      "metadata": {
        "id": "Gs854E77mvBL"
      },
      "execution_count": 6,
      "outputs": []
    },
    {
      "cell_type": "code",
      "source": [
        "model = create_ANN()\n",
        "model.fit(X_train, y_train, epochs=10, validation_split=0.2)"
      ],
      "metadata": {
        "colab": {
          "base_uri": "https://localhost:8080/"
        },
        "id": "lYPjskm5XIZF",
        "outputId": "5d185920-5345-4386-dd8f-566f0363e7b3"
      },
      "execution_count": 7,
      "outputs": [
        {
          "output_type": "stream",
          "name": "stdout",
          "text": [
            "Epoch 1/10\n",
            "1500/1500 [==============================] - 9s 4ms/step - loss: 0.3201 - accuracy: 0.9075 - val_loss: 0.1590 - val_accuracy: 0.9546\n",
            "Epoch 2/10\n",
            "1500/1500 [==============================] - 6s 4ms/step - loss: 0.1613 - accuracy: 0.9528 - val_loss: 0.1219 - val_accuracy: 0.9663\n",
            "Epoch 3/10\n",
            "1500/1500 [==============================] - 5s 3ms/step - loss: 0.1297 - accuracy: 0.9628 - val_loss: 0.1089 - val_accuracy: 0.9696\n",
            "Epoch 4/10\n",
            "1500/1500 [==============================] - 5s 3ms/step - loss: 0.1122 - accuracy: 0.9680 - val_loss: 0.1045 - val_accuracy: 0.9716\n",
            "Epoch 5/10\n",
            "1500/1500 [==============================] - 5s 3ms/step - loss: 0.1012 - accuracy: 0.9717 - val_loss: 0.1034 - val_accuracy: 0.9727\n",
            "Epoch 6/10\n",
            "1500/1500 [==============================] - 6s 4ms/step - loss: 0.0966 - accuracy: 0.9732 - val_loss: 0.1073 - val_accuracy: 0.9741\n",
            "Epoch 7/10\n",
            "1500/1500 [==============================] - 5s 3ms/step - loss: 0.0890 - accuracy: 0.9763 - val_loss: 0.1061 - val_accuracy: 0.9741\n",
            "Epoch 8/10\n",
            "1500/1500 [==============================] - 5s 3ms/step - loss: 0.0826 - accuracy: 0.9778 - val_loss: 0.1039 - val_accuracy: 0.9749\n",
            "Epoch 9/10\n",
            "1500/1500 [==============================] - 6s 4ms/step - loss: 0.0775 - accuracy: 0.9799 - val_loss: 0.1093 - val_accuracy: 0.9747\n",
            "Epoch 10/10\n",
            "1500/1500 [==============================] - 6s 4ms/step - loss: 0.0769 - accuracy: 0.9803 - val_loss: 0.1121 - val_accuracy: 0.9758\n"
          ]
        },
        {
          "output_type": "execute_result",
          "data": {
            "text/plain": [
              "<keras.callbacks.History at 0x7f6d25afa850>"
            ]
          },
          "metadata": {},
          "execution_count": 7
        }
      ]
    },
    {
      "cell_type": "markdown",
      "source": [
        "## Model checkpoint - zapis modelu w trakcie uczenia"
      ],
      "metadata": {
        "id": "jx7zPUSyYSzw"
      }
    },
    {
      "cell_type": "code",
      "source": [
        "from tensorflow.keras.callbacks import ModelCheckpoint"
      ],
      "metadata": {
        "id": "pQDpqJRLYYOZ"
      },
      "execution_count": 8,
      "outputs": []
    },
    {
      "cell_type": "code",
      "source": [
        "!rm -Rf checkpoint\n",
        "!mkdir checkpoint\n",
        "\n",
        "_filepath = \"checkpoint/ann-{epoch:02d}-{val_accuracy:.3f}.h5\"\n",
        "checkpoint = ModelCheckpoint(monitor=\"val_loss\", filepath=_filepath)"
      ],
      "metadata": {
        "id": "j-x5QHsEYeih"
      },
      "execution_count": 10,
      "outputs": []
    },
    {
      "cell_type": "code",
      "source": [
        ""
      ],
      "metadata": {
        "id": "qTWBpPY3Y-1a"
      },
      "execution_count": null,
      "outputs": []
    }
  ]
}