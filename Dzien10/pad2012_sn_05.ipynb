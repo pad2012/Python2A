{
  "nbformat": 4,
  "nbformat_minor": 0,
  "metadata": {
    "colab": {
      "name": "pad2012-sn-05.ipynb",
      "provenance": [],
      "collapsed_sections": []
    },
    "kernelspec": {
      "name": "python3",
      "display_name": "Python 3"
    },
    "language_info": {
      "name": "python"
    },
    "accelerator": "GPU"
  },
  "cells": [
    {
      "cell_type": "code",
      "execution_count": 1,
      "metadata": {
        "id": "1wQSRj86jsmK"
      },
      "outputs": [],
      "source": [
        "import numpy as np\n",
        "import pandas as pd\n",
        "import matplotlib.pyplot as plt"
      ]
    },
    {
      "cell_type": "code",
      "source": [
        "from tensorflow.keras.models import Sequential\n",
        "from tensorflow.keras.layers import Dense, Flatten, Dropout\n",
        "from tensorflow.random import set_seed\n",
        "from tensorflow.keras.datasets.mnist import load_data"
      ],
      "metadata": {
        "id": "ClpoQmonj7WI"
      },
      "execution_count": 2,
      "outputs": []
    },
    {
      "cell_type": "code",
      "source": [
        "(X_train, y_train) , (X_test, y_test) = load_data()\n",
        "\n",
        "X_train = X_train / 255\n",
        "X_test = X_test / 255"
      ],
      "metadata": {
        "id": "Rwf-9AlGk9F_",
        "colab": {
          "base_uri": "https://localhost:8080/"
        },
        "outputId": "8edc6027-9be6-48d3-9ad8-da292489ab64"
      },
      "execution_count": 3,
      "outputs": [
        {
          "output_type": "stream",
          "name": "stdout",
          "text": [
            "Downloading data from https://storage.googleapis.com/tensorflow/tf-keras-datasets/mnist.npz\n",
            "11493376/11490434 [==============================] - 0s 0us/step\n",
            "11501568/11490434 [==============================] - 0s 0us/step\n"
          ]
        }
      ]
    },
    {
      "cell_type": "code",
      "source": [
        "# tworzenie ANN\n",
        "def create_ANN():\n",
        "  set_seed(0)\n",
        "\n",
        "  model = Sequential()\n",
        "  model.add( Flatten(input_shape=(28,28)) ) # adapter danych wejściowych\n",
        "  model.add( Dense(128, activation=\"relu\") )\n",
        "  model.add( Dropout(0.2))\n",
        "\n",
        "  model.add( Dense(10, activation=\"softmax\") )  # warstwa wyjściowa\n",
        "  \n",
        "  model.compile(optimizer=\"rmsprop\", metrics=\"accuracy\", loss=\"sparse_categorical_crossentropy\")\n",
        "  \n",
        "  return model"
      ],
      "metadata": {
        "id": "3ffUp4Lxmhpo"
      },
      "execution_count": 4,
      "outputs": []
    },
    {
      "cell_type": "code",
      "source": [
        "from sklearn.metrics import confusion_matrix, accuracy_score"
      ],
      "metadata": {
        "id": "Gs854E77mvBL"
      },
      "execution_count": 5,
      "outputs": []
    },
    {
      "cell_type": "code",
      "source": [
        "model = create_ANN()\n",
        "model.fit(X_train, y_train, epochs=10, validation_split=0.2)"
      ],
      "metadata": {
        "colab": {
          "base_uri": "https://localhost:8080/"
        },
        "id": "lYPjskm5XIZF",
        "outputId": "ef533c80-2617-44b8-caea-7e0a2546071f"
      },
      "execution_count": 6,
      "outputs": [
        {
          "output_type": "stream",
          "name": "stdout",
          "text": [
            "Epoch 1/10\n",
            "1500/1500 [==============================] - 10s 4ms/step - loss: 0.3201 - accuracy: 0.9075 - val_loss: 0.1590 - val_accuracy: 0.9546\n",
            "Epoch 2/10\n",
            "1500/1500 [==============================] - 5s 4ms/step - loss: 0.1613 - accuracy: 0.9528 - val_loss: 0.1219 - val_accuracy: 0.9663\n",
            "Epoch 3/10\n",
            "1500/1500 [==============================] - 6s 4ms/step - loss: 0.1297 - accuracy: 0.9628 - val_loss: 0.1089 - val_accuracy: 0.9696\n",
            "Epoch 4/10\n",
            "1500/1500 [==============================] - 5s 4ms/step - loss: 0.1122 - accuracy: 0.9680 - val_loss: 0.1045 - val_accuracy: 0.9716\n",
            "Epoch 5/10\n",
            "1500/1500 [==============================] - 6s 4ms/step - loss: 0.1012 - accuracy: 0.9717 - val_loss: 0.1034 - val_accuracy: 0.9727\n",
            "Epoch 6/10\n",
            "1500/1500 [==============================] - 6s 4ms/step - loss: 0.0966 - accuracy: 0.9732 - val_loss: 0.1073 - val_accuracy: 0.9741\n",
            "Epoch 7/10\n",
            "1500/1500 [==============================] - 6s 4ms/step - loss: 0.0890 - accuracy: 0.9763 - val_loss: 0.1061 - val_accuracy: 0.9741\n",
            "Epoch 8/10\n",
            "1500/1500 [==============================] - 6s 4ms/step - loss: 0.0826 - accuracy: 0.9778 - val_loss: 0.1039 - val_accuracy: 0.9749\n",
            "Epoch 9/10\n",
            "1500/1500 [==============================] - 5s 4ms/step - loss: 0.0775 - accuracy: 0.9799 - val_loss: 0.1093 - val_accuracy: 0.9747\n",
            "Epoch 10/10\n",
            "1500/1500 [==============================] - 6s 4ms/step - loss: 0.0769 - accuracy: 0.9803 - val_loss: 0.1121 - val_accuracy: 0.9758\n"
          ]
        },
        {
          "output_type": "execute_result",
          "data": {
            "text/plain": [
              "<keras.callbacks.History at 0x7f95004fc650>"
            ]
          },
          "metadata": {},
          "execution_count": 6
        }
      ]
    },
    {
      "cell_type": "markdown",
      "source": [
        "## Model checkpoint - zapis modelu w trakcie uczenia"
      ],
      "metadata": {
        "id": "jx7zPUSyYSzw"
      }
    },
    {
      "cell_type": "code",
      "source": [
        "from tensorflow.keras.callbacks import ModelCheckpoint"
      ],
      "metadata": {
        "id": "pQDpqJRLYYOZ"
      },
      "execution_count": 7,
      "outputs": []
    },
    {
      "cell_type": "code",
      "source": [
        "!rm -Rf checkpoint\n",
        "!mkdir checkpoint\n",
        "\n",
        "_filepath = \"checkpoint/ann-{epoch:02d}-{val_accuracy:.3f}.h5\"\n",
        "checkpoint = ModelCheckpoint(monitor=\"val_loss\", filepath=_filepath)"
      ],
      "metadata": {
        "id": "j-x5QHsEYeih"
      },
      "execution_count": 9,
      "outputs": []
    },
    {
      "cell_type": "code",
      "source": [
        "model = create_ANN()\n",
        "model.fit(X_train, y_train, epochs=10, validation_split=0.2, callbacks=[checkpoint])"
      ],
      "metadata": {
        "colab": {
          "base_uri": "https://localhost:8080/"
        },
        "id": "qTWBpPY3Y-1a",
        "outputId": "a49807f5-1af3-45d9-ff38-9af82aff4424"
      },
      "execution_count": 10,
      "outputs": [
        {
          "output_type": "stream",
          "name": "stdout",
          "text": [
            "Epoch 1/10\n",
            "1500/1500 [==============================] - 6s 4ms/step - loss: 0.3201 - accuracy: 0.9075 - val_loss: 0.1590 - val_accuracy: 0.9546\n",
            "Epoch 2/10\n",
            "1500/1500 [==============================] - 6s 4ms/step - loss: 0.1613 - accuracy: 0.9528 - val_loss: 0.1219 - val_accuracy: 0.9663\n",
            "Epoch 3/10\n",
            "1500/1500 [==============================] - 6s 4ms/step - loss: 0.1297 - accuracy: 0.9628 - val_loss: 0.1089 - val_accuracy: 0.9696\n",
            "Epoch 4/10\n",
            "1500/1500 [==============================] - 6s 4ms/step - loss: 0.1122 - accuracy: 0.9680 - val_loss: 0.1045 - val_accuracy: 0.9716\n",
            "Epoch 5/10\n",
            "1500/1500 [==============================] - 6s 4ms/step - loss: 0.1012 - accuracy: 0.9717 - val_loss: 0.1034 - val_accuracy: 0.9727\n",
            "Epoch 6/10\n",
            "1500/1500 [==============================] - 6s 4ms/step - loss: 0.0966 - accuracy: 0.9732 - val_loss: 0.1073 - val_accuracy: 0.9741\n",
            "Epoch 7/10\n",
            "1500/1500 [==============================] - 5s 4ms/step - loss: 0.0890 - accuracy: 0.9763 - val_loss: 0.1061 - val_accuracy: 0.9741\n",
            "Epoch 8/10\n",
            "1500/1500 [==============================] - 6s 4ms/step - loss: 0.0826 - accuracy: 0.9778 - val_loss: 0.1039 - val_accuracy: 0.9749\n",
            "Epoch 9/10\n",
            "1500/1500 [==============================] - 5s 4ms/step - loss: 0.0775 - accuracy: 0.9799 - val_loss: 0.1093 - val_accuracy: 0.9747\n",
            "Epoch 10/10\n",
            "1500/1500 [==============================] - 5s 4ms/step - loss: 0.0769 - accuracy: 0.9803 - val_loss: 0.1121 - val_accuracy: 0.9758\n"
          ]
        },
        {
          "output_type": "execute_result",
          "data": {
            "text/plain": [
              "<keras.callbacks.History at 0x7f950016a050>"
            ]
          },
          "metadata": {},
          "execution_count": 10
        }
      ]
    },
    {
      "cell_type": "code",
      "source": [
        "from tensorflow.keras.models import load_model"
      ],
      "metadata": {
        "id": "Q3HsEM17qSty"
      },
      "execution_count": 11,
      "outputs": []
    },
    {
      "cell_type": "code",
      "source": [
        "model2 = load_model(\"checkpoint/ann-09-0.975.h5\")\n",
        "model2.summary()"
      ],
      "metadata": {
        "colab": {
          "base_uri": "https://localhost:8080/"
        },
        "id": "rrSRNCl3rNXc",
        "outputId": "2b4cb467-5265-4288-b6e7-6a026051983d"
      },
      "execution_count": 12,
      "outputs": [
        {
          "output_type": "stream",
          "name": "stdout",
          "text": [
            "Model: \"sequential_1\"\n",
            "_________________________________________________________________\n",
            " Layer (type)                Output Shape              Param #   \n",
            "=================================================================\n",
            " flatten_1 (Flatten)         (None, 784)               0         \n",
            "                                                                 \n",
            " dense_2 (Dense)             (None, 128)               100480    \n",
            "                                                                 \n",
            " dropout_1 (Dropout)         (None, 128)               0         \n",
            "                                                                 \n",
            " dense_3 (Dense)             (None, 10)                1290      \n",
            "                                                                 \n",
            "=================================================================\n",
            "Total params: 101,770\n",
            "Trainable params: 101,770\n",
            "Non-trainable params: 0\n",
            "_________________________________________________________________\n"
          ]
        }
      ]
    },
    {
      "cell_type": "code",
      "source": [
        "# zapisz najlepszej wersji sieci\n",
        "\n",
        "checkpoint = ModelCheckpoint(monitor=\"val_accuracy\", filepath=\"best-ann.h5\", save_best_only=True, verbose=1)\n",
        "\n",
        "model = create_ANN()\n",
        "model.fit(X_train, y_train, epochs=10, validation_split=0.2, callbacks=[checkpoint])"
      ],
      "metadata": {
        "id": "u2opwOh6rXIH"
      },
      "execution_count": null,
      "outputs": []
    },
    {
      "cell_type": "code",
      "source": [
        "# Early stopping \n",
        "from tensorflow.keras.callbacks import EarlyStopping"
      ],
      "metadata": {
        "id": "nquqRW-asXRf"
      },
      "execution_count": 14,
      "outputs": []
    },
    {
      "cell_type": "code",
      "source": [
        "es = EarlyStopping(monitor=\"val_loss\", patience=3, min_delta=0.02, verbose=1)\n",
        "\n",
        "model = create_ANN()\n",
        "model.fit(X_train, y_train, epochs=15, validation_split=0.2, callbacks=[es])"
      ],
      "metadata": {
        "colab": {
          "base_uri": "https://localhost:8080/"
        },
        "id": "l4mz1ylstftW",
        "outputId": "c7ae4a2e-65c4-4f8f-e186-4e0b18f44fe1"
      },
      "execution_count": 15,
      "outputs": [
        {
          "output_type": "stream",
          "name": "stdout",
          "text": [
            "Epoch 1/15\n",
            "1500/1500 [==============================] - 6s 4ms/step - loss: 0.3201 - accuracy: 0.9075 - val_loss: 0.1590 - val_accuracy: 0.9546\n",
            "Epoch 2/15\n",
            "1500/1500 [==============================] - 6s 4ms/step - loss: 0.1613 - accuracy: 0.9528 - val_loss: 0.1219 - val_accuracy: 0.9663\n",
            "Epoch 3/15\n",
            "1500/1500 [==============================] - 6s 4ms/step - loss: 0.1297 - accuracy: 0.9628 - val_loss: 0.1089 - val_accuracy: 0.9696\n",
            "Epoch 4/15\n",
            "1500/1500 [==============================] - 6s 4ms/step - loss: 0.1122 - accuracy: 0.9680 - val_loss: 0.1045 - val_accuracy: 0.9716\n",
            "Epoch 5/15\n",
            "1500/1500 [==============================] - 6s 4ms/step - loss: 0.1012 - accuracy: 0.9717 - val_loss: 0.1034 - val_accuracy: 0.9727\n",
            "Epoch 5: early stopping\n"
          ]
        },
        {
          "output_type": "execute_result",
          "data": {
            "text/plain": [
              "<keras.callbacks.History at 0x7f948ee3df90>"
            ]
          },
          "metadata": {},
          "execution_count": 15
        }
      ]
    },
    {
      "cell_type": "code",
      "source": [
        "# Tensorboard\n",
        "from tensorflow.keras.callbacks import TensorBoard\n",
        "from datetime import datetime as dt"
      ],
      "metadata": {
        "id": "C3sgS2zpuoq5"
      },
      "execution_count": 18,
      "outputs": []
    },
    {
      "cell_type": "code",
      "source": [
        "!rm -Rf logs\n",
        "\n",
        "tb = TensorBoard(log_dir=\"logs/\"+dt.now().strftime(\"%Y%m%d-%H%M%S\") )\n",
        "model = create_ANN()\n",
        "model.fit(X_train, y_train, epochs=10, validation_split=0.2, callbacks=[tb])"
      ],
      "metadata": {
        "colab": {
          "base_uri": "https://localhost:8080/"
        },
        "id": "s7sHx-srvBe6",
        "outputId": "5e511371-21ba-4cc7-cc3f-75191ea50034"
      },
      "execution_count": 19,
      "outputs": [
        {
          "output_type": "stream",
          "name": "stdout",
          "text": [
            "Epoch 1/10\n",
            "1500/1500 [==============================] - 6s 4ms/step - loss: 0.3201 - accuracy: 0.9075 - val_loss: 0.1590 - val_accuracy: 0.9546\n",
            "Epoch 2/10\n",
            "1500/1500 [==============================] - 7s 4ms/step - loss: 0.1613 - accuracy: 0.9528 - val_loss: 0.1219 - val_accuracy: 0.9663\n",
            "Epoch 3/10\n",
            "1500/1500 [==============================] - 6s 4ms/step - loss: 0.1297 - accuracy: 0.9628 - val_loss: 0.1089 - val_accuracy: 0.9696\n",
            "Epoch 4/10\n",
            "1500/1500 [==============================] - 6s 4ms/step - loss: 0.1122 - accuracy: 0.9680 - val_loss: 0.1045 - val_accuracy: 0.9716\n",
            "Epoch 5/10\n",
            "1500/1500 [==============================] - 6s 4ms/step - loss: 0.1012 - accuracy: 0.9717 - val_loss: 0.1034 - val_accuracy: 0.9727\n",
            "Epoch 6/10\n",
            "1500/1500 [==============================] - 6s 4ms/step - loss: 0.0966 - accuracy: 0.9732 - val_loss: 0.1073 - val_accuracy: 0.9741\n",
            "Epoch 7/10\n",
            "1500/1500 [==============================] - 6s 4ms/step - loss: 0.0890 - accuracy: 0.9763 - val_loss: 0.1061 - val_accuracy: 0.9741\n",
            "Epoch 8/10\n",
            "1500/1500 [==============================] - 6s 4ms/step - loss: 0.0826 - accuracy: 0.9778 - val_loss: 0.1039 - val_accuracy: 0.9749\n",
            "Epoch 9/10\n",
            "1500/1500 [==============================] - 5s 4ms/step - loss: 0.0775 - accuracy: 0.9799 - val_loss: 0.1093 - val_accuracy: 0.9747\n",
            "Epoch 10/10\n",
            "1500/1500 [==============================] - 5s 4ms/step - loss: 0.0769 - accuracy: 0.9803 - val_loss: 0.1121 - val_accuracy: 0.9758\n"
          ]
        },
        {
          "output_type": "execute_result",
          "data": {
            "text/plain": [
              "<keras.callbacks.History at 0x7f9582ce1690>"
            ]
          },
          "metadata": {},
          "execution_count": 19
        }
      ]
    },
    {
      "cell_type": "code",
      "source": [
        "dt.now()"
      ],
      "metadata": {
        "colab": {
          "base_uri": "https://localhost:8080/"
        },
        "id": "M3ykj8uuxTxZ",
        "outputId": "df9cfb5d-f97a-4837-c457-1c5d5dbe69d2"
      },
      "execution_count": 20,
      "outputs": [
        {
          "output_type": "execute_result",
          "data": {
            "text/plain": [
              "datetime.datetime(2022, 2, 16, 13, 44, 33, 981543)"
            ]
          },
          "metadata": {},
          "execution_count": 20
        }
      ]
    },
    {
      "cell_type": "code",
      "source": [
        "%load_ext tensorboard"
      ],
      "metadata": {
        "id": "-H8jRjlGxwru"
      },
      "execution_count": 21,
      "outputs": []
    },
    {
      "cell_type": "code",
      "source": [
        "%tensorboard --logdir logs"
      ],
      "metadata": {
        "id": "8PthNKd0yHCx"
      },
      "execution_count": null,
      "outputs": []
    },
    {
      "cell_type": "code",
      "source": [
        "# manulane przekazywanie danych walidacyjnych\n",
        "X_train.shape"
      ],
      "metadata": {
        "colab": {
          "base_uri": "https://localhost:8080/"
        },
        "id": "JdOv9ZKYyRkr",
        "outputId": "7b769bcf-2cc9-484c-8f65-359a35f6e687"
      },
      "execution_count": 23,
      "outputs": [
        {
          "output_type": "execute_result",
          "data": {
            "text/plain": [
              "(60000, 28, 28)"
            ]
          },
          "metadata": {},
          "execution_count": 23
        }
      ]
    },
    {
      "cell_type": "code",
      "source": [
        "X_train[0:55000].shape, X_train[55000:].shape"
      ],
      "metadata": {
        "colab": {
          "base_uri": "https://localhost:8080/"
        },
        "id": "_3c2PZZQzg-4",
        "outputId": "4e560120-f70d-45b6-b192-2c83bcf6b80f"
      },
      "execution_count": 25,
      "outputs": [
        {
          "output_type": "execute_result",
          "data": {
            "text/plain": [
              "((55000, 28, 28), (5000, 28, 28))"
            ]
          },
          "metadata": {},
          "execution_count": 25
        }
      ]
    },
    {
      "cell_type": "code",
      "source": [
        "LIMIT = 55000\n",
        "model = create_ANN()\n",
        "model.fit(X_train[:LIMIT], y_train[:LIMIT], epochs=10, validation_data=(X_train[LIMIT:], y_train[LIMIT:]) )"
      ],
      "metadata": {
        "colab": {
          "base_uri": "https://localhost:8080/"
        },
        "id": "JYOdaNFJz2l2",
        "outputId": "1aab38bb-69a2-46f8-d8e0-4cdbdf21f4a1"
      },
      "execution_count": 26,
      "outputs": [
        {
          "output_type": "stream",
          "name": "stdout",
          "text": [
            "Epoch 1/10\n",
            "1719/1719 [==============================] - 7s 4ms/step - loss: 0.3034 - accuracy: 0.9123 - val_loss: 0.1136 - val_accuracy: 0.9674\n",
            "Epoch 2/10\n",
            "1719/1719 [==============================] - 7s 4ms/step - loss: 0.1556 - accuracy: 0.9550 - val_loss: 0.0993 - val_accuracy: 0.9688\n",
            "Epoch 3/10\n",
            "1719/1719 [==============================] - 7s 4ms/step - loss: 0.1220 - accuracy: 0.9652 - val_loss: 0.0829 - val_accuracy: 0.9782\n",
            "Epoch 4/10\n",
            "1719/1719 [==============================] - 7s 4ms/step - loss: 0.1083 - accuracy: 0.9699 - val_loss: 0.0822 - val_accuracy: 0.9776\n",
            "Epoch 5/10\n",
            "1719/1719 [==============================] - 7s 4ms/step - loss: 0.0977 - accuracy: 0.9724 - val_loss: 0.0817 - val_accuracy: 0.9794\n",
            "Epoch 6/10\n",
            "1719/1719 [==============================] - 7s 4ms/step - loss: 0.0926 - accuracy: 0.9747 - val_loss: 0.0814 - val_accuracy: 0.9812\n",
            "Epoch 7/10\n",
            "1719/1719 [==============================] - 7s 4ms/step - loss: 0.0859 - accuracy: 0.9766 - val_loss: 0.0785 - val_accuracy: 0.9800\n",
            "Epoch 8/10\n",
            "1719/1719 [==============================] - 7s 4ms/step - loss: 0.0848 - accuracy: 0.9779 - val_loss: 0.0817 - val_accuracy: 0.9806\n",
            "Epoch 9/10\n",
            "1719/1719 [==============================] - 6s 4ms/step - loss: 0.0800 - accuracy: 0.9794 - val_loss: 0.0908 - val_accuracy: 0.9806\n",
            "Epoch 10/10\n",
            "1719/1719 [==============================] - 7s 4ms/step - loss: 0.0758 - accuracy: 0.9806 - val_loss: 0.0960 - val_accuracy: 0.9782\n"
          ]
        },
        {
          "output_type": "execute_result",
          "data": {
            "text/plain": [
              "<keras.callbacks.History at 0x7f9582aeb9d0>"
            ]
          },
          "metadata": {},
          "execution_count": 26
        }
      ]
    },
    {
      "cell_type": "code",
      "source": [
        "from tensorflow.keras.utils import plot_model"
      ],
      "metadata": {
        "id": "RznCwjQi0yPB"
      },
      "execution_count": 27,
      "outputs": []
    },
    {
      "cell_type": "code",
      "source": [
        "plot_model(model, to_file=\"ann.png\", show_shapes=True, show_layer_names=True, show_layer_activations=True)"
      ],
      "metadata": {
        "colab": {
          "base_uri": "https://localhost:8080/",
          "height": 533
        },
        "id": "sZLvZLtA1pXP",
        "outputId": "69a49dc3-84cf-4f39-8529-001b241c5780"
      },
      "execution_count": 30,
      "outputs": [
        {
          "output_type": "execute_result",
          "data": {
            "image/png": "[encoded data removed]",
            "text/plain": [
              "<IPython.core.display.Image object>"
            ]
          },
          "metadata": {},
          "execution_count": 30
        }
      ]
    },
    {
      "cell_type": "code",
      "source": [
        ""
      ],
      "metadata": {
        "id": "KjBfJSpn1rCQ"
      },
      "execution_count": null,
      "outputs": []
    }
  ]
}