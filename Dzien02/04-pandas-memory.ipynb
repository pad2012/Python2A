{
 "cells": [
  {
   "cell_type": "code",
   "execution_count": 1,
   "id": "6099b9aa",
   "metadata": {},
   "outputs": [],
   "source": [
    "import pandas as pd"
   ]
  },
  {
   "cell_type": "code",
   "execution_count": 2,
   "id": "dae6073b",
   "metadata": {},
   "outputs": [
    {
     "data": {
      "text/html": [
       "<div>\n",
       "<style scoped>\n",
       "    .dataframe tbody tr th:only-of-type {\n",
       "        vertical-align: middle;\n",
       "    }\n",
       "\n",
       "    .dataframe tbody tr th {\n",
       "        vertical-align: top;\n",
       "    }\n",
       "\n",
       "    .dataframe thead th {\n",
       "        text-align: right;\n",
       "    }\n",
       "</style>\n",
       "<table border=\"1\" class=\"dataframe\">\n",
       "  <thead>\n",
       "    <tr style=\"text-align: right;\">\n",
       "      <th></th>\n",
       "      <th>Region</th>\n",
       "      <th>Country</th>\n",
       "      <th>Item Type</th>\n",
       "      <th>Sales Channel</th>\n",
       "      <th>Order Priority</th>\n",
       "      <th>Order Date</th>\n",
       "      <th>Order ID</th>\n",
       "      <th>Ship Date</th>\n",
       "      <th>Units Sold</th>\n",
       "      <th>Unit Price</th>\n",
       "      <th>Unit Cost</th>\n",
       "      <th>Total Revenue</th>\n",
       "      <th>Total Cost</th>\n",
       "      <th>Total Profit</th>\n",
       "    </tr>\n",
       "  </thead>\n",
       "  <tbody>\n",
       "    <tr>\n",
       "      <th>0</th>\n",
       "      <td>Sub-Saharan Africa</td>\n",
       "      <td>South Africa</td>\n",
       "      <td>Fruits</td>\n",
       "      <td>Offline</td>\n",
       "      <td>M</td>\n",
       "      <td>7/27/2012</td>\n",
       "      <td>443368995</td>\n",
       "      <td>7/28/2012</td>\n",
       "      <td>1593</td>\n",
       "      <td>9.33</td>\n",
       "      <td>6.92</td>\n",
       "      <td>14862.69</td>\n",
       "      <td>11023.56</td>\n",
       "      <td>3839.13</td>\n",
       "    </tr>\n",
       "    <tr>\n",
       "      <th>1</th>\n",
       "      <td>Middle East and North Africa</td>\n",
       "      <td>Morocco</td>\n",
       "      <td>Clothes</td>\n",
       "      <td>Online</td>\n",
       "      <td>M</td>\n",
       "      <td>9/14/2013</td>\n",
       "      <td>667593514</td>\n",
       "      <td>10/19/2013</td>\n",
       "      <td>4611</td>\n",
       "      <td>109.28</td>\n",
       "      <td>35.84</td>\n",
       "      <td>503890.08</td>\n",
       "      <td>165258.24</td>\n",
       "      <td>338631.84</td>\n",
       "    </tr>\n",
       "    <tr>\n",
       "      <th>2</th>\n",
       "      <td>Australia and Oceania</td>\n",
       "      <td>Papua New Guinea</td>\n",
       "      <td>Meat</td>\n",
       "      <td>Offline</td>\n",
       "      <td>M</td>\n",
       "      <td>5/15/2015</td>\n",
       "      <td>940995585</td>\n",
       "      <td>6/4/2015</td>\n",
       "      <td>360</td>\n",
       "      <td>421.89</td>\n",
       "      <td>364.69</td>\n",
       "      <td>151880.40</td>\n",
       "      <td>131288.40</td>\n",
       "      <td>20592.00</td>\n",
       "    </tr>\n",
       "    <tr>\n",
       "      <th>3</th>\n",
       "      <td>Sub-Saharan Africa</td>\n",
       "      <td>Djibouti</td>\n",
       "      <td>Clothes</td>\n",
       "      <td>Offline</td>\n",
       "      <td>H</td>\n",
       "      <td>5/17/2017</td>\n",
       "      <td>880811536</td>\n",
       "      <td>7/2/2017</td>\n",
       "      <td>562</td>\n",
       "      <td>109.28</td>\n",
       "      <td>35.84</td>\n",
       "      <td>61415.36</td>\n",
       "      <td>20142.08</td>\n",
       "      <td>41273.28</td>\n",
       "    </tr>\n",
       "    <tr>\n",
       "      <th>4</th>\n",
       "      <td>Europe</td>\n",
       "      <td>Slovakia</td>\n",
       "      <td>Beverages</td>\n",
       "      <td>Offline</td>\n",
       "      <td>L</td>\n",
       "      <td>10/26/2016</td>\n",
       "      <td>174590194</td>\n",
       "      <td>12/4/2016</td>\n",
       "      <td>3973</td>\n",
       "      <td>47.45</td>\n",
       "      <td>31.79</td>\n",
       "      <td>188518.85</td>\n",
       "      <td>126301.67</td>\n",
       "      <td>62217.18</td>\n",
       "    </tr>\n",
       "    <tr>\n",
       "      <th>5</th>\n",
       "      <td>Asia</td>\n",
       "      <td>Sri Lanka</td>\n",
       "      <td>Fruits</td>\n",
       "      <td>Online</td>\n",
       "      <td>L</td>\n",
       "      <td>11/7/2011</td>\n",
       "      <td>830192887</td>\n",
       "      <td>12/18/2011</td>\n",
       "      <td>1379</td>\n",
       "      <td>9.33</td>\n",
       "      <td>6.92</td>\n",
       "      <td>12866.07</td>\n",
       "      <td>9542.68</td>\n",
       "      <td>3323.39</td>\n",
       "    </tr>\n",
       "    <tr>\n",
       "      <th>6</th>\n",
       "      <td>Sub-Saharan Africa</td>\n",
       "      <td>Seychelles</td>\n",
       "      <td>Beverages</td>\n",
       "      <td>Online</td>\n",
       "      <td>M</td>\n",
       "      <td>1/18/2013</td>\n",
       "      <td>425793445</td>\n",
       "      <td>2/16/2013</td>\n",
       "      <td>597</td>\n",
       "      <td>47.45</td>\n",
       "      <td>31.79</td>\n",
       "      <td>28327.65</td>\n",
       "      <td>18978.63</td>\n",
       "      <td>9349.02</td>\n",
       "    </tr>\n",
       "    <tr>\n",
       "      <th>7</th>\n",
       "      <td>Sub-Saharan Africa</td>\n",
       "      <td>Tanzania</td>\n",
       "      <td>Beverages</td>\n",
       "      <td>Online</td>\n",
       "      <td>L</td>\n",
       "      <td>11/30/2016</td>\n",
       "      <td>659878194</td>\n",
       "      <td>1/16/2017</td>\n",
       "      <td>1476</td>\n",
       "      <td>47.45</td>\n",
       "      <td>31.79</td>\n",
       "      <td>70036.20</td>\n",
       "      <td>46922.04</td>\n",
       "      <td>23114.16</td>\n",
       "    </tr>\n",
       "    <tr>\n",
       "      <th>8</th>\n",
       "      <td>Sub-Saharan Africa</td>\n",
       "      <td>Ghana</td>\n",
       "      <td>Office Supplies</td>\n",
       "      <td>Online</td>\n",
       "      <td>L</td>\n",
       "      <td>3/23/2017</td>\n",
       "      <td>601245963</td>\n",
       "      <td>4/15/2017</td>\n",
       "      <td>896</td>\n",
       "      <td>651.21</td>\n",
       "      <td>524.96</td>\n",
       "      <td>583484.16</td>\n",
       "      <td>470364.16</td>\n",
       "      <td>113120.00</td>\n",
       "    </tr>\n",
       "    <tr>\n",
       "      <th>9</th>\n",
       "      <td>Sub-Saharan Africa</td>\n",
       "      <td>Tanzania</td>\n",
       "      <td>Cosmetics</td>\n",
       "      <td>Offline</td>\n",
       "      <td>L</td>\n",
       "      <td>5/23/2016</td>\n",
       "      <td>739008080</td>\n",
       "      <td>5/24/2016</td>\n",
       "      <td>7768</td>\n",
       "      <td>437.20</td>\n",
       "      <td>263.33</td>\n",
       "      <td>3396169.60</td>\n",
       "      <td>2045547.44</td>\n",
       "      <td>1350622.16</td>\n",
       "    </tr>\n",
       "  </tbody>\n",
       "</table>\n",
       "</div>"
      ],
      "text/plain": [
       "                         Region           Country        Item Type  \\\n",
       "0            Sub-Saharan Africa      South Africa           Fruits   \n",
       "1  Middle East and North Africa           Morocco          Clothes   \n",
       "2         Australia and Oceania  Papua New Guinea             Meat   \n",
       "3            Sub-Saharan Africa          Djibouti          Clothes   \n",
       "4                        Europe          Slovakia        Beverages   \n",
       "5                          Asia         Sri Lanka           Fruits   \n",
       "6            Sub-Saharan Africa       Seychelles         Beverages   \n",
       "7            Sub-Saharan Africa          Tanzania        Beverages   \n",
       "8            Sub-Saharan Africa             Ghana  Office Supplies   \n",
       "9            Sub-Saharan Africa          Tanzania        Cosmetics   \n",
       "\n",
       "  Sales Channel Order Priority  Order Date   Order ID   Ship Date  Units Sold  \\\n",
       "0       Offline              M   7/27/2012  443368995   7/28/2012        1593   \n",
       "1        Online              M   9/14/2013  667593514  10/19/2013        4611   \n",
       "2       Offline              M   5/15/2015  940995585    6/4/2015         360   \n",
       "3       Offline              H   5/17/2017  880811536    7/2/2017         562   \n",
       "4       Offline              L  10/26/2016  174590194   12/4/2016        3973   \n",
       "5        Online              L   11/7/2011  830192887  12/18/2011        1379   \n",
       "6        Online              M   1/18/2013  425793445   2/16/2013         597   \n",
       "7        Online              L  11/30/2016  659878194   1/16/2017        1476   \n",
       "8        Online              L   3/23/2017  601245963   4/15/2017         896   \n",
       "9       Offline              L   5/23/2016  739008080   5/24/2016        7768   \n",
       "\n",
       "   Unit Price  Unit Cost  Total Revenue  Total Cost  Total Profit  \n",
       "0        9.33       6.92       14862.69    11023.56       3839.13  \n",
       "1      109.28      35.84      503890.08   165258.24     338631.84  \n",
       "2      421.89     364.69      151880.40   131288.40      20592.00  \n",
       "3      109.28      35.84       61415.36    20142.08      41273.28  \n",
       "4       47.45      31.79      188518.85   126301.67      62217.18  \n",
       "5        9.33       6.92       12866.07     9542.68       3323.39  \n",
       "6       47.45      31.79       28327.65    18978.63       9349.02  \n",
       "7       47.45      31.79       70036.20    46922.04      23114.16  \n",
       "8      651.21     524.96      583484.16   470364.16     113120.00  \n",
       "9      437.20     263.33     3396169.60  2045547.44    1350622.16  "
      ]
     },
     "execution_count": 2,
     "metadata": {},
     "output_type": "execute_result"
    }
   ],
   "source": [
    "df = pd.read_csv(r\"C:/Users/kurs/Downloads/sales-records.csv\")\n",
    "df.head(10)"
   ]
  },
  {
   "cell_type": "code",
   "execution_count": 3,
   "id": "535df9ec",
   "metadata": {},
   "outputs": [
    {
     "data": {
      "text/plain": [
       "Region             object\n",
       "Country            object\n",
       "Item Type          object\n",
       "Sales Channel      object\n",
       "Order Priority     object\n",
       "Order Date         object\n",
       "Order ID            int64\n",
       "Ship Date          object\n",
       "Units Sold          int64\n",
       "Unit Price        float64\n",
       "Unit Cost         float64\n",
       "Total Revenue     float64\n",
       "Total Cost        float64\n",
       "Total Profit      float64\n",
       "dtype: object"
      ]
     },
     "execution_count": 3,
     "metadata": {},
     "output_type": "execute_result"
    }
   ],
   "source": [
    "df.dtypes"
   ]
  },
  {
   "cell_type": "code",
   "execution_count": 4,
   "id": "f1348a89",
   "metadata": {},
   "outputs": [
    {
     "data": {
      "text/plain": [
       "(1000000, 14)"
      ]
     },
     "execution_count": 4,
     "metadata": {},
     "output_type": "execute_result"
    }
   ],
   "source": [
    "df.shape"
   ]
  },
  {
   "cell_type": "code",
   "execution_count": 5,
   "id": "b5b00522",
   "metadata": {},
   "outputs": [
    {
     "data": {
      "text/plain": [
       "112000128"
      ]
     },
     "execution_count": 5,
     "metadata": {},
     "output_type": "execute_result"
    }
   ],
   "source": [
    "df.memory_usage().sum()"
   ]
  },
  {
   "cell_type": "code",
   "execution_count": 6,
   "id": "e2cb0249",
   "metadata": {},
   "outputs": [
    {
     "data": {
      "text/plain": [
       "513707055"
      ]
     },
     "execution_count": 6,
     "metadata": {},
     "output_type": "execute_result"
    }
   ],
   "source": [
    "df.memory_usage(deep=True).sum()"
   ]
  },
  {
   "cell_type": "code",
   "execution_count": 7,
   "id": "5856d163",
   "metadata": {},
   "outputs": [
    {
     "data": {
      "text/plain": [
       "array(['Sub-Saharan Africa', 'Middle East and North Africa',\n",
       "       'Australia and Oceania', 'Europe', 'Asia',\n",
       "       'Central America and the Caribbean', 'North America'], dtype=object)"
      ]
     },
     "execution_count": 7,
     "metadata": {},
     "output_type": "execute_result"
    }
   ],
   "source": [
    "df.Region.unique()"
   ]
  },
  {
   "cell_type": "code",
   "execution_count": 8,
   "id": "8e5bdc45",
   "metadata": {},
   "outputs": [
    {
     "data": {
      "text/plain": [
       "185"
      ]
     },
     "execution_count": 8,
     "metadata": {},
     "output_type": "execute_result"
    }
   ],
   "source": [
    "len(df.Country.unique())"
   ]
  },
  {
   "cell_type": "code",
   "execution_count": 9,
   "id": "3ea7a55b",
   "metadata": {},
   "outputs": [
    {
     "data": {
      "text/plain": [
       "Index(['Region', 'Country', 'Item Type', 'Sales Channel', 'Order Priority',\n",
       "       'Order Date', 'Order ID', 'Ship Date', 'Units Sold', 'Unit Price',\n",
       "       'Unit Cost', 'Total Revenue', 'Total Cost', 'Total Profit'],\n",
       "      dtype='object')"
      ]
     },
     "execution_count": 9,
     "metadata": {},
     "output_type": "execute_result"
    }
   ],
   "source": [
    "df.columns"
   ]
  },
  {
   "cell_type": "code",
   "execution_count": 10,
   "id": "f691f5d8",
   "metadata": {},
   "outputs": [
    {
     "name": "stdout",
     "output_type": "stream",
     "text": [
      "Region\n",
      "Country\n",
      "Item Type\n",
      "Sales Channel\n",
      "Order Priority\n"
     ]
    }
   ],
   "source": [
    "# kategoryzacja kolumn tekstowych\n",
    "for col in ['Region', 'Country', 'Item Type', 'Sales Channel', 'Order Priority']:\n",
    "    df[col] = df[col].astype(\"category\")\n",
    "    print(col)"
   ]
  },
  {
   "cell_type": "code",
   "execution_count": 11,
   "id": "af19e9b6",
   "metadata": {},
   "outputs": [
    {
     "data": {
      "text/plain": [
       "Region            category\n",
       "Country           category\n",
       "Item Type         category\n",
       "Sales Channel     category\n",
       "Order Priority    category\n",
       "Order Date          object\n",
       "Order ID             int64\n",
       "Ship Date           object\n",
       "Units Sold           int64\n",
       "Unit Price         float64\n",
       "Unit Cost          float64\n",
       "Total Revenue      float64\n",
       "Total Cost         float64\n",
       "Total Profit       float64\n",
       "dtype: object"
      ]
     },
     "execution_count": 11,
     "metadata": {},
     "output_type": "execute_result"
    }
   ],
   "source": [
    "df.dtypes"
   ]
  },
  {
   "cell_type": "code",
   "execution_count": 12,
   "id": "b4097563",
   "metadata": {},
   "outputs": [
    {
     "data": {
      "text/plain": [
       "184.9105167388916"
      ]
     },
     "execution_count": 12,
     "metadata": {},
     "output_type": "execute_result"
    }
   ],
   "source": [
    "df.memory_usage(deep=True).sum() / (1024*1024)"
   ]
  },
  {
   "cell_type": "code",
   "execution_count": 13,
   "id": "c3956afb",
   "metadata": {},
   "outputs": [
    {
     "data": {
      "text/html": [
       "<div>\n",
       "<style scoped>\n",
       "    .dataframe tbody tr th:only-of-type {\n",
       "        vertical-align: middle;\n",
       "    }\n",
       "\n",
       "    .dataframe tbody tr th {\n",
       "        vertical-align: top;\n",
       "    }\n",
       "\n",
       "    .dataframe thead th {\n",
       "        text-align: right;\n",
       "    }\n",
       "</style>\n",
       "<table border=\"1\" class=\"dataframe\">\n",
       "  <thead>\n",
       "    <tr style=\"text-align: right;\">\n",
       "      <th></th>\n",
       "      <th>Order ID</th>\n",
       "      <th>Units Sold</th>\n",
       "      <th>Unit Price</th>\n",
       "      <th>Unit Cost</th>\n",
       "      <th>Total Revenue</th>\n",
       "      <th>Total Cost</th>\n",
       "      <th>Total Profit</th>\n",
       "    </tr>\n",
       "  </thead>\n",
       "  <tbody>\n",
       "    <tr>\n",
       "      <th>count</th>\n",
       "      <td>1.000000e+06</td>\n",
       "      <td>1000000.000000</td>\n",
       "      <td>1000000.000000</td>\n",
       "      <td>1000000.000000</td>\n",
       "      <td>1.000000e+06</td>\n",
       "      <td>1.000000e+06</td>\n",
       "      <td>1.000000e+06</td>\n",
       "    </tr>\n",
       "    <tr>\n",
       "      <th>mean</th>\n",
       "      <td>5.493520e+08</td>\n",
       "      <td>4998.867302</td>\n",
       "      <td>266.025488</td>\n",
       "      <td>187.522978</td>\n",
       "      <td>1.329563e+06</td>\n",
       "      <td>9.372671e+05</td>\n",
       "      <td>3.922956e+05</td>\n",
       "    </tr>\n",
       "    <tr>\n",
       "      <th>std</th>\n",
       "      <td>2.599397e+08</td>\n",
       "      <td>2885.334142</td>\n",
       "      <td>216.987966</td>\n",
       "      <td>175.650798</td>\n",
       "      <td>1.468527e+06</td>\n",
       "      <td>1.148954e+06</td>\n",
       "      <td>3.788199e+05</td>\n",
       "    </tr>\n",
       "    <tr>\n",
       "      <th>min</th>\n",
       "      <td>1.000012e+08</td>\n",
       "      <td>1.000000</td>\n",
       "      <td>9.330000</td>\n",
       "      <td>6.920000</td>\n",
       "      <td>9.330000e+00</td>\n",
       "      <td>6.920000e+00</td>\n",
       "      <td>2.410000e+00</td>\n",
       "    </tr>\n",
       "    <tr>\n",
       "      <th>25%</th>\n",
       "      <td>3.239629e+08</td>\n",
       "      <td>2502.000000</td>\n",
       "      <td>81.730000</td>\n",
       "      <td>35.840000</td>\n",
       "      <td>2.778672e+05</td>\n",
       "      <td>1.617289e+05</td>\n",
       "      <td>9.510480e+04</td>\n",
       "    </tr>\n",
       "    <tr>\n",
       "      <th>50%</th>\n",
       "      <td>5.486524e+08</td>\n",
       "      <td>4998.000000</td>\n",
       "      <td>154.060000</td>\n",
       "      <td>97.440000</td>\n",
       "      <td>7.844445e+05</td>\n",
       "      <td>4.667818e+05</td>\n",
       "      <td>2.810549e+05</td>\n",
       "    </tr>\n",
       "    <tr>\n",
       "      <th>75%</th>\n",
       "      <td>7.745981e+08</td>\n",
       "      <td>7496.000000</td>\n",
       "      <td>421.890000</td>\n",
       "      <td>263.330000</td>\n",
       "      <td>1.822444e+06</td>\n",
       "      <td>1.196327e+06</td>\n",
       "      <td>5.653076e+05</td>\n",
       "    </tr>\n",
       "    <tr>\n",
       "      <th>max</th>\n",
       "      <td>9.999999e+08</td>\n",
       "      <td>10000.000000</td>\n",
       "      <td>668.270000</td>\n",
       "      <td>524.960000</td>\n",
       "      <td>6.682700e+06</td>\n",
       "      <td>5.249600e+06</td>\n",
       "      <td>1.738700e+06</td>\n",
       "    </tr>\n",
       "  </tbody>\n",
       "</table>\n",
       "</div>"
      ],
      "text/plain": [
       "           Order ID      Units Sold      Unit Price       Unit Cost  \\\n",
       "count  1.000000e+06  1000000.000000  1000000.000000  1000000.000000   \n",
       "mean   5.493520e+08     4998.867302      266.025488      187.522978   \n",
       "std    2.599397e+08     2885.334142      216.987966      175.650798   \n",
       "min    1.000012e+08        1.000000        9.330000        6.920000   \n",
       "25%    3.239629e+08     2502.000000       81.730000       35.840000   \n",
       "50%    5.486524e+08     4998.000000      154.060000       97.440000   \n",
       "75%    7.745981e+08     7496.000000      421.890000      263.330000   \n",
       "max    9.999999e+08    10000.000000      668.270000      524.960000   \n",
       "\n",
       "       Total Revenue    Total Cost  Total Profit  \n",
       "count   1.000000e+06  1.000000e+06  1.000000e+06  \n",
       "mean    1.329563e+06  9.372671e+05  3.922956e+05  \n",
       "std     1.468527e+06  1.148954e+06  3.788199e+05  \n",
       "min     9.330000e+00  6.920000e+00  2.410000e+00  \n",
       "25%     2.778672e+05  1.617289e+05  9.510480e+04  \n",
       "50%     7.844445e+05  4.667818e+05  2.810549e+05  \n",
       "75%     1.822444e+06  1.196327e+06  5.653076e+05  \n",
       "max     6.682700e+06  5.249600e+06  1.738700e+06  "
      ]
     },
     "execution_count": 13,
     "metadata": {},
     "output_type": "execute_result"
    }
   ],
   "source": [
    "df.describe()"
   ]
  },
  {
   "cell_type": "code",
   "execution_count": 14,
   "id": "6867f682",
   "metadata": {},
   "outputs": [
    {
     "data": {
      "text/plain": [
       "179.1884708404541"
      ]
     },
     "execution_count": 14,
     "metadata": {},
     "output_type": "execute_result"
    }
   ],
   "source": [
    "df[\"Units Sold\"] = df[\"Units Sold\"].astype('uint16')\n",
    "df.memory_usage(deep=True).sum() / (1024*1024)"
   ]
  },
  {
   "cell_type": "code",
   "execution_count": 15,
   "id": "d15eb63f",
   "metadata": {},
   "outputs": [
    {
     "data": {
      "text/plain": [
       "171.5590763092041"
      ]
     },
     "execution_count": 15,
     "metadata": {},
     "output_type": "execute_result"
    }
   ],
   "source": [
    "df[\"Unit Price\"] = df[\"Unit Price\"].astype('float32')\n",
    "df[\"Unit Cost\"] = df[\"Unit Cost\"].astype('float32')\n",
    "df.memory_usage(deep=True).sum() / (1024*1024)"
   ]
  },
  {
   "cell_type": "code",
   "execution_count": 20,
   "id": "9cbbae8e",
   "metadata": {},
   "outputs": [
    {
     "data": {
      "text/plain": [
       "61.05331039428711"
      ]
     },
     "execution_count": 20,
     "metadata": {},
     "output_type": "execute_result"
    }
   ],
   "source": [
    "df[\"Order Date\"] = pd.to_datetime(df[\"Order Date\"], format=\"%m/%d/%Y\", errors=\"coerce\")\n",
    "df[\"Ship Date\"] = pd.to_datetime(df[\"Ship Date\"], format=\"%m/%d/%Y\", errors=\"coerce\")\n",
    "df.memory_usage(deep=True).sum() / (1024*1024)"
   ]
  },
  {
   "cell_type": "code",
   "execution_count": 21,
   "id": "f8f794d0",
   "metadata": {},
   "outputs": [
    {
     "data": {
      "text/plain": [
       "Region                  category\n",
       "Country                 category\n",
       "Item Type               category\n",
       "Sales Channel           category\n",
       "Order Priority          category\n",
       "Order Date        datetime64[ns]\n",
       "Order ID                   int64\n",
       "Ship Date         datetime64[ns]\n",
       "Units Sold                uint16\n",
       "Unit Price               float32\n",
       "Unit Cost                float32\n",
       "Total Revenue            float64\n",
       "Total Cost               float64\n",
       "Total Profit             float64\n",
       "dtype: object"
      ]
     },
     "execution_count": 21,
     "metadata": {},
     "output_type": "execute_result"
    }
   ],
   "source": [
    "df.dtypes"
   ]
  },
  {
   "cell_type": "code",
   "execution_count": 23,
   "id": "d8db073f",
   "metadata": {},
   "outputs": [
    {
     "data": {
      "text/plain": [
       "numpy.float32"
      ]
     },
     "execution_count": 23,
     "metadata": {},
     "output_type": "execute_result"
    }
   ],
   "source": [
    "type(df[\"Unit Price\"].sum())"
   ]
  },
  {
   "cell_type": "code",
   "execution_count": null,
   "id": "583dd9c0",
   "metadata": {},
   "outputs": [],
   "source": []
  }
 ],
 "metadata": {
  "kernelspec": {
   "display_name": "Python 3 (ipykernel)",
   "language": "python",
   "name": "python3"
  },
  "language_info": {
   "codemirror_mode": {
    "name": "ipython",
    "version": 3
   },
   "file_extension": ".py",
   "mimetype": "text/x-python",
   "name": "python",
   "nbconvert_exporter": "python",
   "pygments_lexer": "ipython3",
   "version": "3.9.7"
  }
 },
 "nbformat": 4,
 "nbformat_minor": 5
}
