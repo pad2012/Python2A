{
  "nbformat": 4,
  "nbformat_minor": 0,
  "metadata": {
    "colab": {
      "name": "pad2021-cnn-digits-02.ipynb",
      "provenance": [],
      "collapsed_sections": []
    },
    "kernelspec": {
      "name": "python3",
      "display_name": "Python 3"
    },
    "language_info": {
      "name": "python"
    },
    "accelerator": "GPU"
  },
  "cells": [
    {
      "cell_type": "code",
      "execution_count": 1,
      "metadata": {
        "id": "nAhmrjG5OOMZ"
      },
      "outputs": [],
      "source": [
        "import numpy as np\n",
        "import pandas as pd\n",
        "import matplotlib.pyplot as plt"
      ]
    },
    {
      "cell_type": "code",
      "source": [
        "from tensorflow.keras.models import Sequential\n",
        "from tensorflow.keras.layers import Dense, Flatten, Dropout, Conv2D, MaxPool2D\n",
        "from tensorflow.random import set_seed\n",
        "from tensorflow.keras.datasets.mnist import load_data\n",
        "from sklearn.model_selection import train_test_split"
      ],
      "metadata": {
        "id": "l2zoeDs5Ogop"
      },
      "execution_count": 3,
      "outputs": []
    },
    {
      "cell_type": "code",
      "source": [
        "(X_train, y_train) , (X_test, y_test) = load_data()\n",
        "X_train, X_val, y_train, y_val = train_test_split(X_train, y_train, test_size=.25, random_state=42)"
      ],
      "metadata": {
        "colab": {
          "base_uri": "https://localhost:8080/"
        },
        "id": "vSvwm0-xPQK6",
        "outputId": "9d26c585-84e3-43ad-d432-405e5779846a"
      },
      "execution_count": 4,
      "outputs": [
        {
          "output_type": "stream",
          "name": "stdout",
          "text": [
            "Downloading data from https://storage.googleapis.com/tensorflow/tf-keras-datasets/mnist.npz\n",
            "11493376/11490434 [==============================] - 0s 0us/step\n",
            "11501568/11490434 [==============================] - 0s 0us/step\n"
          ]
        }
      ]
    },
    {
      "cell_type": "code",
      "source": [
        "X_train = X_train / 255\n",
        "X_val = X_val / 255\n",
        "X_test = X_test / 255"
      ],
      "metadata": {
        "id": "S1sdh29cP7vV"
      },
      "execution_count": 7,
      "outputs": []
    },
    {
      "cell_type": "code",
      "source": [
        "# funkcja do wizualizacji dokładności sieci\n",
        "def plot_accuracy(result):\n",
        "  plt.figure(figsize=(12,6))\n",
        "  plt.plot(result.history[\"accuracy\"], c=\"r\")\n",
        "  plt.plot(result.history[\"val_accuracy\"], c=\"b\")\n",
        "  plt.legend([\"accuracy\", \"val_accuracy\"])\n",
        "  plt.show()"
      ],
      "metadata": {
        "id": "G0r6Ni4YQDP8"
      },
      "execution_count": 14,
      "outputs": []
    },
    {
      "cell_type": "code",
      "source": [
        "# budowanie sieci CNN\n",
        "\n",
        "X_train_cnn = X_train.reshape( X_train.shape[0], 28, 28, 1 )\n",
        "X_val_cnn = X_val.reshape( X_val.shape[0], 28, 28, 1 )\n",
        "X_test_cnn = X_test.reshape( X_test.shape[0], 28, 28, 1 )\n",
        "\n",
        "set_seed(0)\n",
        "model = Sequential()\n",
        "\n",
        "model.add( Conv2D(64, kernel_size=(3,3), input_shape=(28,28,1), activation=\"relu\" ) )\n",
        "model.add( MaxPool2D(pool_size=(2,2))  )\n",
        "\n",
        "model.add( Dropout(.2) )\n",
        "\n",
        "model.add(Flatten())\n",
        "\n",
        "model.add(Dense(128, activation=\"relu\"))\n",
        "model.add(Dense(10, activation=\"softmax\"))\n",
        "\n",
        "#kompilacja sieci\n",
        "model.compile(loss=\"sparse_categorical_crossentropy\", metrics=\"accuracy\")\n",
        "result = model.fit(X_train_cnn, y_train, epochs=15, validation_data=(X_val_cnn, y_val) )"
      ],
      "metadata": {
        "id": "qzq0gH2cQ7oj"
      },
      "execution_count": null,
      "outputs": []
    },
    {
      "cell_type": "code",
      "source": [
        "model.evaluate(X_test_cnn, y_test, verbose=0)"
      ],
      "metadata": {
        "colab": {
          "base_uri": "https://localhost:8080/"
        },
        "id": "_Ydl_lGcRLah",
        "outputId": "94e8decd-bca9-4f4e-f64f-f8326d0c6e4b"
      },
      "execution_count": 12,
      "outputs": [
        {
          "output_type": "execute_result",
          "data": {
            "text/plain": [
              "[0.0857352465391159, 0.9858999848365784]"
            ]
          },
          "metadata": {},
          "execution_count": 12
        }
      ]
    },
    {
      "cell_type": "code",
      "source": [
        "plot_accuracy(result)"
      ],
      "metadata": {
        "colab": {
          "base_uri": "https://localhost:8080/",
          "height": 375
        },
        "id": "buc4VztGVrhB",
        "outputId": "cf36101f-f2c0-4487-e51b-34b3cfa735ee"
      },
      "execution_count": 15,
      "outputs": [
        {
          "output_type": "display_data",
          "data": {
            "image/png": "[encoded data removed]",
            "text/plain": [
              "<Figure size 864x432 with 1 Axes>"
            ]
          },
          "metadata": {
            "needs_background": "light"
          }
        }
      ]
    },
    {
      "cell_type": "code",
      "source": [
        "model.summary()"
      ],
      "metadata": {
        "colab": {
          "base_uri": "https://localhost:8080/"
        },
        "id": "h37OayzNVzwI",
        "outputId": "2fed425e-880a-4190-fc26-8efe0d1056de"
      },
      "execution_count": 16,
      "outputs": [
        {
          "output_type": "stream",
          "name": "stdout",
          "text": [
            "Model: \"sequential_1\"\n",
            "_________________________________________________________________\n",
            " Layer (type)                Output Shape              Param #   \n",
            "=================================================================\n",
            " conv2d (Conv2D)             (None, 26, 26, 64)        640       \n",
            "                                                                 \n",
            " max_pooling2d (MaxPooling2D  (None, 13, 13, 64)       0         \n",
            " )                                                               \n",
            "                                                                 \n",
            " dropout (Dropout)           (None, 13, 13, 64)        0         \n",
            "                                                                 \n",
            " flatten (Flatten)           (None, 10816)             0         \n",
            "                                                                 \n",
            " dense (Dense)               (None, 128)               1384576   \n",
            "                                                                 \n",
            " dense_1 (Dense)             (None, 10)                1290      \n",
            "                                                                 \n",
            "=================================================================\n",
            "Total params: 1,386,506\n",
            "Trainable params: 1,386,506\n",
            "Non-trainable params: 0\n",
            "_________________________________________________________________\n"
          ]
        }
      ]
    },
    {
      "cell_type": "code",
      "source": [
        "# budowanie sieci CNN - v2\n",
        "\n",
        "X_train_cnn = X_train.reshape( X_train.shape[0], 28, 28, 1 )\n",
        "X_val_cnn = X_val.reshape( X_val.shape[0], 28, 28, 1 )\n",
        "X_test_cnn = X_test.reshape( X_test.shape[0], 28, 28, 1 )\n",
        "\n",
        "set_seed(0)\n",
        "model = Sequential()\n",
        "\n",
        "model.add( Conv2D(64, kernel_size=(3,3), input_shape=(28,28,1), activation=\"relu\" ) )\n",
        "model.add( MaxPool2D(pool_size=(2,2))  )\n",
        "model.add( Dropout(.2) )\n",
        "\n",
        "model.add( Conv2D(128, kernel_size=(3,3),  activation=\"relu\" ) )\n",
        "model.add( MaxPool2D(pool_size=(2,2))  )\n",
        "model.add( Dropout(.2) )\n",
        "\n",
        "model.add(Flatten())\n",
        "\n",
        "model.add(Dense(128, activation=\"relu\"))\n",
        "model.add(Dense(10, activation=\"softmax\"))\n",
        "\n",
        "#kompilacja sieci\n",
        "model.compile(loss=\"sparse_categorical_crossentropy\", metrics=\"accuracy\")\n",
        "result = model.fit(X_train_cnn, y_train, epochs=15, validation_data=(X_val_cnn, y_val) )"
      ],
      "metadata": {
        "colab": {
          "base_uri": "https://localhost:8080/"
        },
        "id": "WNZNUO13Y_0p",
        "outputId": "868665e7-d12c-4c64-9206-b288247fc4fe"
      },
      "execution_count": 17,
      "outputs": [
        {
          "output_type": "stream",
          "name": "stdout",
          "text": [
            "Epoch 1/15\n",
            "1407/1407 [==============================] - 17s 11ms/step - loss: 0.1413 - accuracy: 0.9561 - val_loss: 0.0493 - val_accuracy: 0.9846\n",
            "Epoch 2/15\n",
            "1407/1407 [==============================] - 16s 11ms/step - loss: 0.0497 - accuracy: 0.9846 - val_loss: 0.0478 - val_accuracy: 0.9869\n",
            "Epoch 3/15\n",
            "1407/1407 [==============================] - 16s 11ms/step - loss: 0.0385 - accuracy: 0.9883 - val_loss: 0.0491 - val_accuracy: 0.9867\n",
            "Epoch 4/15\n",
            "1407/1407 [==============================] - 15s 11ms/step - loss: 0.0327 - accuracy: 0.9902 - val_loss: 0.0445 - val_accuracy: 0.9887\n",
            "Epoch 5/15\n",
            "1407/1407 [==============================] - 16s 11ms/step - loss: 0.0300 - accuracy: 0.9911 - val_loss: 0.0359 - val_accuracy: 0.9890\n",
            "Epoch 6/15\n",
            "1407/1407 [==============================] - 15s 10ms/step - loss: 0.0267 - accuracy: 0.9923 - val_loss: 0.0422 - val_accuracy: 0.9893\n",
            "Epoch 7/15\n",
            "1407/1407 [==============================] - 16s 11ms/step - loss: 0.0240 - accuracy: 0.9934 - val_loss: 0.0395 - val_accuracy: 0.9889\n",
            "Epoch 8/15\n",
            "1407/1407 [==============================] - 15s 11ms/step - loss: 0.0231 - accuracy: 0.9935 - val_loss: 0.0391 - val_accuracy: 0.9907\n",
            "Epoch 9/15\n",
            "1407/1407 [==============================] - 15s 10ms/step - loss: 0.0228 - accuracy: 0.9938 - val_loss: 0.0365 - val_accuracy: 0.9915\n",
            "Epoch 10/15\n",
            "1407/1407 [==============================] - 16s 11ms/step - loss: 0.0189 - accuracy: 0.9944 - val_loss: 0.0420 - val_accuracy: 0.9919\n",
            "Epoch 11/15\n",
            "1407/1407 [==============================] - 15s 10ms/step - loss: 0.0197 - accuracy: 0.9948 - val_loss: 0.0445 - val_accuracy: 0.9918\n",
            "Epoch 12/15\n",
            "1407/1407 [==============================] - 16s 11ms/step - loss: 0.0178 - accuracy: 0.9953 - val_loss: 0.0903 - val_accuracy: 0.9798\n",
            "Epoch 13/15\n",
            "1407/1407 [==============================] - 16s 11ms/step - loss: 0.0166 - accuracy: 0.9954 - val_loss: 0.0490 - val_accuracy: 0.9913\n",
            "Epoch 14/15\n",
            "1407/1407 [==============================] - 16s 11ms/step - loss: 0.0176 - accuracy: 0.9952 - val_loss: 0.0458 - val_accuracy: 0.9907\n",
            "Epoch 15/15\n",
            "1407/1407 [==============================] - 16s 11ms/step - loss: 0.0178 - accuracy: 0.9950 - val_loss: 0.0503 - val_accuracy: 0.9913\n"
          ]
        }
      ]
    },
    {
      "cell_type": "code",
      "source": [
        "plot_accuracy(result)"
      ],
      "metadata": {
        "colab": {
          "base_uri": "https://localhost:8080/",
          "height": 374
        },
        "id": "Wp_TR7eQaPM9",
        "outputId": "20279bc4-df28-4552-edc9-df504a0a0382"
      },
      "execution_count": 18,
      "outputs": [
        {
          "output_type": "display_data",
          "data": {
            "image/png": "[encoded data removed]",
            "text/plain": [
              "<Figure size 864x432 with 1 Axes>"
            ]
          },
          "metadata": {
            "needs_background": "light"
          }
        }
      ]
    },
    {
      "cell_type": "code",
      "source": [
        "model.summary()\n",
        "model.save(\"cnn-mnist-2.h5\")"
      ],
      "metadata": {
        "colab": {
          "base_uri": "https://localhost:8080/"
        },
        "id": "4xIbBHlKbWWC",
        "outputId": "5947ad55-0f81-4bb2-e158-d531dc55214e"
      },
      "execution_count": 21,
      "outputs": [
        {
          "output_type": "stream",
          "name": "stdout",
          "text": [
            "Model: \"sequential_2\"\n",
            "_________________________________________________________________\n",
            " Layer (type)                Output Shape              Param #   \n",
            "=================================================================\n",
            " conv2d_1 (Conv2D)           (None, 26, 26, 64)        640       \n",
            "                                                                 \n",
            " max_pooling2d_1 (MaxPooling  (None, 13, 13, 64)       0         \n",
            " 2D)                                                             \n",
            "                                                                 \n",
            " dropout_1 (Dropout)         (None, 13, 13, 64)        0         \n",
            "                                                                 \n",
            " conv2d_2 (Conv2D)           (None, 11, 11, 128)       73856     \n",
            "                                                                 \n",
            " max_pooling2d_2 (MaxPooling  (None, 5, 5, 128)        0         \n",
            " 2D)                                                             \n",
            "                                                                 \n",
            " dropout_2 (Dropout)         (None, 5, 5, 128)         0         \n",
            "                                                                 \n",
            " flatten_1 (Flatten)         (None, 3200)              0         \n",
            "                                                                 \n",
            " dense_2 (Dense)             (None, 128)               409728    \n",
            "                                                                 \n",
            " dense_3 (Dense)             (None, 10)                1290      \n",
            "                                                                 \n",
            "=================================================================\n",
            "Total params: 485,514\n",
            "Trainable params: 485,514\n",
            "Non-trainable params: 0\n",
            "_________________________________________________________________\n"
          ]
        }
      ]
    },
    {
      "cell_type": "code",
      "source": [
        "import tensorflow as tf"
      ],
      "metadata": {
        "id": "c00fv2TVbx1p"
      },
      "execution_count": 20,
      "outputs": []
    },
    {
      "cell_type": "code",
      "source": [
        "# budowanie sieci CNN - v3\n",
        "\n",
        "X_train_cnn = X_train.reshape( X_train.shape[0], 28, 28, 1 )\n",
        "X_val_cnn = X_val.reshape( X_val.shape[0], 28, 28, 1 )\n",
        "X_test_cnn = X_test.reshape( X_test.shape[0], 28, 28, 1 )\n",
        "\n",
        "set_seed(0)\n",
        "model = Sequential()\n",
        "\n",
        "model.add( Conv2D(64, kernel_size=(3,3), input_shape=(28,28,1), activation=\"relu\" ) )\n",
        "model.add( MaxPool2D(pool_size=(2,2))  )\n",
        "model.add( Dropout(.2) )\n",
        "\n",
        "model.add( Conv2D(128, kernel_size=(3,3),  activation=\"relu\" ) )\n",
        "model.add( MaxPool2D(pool_size=(2,2))  )\n",
        "model.add( Dropout(.2) )\n",
        "\n",
        "\n",
        "model.add( Conv2D(64, kernel_size=(3,3),  activation=\"relu\" ) )\n",
        "model.add( MaxPool2D(pool_size=(2,2))  )\n",
        "model.add( Dropout(.2) )\n",
        "\n",
        "model.add(Flatten())\n",
        "\n",
        "model.add(Dense(128, activation=\"relu\"))\n",
        "model.add(Dense(10, activation=\"softmax\"))\n",
        "\n",
        "es = tf.keras.callbacks.EarlyStopping(min_delta=0.01, patience=5, verbose=1)\n",
        "\n",
        "#kompilacja sieci\n",
        "model.compile(loss=\"sparse_categorical_crossentropy\", metrics=\"accuracy\")\n",
        "result = model.fit(X_train_cnn, y_train, epochs=15, validation_data=(X_val_cnn, y_val), callbacks=[es] )"
      ],
      "metadata": {
        "colab": {
          "base_uri": "https://localhost:8080/"
        },
        "id": "hU4mk-yhcRKf",
        "outputId": "349f7775-07f8-4172-a275-2a6ac2d413e2"
      },
      "execution_count": 22,
      "outputs": [
        {
          "output_type": "stream",
          "name": "stdout",
          "text": [
            "Epoch 1/15\n",
            "1407/1407 [==============================] - 20s 13ms/step - loss: 0.3128 - accuracy: 0.9012 - val_loss: 0.0881 - val_accuracy: 0.9729\n",
            "Epoch 2/15\n",
            "1407/1407 [==============================] - 17s 12ms/step - loss: 0.1133 - accuracy: 0.9661 - val_loss: 0.0749 - val_accuracy: 0.9781\n",
            "Epoch 3/15\n",
            "1407/1407 [==============================] - 18s 13ms/step - loss: 0.0890 - accuracy: 0.9739 - val_loss: 0.0677 - val_accuracy: 0.9805\n",
            "Epoch 4/15\n",
            "1407/1407 [==============================] - 17s 12ms/step - loss: 0.0742 - accuracy: 0.9787 - val_loss: 0.0645 - val_accuracy: 0.9821\n",
            "Epoch 5/15\n",
            "1407/1407 [==============================] - 18s 13ms/step - loss: 0.0722 - accuracy: 0.9795 - val_loss: 0.0590 - val_accuracy: 0.9826\n",
            "Epoch 6/15\n",
            "1407/1407 [==============================] - 17s 12ms/step - loss: 0.0716 - accuracy: 0.9802 - val_loss: 0.0512 - val_accuracy: 0.9853\n",
            "Epoch 7/15\n",
            "1407/1407 [==============================] - 18s 13ms/step - loss: 0.0702 - accuracy: 0.9810 - val_loss: 0.0593 - val_accuracy: 0.9837\n",
            "Epoch 8/15\n",
            "1407/1407 [==============================] - 18s 13ms/step - loss: 0.0716 - accuracy: 0.9812 - val_loss: 0.0582 - val_accuracy: 0.9836\n",
            "Epoch 9/15\n",
            "1407/1407 [==============================] - 18s 13ms/step - loss: 0.0738 - accuracy: 0.9806 - val_loss: 0.0497 - val_accuracy: 0.9845\n",
            "Epoch 10/15\n",
            "1407/1407 [==============================] - 18s 13ms/step - loss: 0.0741 - accuracy: 0.9790 - val_loss: 0.0509 - val_accuracy: 0.9865\n",
            "Epoch 11/15\n",
            "1407/1407 [==============================] - 18s 13ms/step - loss: 0.0751 - accuracy: 0.9809 - val_loss: 0.0709 - val_accuracy: 0.9796\n",
            "Epoch 11: early stopping\n"
          ]
        }
      ]
    },
    {
      "cell_type": "code",
      "source": [
        "plot_accuracy(result)"
      ],
      "metadata": {
        "colab": {
          "base_uri": "https://localhost:8080/",
          "height": 374
        },
        "id": "SiEtvosGdFKO",
        "outputId": "c01d45a6-f7c0-40f8-9082-f389aef6c455"
      },
      "execution_count": 23,
      "outputs": [
        {
          "output_type": "display_data",
          "data": {
            "image/png": "[encoded data removed]",
            "text/plain": [
              "<Figure size 864x432 with 1 Axes>"
            ]
          },
          "metadata": {
            "needs_background": "light"
          }
        }
      ]
    },
    {
      "cell_type": "code",
      "source": [
        "model2 = tf.keras.models.load_model(\"cnn-mnist-2.h5\")"
      ],
      "metadata": {
        "id": "VSDTfnEXg1nG"
      },
      "execution_count": 30,
      "outputs": []
    },
    {
      "cell_type": "code",
      "source": [
        "IMG_INDEX = 666\n",
        "y_test[IMG_INDEX]"
      ],
      "metadata": {
        "colab": {
          "base_uri": "https://localhost:8080/"
        },
        "id": "MStktQ1jeQS9",
        "outputId": "5fac6022-dfef-412b-e750-253f3cf73a53"
      },
      "execution_count": 60,
      "outputs": [
        {
          "output_type": "execute_result",
          "data": {
            "text/plain": [
              "7"
            ]
          },
          "metadata": {},
          "execution_count": 60
        }
      ]
    },
    {
      "cell_type": "code",
      "source": [
        "plt.imshow(X_test[IMG_INDEX], \"gray_r\")"
      ],
      "metadata": {
        "colab": {
          "base_uri": "https://localhost:8080/",
          "height": 283
        },
        "id": "km3LVr2ne6Ae",
        "outputId": "a0cf9ac3-57d4-4f2b-90b8-fb1a8766528c"
      },
      "execution_count": 61,
      "outputs": [
        {
          "output_type": "execute_result",
          "data": {
            "text/plain": [
              "<matplotlib.image.AxesImage at 0x7fc50a7e77d0>"
            ]
          },
          "metadata": {},
          "execution_count": 61
        },
        {
          "output_type": "display_data",
          "data": {
            "image/png": "[encoded data removed]",
            "text/plain": [
              "<Figure size 432x288 with 1 Axes>"
            ]
          },
          "metadata": {
            "needs_background": "light"
          }
        }
      ]
    },
    {
      "cell_type": "code",
      "source": [
        ""
      ],
      "metadata": {
        "id": "4AyAK3aOkFFH"
      },
      "execution_count": null,
      "outputs": []
    },
    {
      "cell_type": "code",
      "source": [
        "model.predict( X_test[IMG_INDEX].reshape(1,28,28,1) )"
      ],
      "metadata": {
        "colab": {
          "base_uri": "https://localhost:8080/"
        },
        "id": "w36ewS6JfF7p",
        "outputId": "429ab84b-ad59-473c-e976-93782aee2e82"
      },
      "execution_count": 62,
      "outputs": [
        {
          "output_type": "execute_result",
          "data": {
            "text/plain": [
              "array([[3.6687768e-04, 2.9651036e-03, 4.4234474e-03, 4.8529755e-04,\n",
              "        3.8815179e-04, 5.9653325e-05, 1.5516108e-07, 9.7601414e-01,\n",
              "        8.4091378e-05, 1.5213164e-02]], dtype=float32)"
            ]
          },
          "metadata": {},
          "execution_count": 62
        }
      ]
    },
    {
      "cell_type": "code",
      "source": [
        "np.argmax( model.predict( X_test[IMG_INDEX].reshape(1,28,28,1) ) )"
      ],
      "metadata": {
        "colab": {
          "base_uri": "https://localhost:8080/"
        },
        "id": "e4z3f3Uyff4Y",
        "outputId": "4dc805c9-aaf7-4b8b-c06a-4db816a41444"
      },
      "execution_count": 63,
      "outputs": [
        {
          "output_type": "execute_result",
          "data": {
            "text/plain": [
              "7"
            ]
          },
          "metadata": {},
          "execution_count": 63
        }
      ]
    },
    {
      "cell_type": "code",
      "source": [
        "np.random.seed(0)\n",
        "tmp = X_test[IMG_INDEX] + np.random.normal(0.5, 0.1, (28,28))\n",
        "plt.imshow(tmp, 'gray_r')"
      ],
      "metadata": {
        "colab": {
          "base_uri": "https://localhost:8080/",
          "height": 283
        },
        "id": "DOE29tOkfurZ",
        "outputId": "556d3cff-e044-4c31-86db-25472dc2923a"
      },
      "execution_count": 64,
      "outputs": [
        {
          "output_type": "execute_result",
          "data": {
            "text/plain": [
              "<matplotlib.image.AxesImage at 0x7fc50a7560d0>"
            ]
          },
          "metadata": {},
          "execution_count": 64
        },
        {
          "output_type": "display_data",
          "data": {
            "image/png": "[encoded data removed]",
            "text/plain": [
              "<Figure size 432x288 with 1 Axes>"
            ]
          },
          "metadata": {
            "needs_background": "light"
          }
        }
      ]
    },
    {
      "cell_type": "code",
      "source": [
        "np.argmax( model.predict( tmp.reshape(1,28,28,1) ) ) , np.argmax( model2.predict( tmp.reshape(1,28,28,1) ) )"
      ],
      "metadata": {
        "colab": {
          "base_uri": "https://localhost:8080/"
        },
        "id": "RaS6VhEUgXf_",
        "outputId": "aae70161-606c-4b6e-cfd7-fb8927bec978"
      },
      "execution_count": 65,
      "outputs": [
        {
          "output_type": "execute_result",
          "data": {
            "text/plain": [
              "(8, 7)"
            ]
          },
          "metadata": {},
          "execution_count": 65
        }
      ]
    },
    {
      "cell_type": "code",
      "source": [
        ""
      ],
      "metadata": {
        "id": "n_EnhdhViHUk"
      },
      "execution_count": 65,
      "outputs": []
    }
  ]
}