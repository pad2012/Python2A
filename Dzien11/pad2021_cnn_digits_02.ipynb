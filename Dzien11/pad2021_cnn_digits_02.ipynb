{
  "nbformat": 4,
  "nbformat_minor": 0,
  "metadata": {
    "colab": {
      "name": "pad2021-cnn-digits-02.ipynb",
      "provenance": []
    },
    "kernelspec": {
      "name": "python3",
      "display_name": "Python 3"
    },
    "language_info": {
      "name": "python"
    },
    "accelerator": "GPU"
  },
  "cells": [
    {
      "cell_type": "code",
      "execution_count": 1,
      "metadata": {
        "id": "nAhmrjG5OOMZ"
      },
      "outputs": [],
      "source": [
        "import numpy as np\n",
        "import pandas as pd\n",
        "import matplotlib.pyplot as plt"
      ]
    },
    {
      "cell_type": "code",
      "source": [
        "from tensorflow.keras.models import Sequential\n",
        "from tensorflow.keras.layers import Dense, Flatten, Dropout, Conv2D, MaxPool2D\n",
        "from tensorflow.random import set_seed\n",
        "from tensorflow.keras.datasets.mnist import load_data\n",
        "from sklearn.model_selection import train_test_split"
      ],
      "metadata": {
        "id": "l2zoeDs5Ogop"
      },
      "execution_count": 3,
      "outputs": []
    },
    {
      "cell_type": "code",
      "source": [
        "(X_train, y_train) , (X_test, y_test) = load_data()\n",
        "X_train, X_val, y_train, y_val = train_test_split(X_train, y_train, test_size=.25, random_state=42)"
      ],
      "metadata": {
        "colab": {
          "base_uri": "https://localhost:8080/"
        },
        "id": "vSvwm0-xPQK6",
        "outputId": "9d26c585-84e3-43ad-d432-405e5779846a"
      },
      "execution_count": 4,
      "outputs": [
        {
          "output_type": "stream",
          "name": "stdout",
          "text": [
            "Downloading data from https://storage.googleapis.com/tensorflow/tf-keras-datasets/mnist.npz\n",
            "11493376/11490434 [==============================] - 0s 0us/step\n",
            "11501568/11490434 [==============================] - 0s 0us/step\n"
          ]
        }
      ]
    },
    {
      "cell_type": "code",
      "source": [
        "X_train = X_train / 255\n",
        "X_val = X_val / 255\n",
        "X_test = X_test / 255"
      ],
      "metadata": {
        "id": "S1sdh29cP7vV"
      },
      "execution_count": 7,
      "outputs": []
    },
    {
      "cell_type": "code",
      "source": [
        "# funkcja do wizualizacji dokładności sieci\n",
        "def plot_accuracy(result):\n",
        "  plt.figure(figsize=(12,6))\n",
        "  plt.plot(result.history[\"accuracy\"], c=\"r\")\n",
        "  plt.plot(result.history[\"val_accuracy\"], c=\"b\")\n",
        "  plt.legend([\"accuracy\", \"val_accuracy\"])\n",
        "  plt.show()"
      ],
      "metadata": {
        "id": "G0r6Ni4YQDP8"
      },
      "execution_count": 14,
      "outputs": []
    },
    {
      "cell_type": "code",
      "source": [
        "# budowanie sieci CNN\n",
        "\n",
        "X_train_cnn = X_train.reshape( X_train.shape[0], 28, 28, 1 )\n",
        "X_val_cnn = X_val.reshape( X_val.shape[0], 28, 28, 1 )\n",
        "X_test_cnn = X_test.reshape( X_test.shape[0], 28, 28, 1 )\n",
        "\n",
        "set_seed(0)\n",
        "model = Sequential()\n",
        "\n",
        "model.add( Conv2D(64, kernel_size=(3,3), input_shape=(28,28,1), activation=\"relu\" ) )\n",
        "model.add( MaxPool2D(pool_size=(2,2))  )\n",
        "\n",
        "model.add( Dropout(.2) )\n",
        "\n",
        "model.add(Flatten())\n",
        "\n",
        "model.add(Dense(128, activation=\"relu\"))\n",
        "model.add(Dense(10, activation=\"softmax\"))\n",
        "\n",
        "#kompilacja sieci\n",
        "model.compile(loss=\"sparse_categorical_crossentropy\", metrics=\"accuracy\")\n",
        "result = model.fit(X_train_cnn, y_train, epochs=15, validation_data=(X_val_cnn, y_val) )"
      ],
      "metadata": {
        "colab": {
          "base_uri": "https://localhost:8080/"
        },
        "id": "qzq0gH2cQ7oj",
        "outputId": "4895e005-de6f-4ebc-cbed-91520064412f"
      },
      "execution_count": 11,
      "outputs": [
        {
          "output_type": "stream",
          "name": "stdout",
          "text": [
            "Epoch 1/15\n",
            "1407/1407 [==============================] - 21s 8ms/step - loss: 0.1629 - accuracy: 0.9512 - val_loss: 0.0702 - val_accuracy: 0.9799\n",
            "Epoch 2/15\n",
            "1407/1407 [==============================] - 13s 9ms/step - loss: 0.0615 - accuracy: 0.9818 - val_loss: 0.0601 - val_accuracy: 0.9830\n",
            "Epoch 3/15\n",
            "1407/1407 [==============================] - 12s 9ms/step - loss: 0.0445 - accuracy: 0.9864 - val_loss: 0.0501 - val_accuracy: 0.9861\n",
            "Epoch 4/15\n",
            "1407/1407 [==============================] - 11s 8ms/step - loss: 0.0341 - accuracy: 0.9897 - val_loss: 0.0543 - val_accuracy: 0.9855\n",
            "Epoch 5/15\n",
            "1407/1407 [==============================] - 12s 9ms/step - loss: 0.0281 - accuracy: 0.9917 - val_loss: 0.0526 - val_accuracy: 0.9868\n",
            "Epoch 6/15\n",
            "1407/1407 [==============================] - 12s 8ms/step - loss: 0.0229 - accuracy: 0.9934 - val_loss: 0.0547 - val_accuracy: 0.9864\n",
            "Epoch 7/15\n",
            "1407/1407 [==============================] - 11s 8ms/step - loss: 0.0190 - accuracy: 0.9947 - val_loss: 0.0533 - val_accuracy: 0.9867\n",
            "Epoch 8/15\n",
            "1407/1407 [==============================] - 12s 9ms/step - loss: 0.0166 - accuracy: 0.9951 - val_loss: 0.0665 - val_accuracy: 0.9856\n",
            "Epoch 9/15\n",
            "1407/1407 [==============================] - 12s 9ms/step - loss: 0.0142 - accuracy: 0.9962 - val_loss: 0.0588 - val_accuracy: 0.9858\n",
            "Epoch 10/15\n",
            "1407/1407 [==============================] - 12s 9ms/step - loss: 0.0114 - accuracy: 0.9966 - val_loss: 0.0676 - val_accuracy: 0.9877\n",
            "Epoch 11/15\n",
            "1407/1407 [==============================] - 11s 8ms/step - loss: 0.0107 - accuracy: 0.9968 - val_loss: 0.0766 - val_accuracy: 0.9862\n",
            "Epoch 12/15\n",
            "1407/1407 [==============================] - 12s 9ms/step - loss: 0.0096 - accuracy: 0.9974 - val_loss: 0.0779 - val_accuracy: 0.9853\n",
            "Epoch 13/15\n",
            "1407/1407 [==============================] - 11s 8ms/step - loss: 0.0074 - accuracy: 0.9978 - val_loss: 0.1051 - val_accuracy: 0.9847\n",
            "Epoch 14/15\n",
            "1407/1407 [==============================] - 11s 8ms/step - loss: 0.0073 - accuracy: 0.9977 - val_loss: 0.0846 - val_accuracy: 0.9867\n",
            "Epoch 15/15\n",
            "1407/1407 [==============================] - 11s 8ms/step - loss: 0.0058 - accuracy: 0.9982 - val_loss: 0.0936 - val_accuracy: 0.9867\n"
          ]
        }
      ]
    },
    {
      "cell_type": "code",
      "source": [
        "model.evaluate(X_test_cnn, y_test, verbose=0)"
      ],
      "metadata": {
        "colab": {
          "base_uri": "https://localhost:8080/"
        },
        "id": "_Ydl_lGcRLah",
        "outputId": "94e8decd-bca9-4f4e-f64f-f8326d0c6e4b"
      },
      "execution_count": 12,
      "outputs": [
        {
          "output_type": "execute_result",
          "data": {
            "text/plain": [
              "[0.0857352465391159, 0.9858999848365784]"
            ]
          },
          "metadata": {},
          "execution_count": 12
        }
      ]
    },
    {
      "cell_type": "code",
      "source": [
        "plot_accuracy(result)"
      ],
      "metadata": {
        "colab": {
          "base_uri": "https://localhost:8080/",
          "height": 375
        },
        "id": "buc4VztGVrhB",
        "outputId": "cf36101f-f2c0-4487-e51b-34b3cfa735ee"
      },
      "execution_count": 15,
      "outputs": [
        {
          "output_type": "display_data",
          "data": {
            "image/png": "[encoded data removed]",
            "text/plain": [
              "<Figure size 864x432 with 1 Axes>"
            ]
          },
          "metadata": {
            "needs_background": "light"
          }
        }
      ]
    },
    {
      "cell_type": "code",
      "source": [
        ""
      ],
      "metadata": {
        "id": "h37OayzNVzwI"
      },
      "execution_count": null,
      "outputs": []
    }
  ]
}