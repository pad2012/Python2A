{
  "nbformat": 4,
  "nbformat_minor": 0,
  "metadata": {
    "colab": {
      "name": "pad2021-cifar10-test-01.ipynb",
      "provenance": [],
      "collapsed_sections": []
    },
    "kernelspec": {
      "name": "python3",
      "display_name": "Python 3"
    },
    "language_info": {
      "name": "python"
    }
  },
  "cells": [
    {
      "cell_type": "code",
      "execution_count": 1,
      "metadata": {
        "id": "Bq8B9Zgs3dNe"
      },
      "outputs": [],
      "source": [
        "import numpy as np\n",
        "import tensorflow as tf"
      ]
    },
    {
      "cell_type": "code",
      "source": [
        "!wget -O cnn2.h5 http://51.91.120.89/extras/cnn/cnn2.h5"
      ],
      "metadata": {
        "colab": {
          "base_uri": "https://localhost:8080/"
        },
        "id": "RS5Ou5KX3_yU",
        "outputId": "3b6af916-aa1b-401c-9ea8-a521b596c640"
      },
      "execution_count": 2,
      "outputs": [
        {
          "output_type": "stream",
          "name": "stdout",
          "text": [
            "--2022-02-18 08:09:25--  http://51.91.120.89/extras/cnn/cnn2.h5\n",
            "Connecting to 51.91.120.89:80... connected.\n",
            "HTTP request sent, awaiting response... 200 OK\n",
            "Length: 6734736 (6.4M)\n",
            "Saving to: ‘cnn2.h5’\n",
            "\n",
            "cnn2.h5             100%[===================>]   6.42M  1.37MB/s    in 5.0s    \n",
            "\n",
            "2022-02-18 08:09:30 (1.29 MB/s) - ‘cnn2.h5’ saved [6734736/6734736]\n",
            "\n"
          ]
        }
      ]
    },
    {
      "cell_type": "code",
      "source": [
        "model = tf.keras.models.load_model(\"cnn2.h5\")"
      ],
      "metadata": {
        "id": "H5-uMt2g4OyQ"
      },
      "execution_count": 3,
      "outputs": []
    },
    {
      "cell_type": "code",
      "source": [
        "!wget -O airplane.jpg http://51.91.120.89/extras/cnn/airplane.jpg"
      ],
      "metadata": {
        "id": "-5XGJ_2E4cW0"
      },
      "execution_count": null,
      "outputs": []
    },
    {
      "cell_type": "code",
      "source": [
        "img = tf.keras.preprocessing.image.load_img(\"airplane.jpg\", target_size=(32,32))\n",
        "img"
      ],
      "metadata": {
        "colab": {
          "base_uri": "https://localhost:8080/",
          "height": 49
        },
        "id": "ZomQNT264gIi",
        "outputId": "b9a77ef0-9a46-48b2-a7c5-feb2933aa3d0"
      },
      "execution_count": 6,
      "outputs": [
        {
          "output_type": "execute_result",
          "data": {
            "image/png": "[encoded data removed]",
            "text/plain": [
              "<PIL.Image.Image image mode=RGB size=32x32 at 0x7F62BBB4C910>"
            ]
          },
          "metadata": {},
          "execution_count": 6
        }
      ]
    },
    {
      "cell_type": "code",
      "source": [
        "x = tf.keras.preprocessing.image.img_to_array(img)\n",
        "x.shape"
      ],
      "metadata": {
        "colab": {
          "base_uri": "https://localhost:8080/"
        },
        "id": "6wXkTCJ65MFW",
        "outputId": "ec775e17-92bd-47a0-eb0f-8a4d3997aa49"
      },
      "execution_count": 7,
      "outputs": [
        {
          "output_type": "execute_result",
          "data": {
            "text/plain": [
              "(32, 32, 3)"
            ]
          },
          "metadata": {},
          "execution_count": 7
        }
      ]
    },
    {
      "cell_type": "code",
      "source": [
        "model.predict( x.reshape(1, 32, 32, 3) )"
      ],
      "metadata": {
        "colab": {
          "base_uri": "https://localhost:8080/"
        },
        "id": "Jy3KTBsS5gYq",
        "outputId": "84ac53b4-f3a0-44c5-d6d4-e276c705c702"
      },
      "execution_count": 9,
      "outputs": [
        {
          "output_type": "execute_result",
          "data": {
            "text/plain": [
              "array([[0., 0., 0., 0., 0., 0., 0., 0., 0., 1.]], dtype=float32)"
            ]
          },
          "metadata": {},
          "execution_count": 9
        }
      ]
    },
    {
      "cell_type": "code",
      "source": [
        "np.argmax( model.predict( x.reshape(1, 32, 32, 3) ) )"
      ],
      "metadata": {
        "colab": {
          "base_uri": "https://localhost:8080/"
        },
        "id": "koZazTkl54H1",
        "outputId": "59172d27-303a-40dd-f3d0-b6e7f782ddb3"
      },
      "execution_count": 10,
      "outputs": [
        {
          "output_type": "execute_result",
          "data": {
            "text/plain": [
              "9"
            ]
          },
          "metadata": {},
          "execution_count": 10
        }
      ]
    },
    {
      "cell_type": "code",
      "source": [
        ""
      ],
      "metadata": {
        "id": "HA7CTqhj60oS"
      },
      "execution_count": null,
      "outputs": []
    }
  ]
}