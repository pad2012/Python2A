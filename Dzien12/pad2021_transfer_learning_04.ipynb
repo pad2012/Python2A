{
  "nbformat": 4,
  "nbformat_minor": 0,
  "metadata": {
    "colab": {
      "name": "pad2021-transfer-learning-04.ipynb",
      "provenance": [],
      "collapsed_sections": []
    },
    "kernelspec": {
      "name": "python3",
      "display_name": "Python 3"
    },
    "language_info": {
      "name": "python"
    }
  },
  "cells": [
    {
      "cell_type": "code",
      "execution_count": 1,
      "metadata": {
        "colab": {
          "base_uri": "https://localhost:8080/"
        },
        "id": "oHV-8GujShPw",
        "outputId": "e6937e09-7ca2-40f8-d35a-4b4e7335ff7c"
      },
      "outputs": [
        {
          "output_type": "stream",
          "name": "stdout",
          "text": [
            "--2022-02-18 10:05:24--  https://md-datasets-cache-zipfiles-prod.s3.eu-west-1.amazonaws.com/4drtyfjtfy-1.zip\n",
            "Resolving md-datasets-cache-zipfiles-prod.s3.eu-west-1.amazonaws.com (md-datasets-cache-zipfiles-prod.s3.eu-west-1.amazonaws.com)... 52.218.120.106\n",
            "Connecting to md-datasets-cache-zipfiles-prod.s3.eu-west-1.amazonaws.com (md-datasets-cache-zipfiles-prod.s3.eu-west-1.amazonaws.com)|52.218.120.106|:443... connected.\n",
            "HTTP request sent, awaiting response... 200 OK\n",
            "Length: 95592747 (91M) [application/octet-stream]\n",
            "Saving to: ‘data.zip’\n",
            "\n",
            "data.zip            100%[===================>]  91.16M  25.3MB/s    in 3.6s    \n",
            "\n",
            "2022-02-18 10:05:28 (25.3 MB/s) - ‘data.zip’ saved [95592747/95592747]\n",
            "\n"
          ]
        }
      ],
      "source": [
        "!wget -O data.zip \"https://md-datasets-cache-zipfiles-prod.s3.eu-west-1.amazonaws.com/4drtyfjtfy-1.zip\""
      ]
    },
    {
      "cell_type": "code",
      "source": [
        "!unzip data.zip"
      ],
      "metadata": {
        "colab": {
          "base_uri": "https://localhost:8080/"
        },
        "id": "PAjAjwC-Sxl9",
        "outputId": "997d1976-2b18-438a-e3b3-2462dd23a4ca"
      },
      "execution_count": 2,
      "outputs": [
        {
          "output_type": "stream",
          "name": "stdout",
          "text": [
            "Archive:  data.zip\n",
            "  inflating: dataset2.zip            \n"
          ]
        }
      ]
    },
    {
      "cell_type": "code",
      "source": [
        "!unzip -q dataset2.zip"
      ],
      "metadata": {
        "id": "wOZ8KRlsS8sl"
      },
      "execution_count": 3,
      "outputs": []
    },
    {
      "cell_type": "code",
      "source": [
        "import glob, os, shutil"
      ],
      "metadata": {
        "id": "mOYDX9lKTJQM"
      },
      "execution_count": 4,
      "outputs": []
    },
    {
      "cell_type": "code",
      "source": [
        "types = [\n",
        "  (\"Cloudy\", \"cloud*.*\"), (\"Rainy\" , \"rain*.*\"), (\"Shiny\", \"shin*.*\"), (\"Sunrise\",\"sunrise*.*\")       \n",
        "]\n",
        "\n",
        "shutil.rmtree(\"dataset\", ignore_errors=True)\n",
        "for folder_name, file_mask in types:\n",
        "  os.makedirs(f\"dataset/Train/{folder_name}\")\n",
        "  os.makedirs(f\"dataset/Test/{folder_name}\")\n",
        "  files = sorted( glob.glob(f\"dataset2/{file_mask}\") )\n",
        "  train_qnty = int(0.8*len(files))\n",
        "    \n",
        "  [ shutil.copy(file, f\"dataset/Train/{folder_name}\")  for file in files[:train_qnty]  ]\n",
        "  [ shutil.copy(file, f\"dataset/Test/{folder_name}\")  for file in files[train_qnty:]  ]\n",
        "  print(folder_name, file_mask, len(files))"
      ],
      "metadata": {
        "colab": {
          "base_uri": "https://localhost:8080/"
        },
        "id": "h-RuDynOUD_3",
        "outputId": "a32967fc-d4e0-4809-8ed9-0315d745e657"
      },
      "execution_count": 5,
      "outputs": [
        {
          "output_type": "stream",
          "name": "stdout",
          "text": [
            "Cloudy cloud*.* 300\n",
            "Rainy rain*.* 215\n",
            "Shiny shin*.* 253\n",
            "Sunrise sunrise*.* 357\n"
          ]
        }
      ]
    },
    {
      "cell_type": "code",
      "source": [
        "from keras.applications.vgg16 import VGG16, preprocess_input, decode_predictions\n",
        "from keras.preprocessing.image import load_img, img_to_array"
      ],
      "metadata": {
        "id": "y5289XhyXa_w"
      },
      "execution_count": 6,
      "outputs": []
    },
    {
      "cell_type": "code",
      "source": [
        "!wget -O cup.jpg \"https://lh5.googleusercontent.com/sTDIn5BK6czLJsB9u-m-VcLma4a6IbJ6rKL0NC3Vp8XESJuAoc5detOT9wtNobOX2CvCX4Qtel21vr7R3Jnv13MrbNIy-yhb-4z6H08wIthMXhce8mjglvufpLOzgx0ftFbvGphn\""
      ],
      "metadata": {
        "colab": {
          "base_uri": "https://localhost:8080/"
        },
        "id": "xJGmwEEuYYyq",
        "outputId": "9af875a5-35e6-420f-db8a-d12e428c1f59"
      },
      "execution_count": 7,
      "outputs": [
        {
          "output_type": "stream",
          "name": "stdout",
          "text": [
            "--2022-02-18 10:32:40--  https://lh5.googleusercontent.com/sTDIn5BK6czLJsB9u-m-VcLma4a6IbJ6rKL0NC3Vp8XESJuAoc5detOT9wtNobOX2CvCX4Qtel21vr7R3Jnv13MrbNIy-yhb-4z6H08wIthMXhce8mjglvufpLOzgx0ftFbvGphn\n",
            "Resolving lh5.googleusercontent.com (lh5.googleusercontent.com)... 173.194.216.132, 2607:f8b0:400c:c12::84\n",
            "Connecting to lh5.googleusercontent.com (lh5.googleusercontent.com)|173.194.216.132|:443... connected.\n",
            "HTTP request sent, awaiting response... 200 OK\n",
            "Length: 30838 (30K) [image/jpeg]\n",
            "Saving to: ‘cup.jpg’\n",
            "\n",
            "\rcup.jpg               0%[                    ]       0  --.-KB/s               \rcup.jpg             100%[===================>]  30.12K  --.-KB/s    in 0s      \n",
            "\n",
            "2022-02-18 10:32:40 (69.9 MB/s) - ‘cup.jpg’ saved [30838/30838]\n",
            "\n"
          ]
        }
      ]
    },
    {
      "cell_type": "code",
      "source": [
        "img = load_img(\"cup.jpg\", target_size=(224,224))\n",
        "x = img_to_array(img)\n",
        "x = x.reshape( (1,)+x.shape  )\n",
        "x.shape"
      ],
      "metadata": {
        "colab": {
          "base_uri": "https://localhost:8080/"
        },
        "id": "ch8swGW-ZBUY",
        "outputId": "6030fc36-a7be-4112-eba5-8ffd42cba5f1"
      },
      "execution_count": 8,
      "outputs": [
        {
          "output_type": "execute_result",
          "data": {
            "text/plain": [
              "(1, 224, 224, 3)"
            ]
          },
          "metadata": {},
          "execution_count": 8
        }
      ]
    },
    {
      "cell_type": "code",
      "source": [
        "# inicjalizacja sieci\n",
        "model = VGG16()\n",
        "predict = model.predict( preprocess_input(x) )"
      ],
      "metadata": {
        "colab": {
          "base_uri": "https://localhost:8080/"
        },
        "id": "FaNzJeTbZgYb",
        "outputId": "dee507a3-c863-4bba-a453-c3b6468fd5ac"
      },
      "execution_count": 9,
      "outputs": [
        {
          "output_type": "stream",
          "name": "stdout",
          "text": [
            "Downloading data from https://storage.googleapis.com/tensorflow/keras-applications/vgg16/vgg16_weights_tf_dim_ordering_tf_kernels.h5\n",
            "553467904/553467096 [==============================] - 3s 0us/step\n",
            "553476096/553467096 [==============================] - 3s 0us/step\n"
          ]
        }
      ]
    },
    {
      "cell_type": "code",
      "source": [
        "decode_predictions(predict, top=10)"
      ],
      "metadata": {
        "colab": {
          "base_uri": "https://localhost:8080/"
        },
        "id": "1ZPnaIOqZ7yt",
        "outputId": "653c2e05-3c2d-4217-a0dd-a538a108b5ac"
      },
      "execution_count": 11,
      "outputs": [
        {
          "output_type": "execute_result",
          "data": {
            "text/plain": [
              "[[('n03063599', 'coffee_mug', 0.25329998),\n",
              "  ('n07930864', 'cup', 0.1709395),\n",
              "  ('n04263257', 'soup_bowl', 0.16099006),\n",
              "  ('n07920052', 'espresso', 0.14152731),\n",
              "  ('n03733805', 'measuring_cup', 0.08204568),\n",
              "  ('n04398044', 'teapot', 0.047222648),\n",
              "  ('n03775546', 'mixing_bowl', 0.044552106),\n",
              "  ('n03786901', 'mortar', 0.024030209),\n",
              "  ('n03950228', 'pitcher', 0.01415348),\n",
              "  ('n04332243', 'strainer', 0.010426581)]]"
            ]
          },
          "metadata": {},
          "execution_count": 11
        }
      ]
    },
    {
      "cell_type": "code",
      "source": [
        ""
      ],
      "metadata": {
        "id": "4NcSKXjbaC25"
      },
      "execution_count": null,
      "outputs": []
    }
  ]
}