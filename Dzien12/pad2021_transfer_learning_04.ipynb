{
  "nbformat": 4,
  "nbformat_minor": 0,
  "metadata": {
    "colab": {
      "name": "pad2021-transfer-learning-04.ipynb",
      "provenance": [],
      "collapsed_sections": []
    },
    "kernelspec": {
      "name": "python3",
      "display_name": "Python 3"
    },
    "language_info": {
      "name": "python"
    },
    "accelerator": "GPU"
  },
  "cells": [
    {
      "cell_type": "code",
      "execution_count": 1,
      "metadata": {
        "colab": {
          "base_uri": "https://localhost:8080/"
        },
        "id": "oHV-8GujShPw",
        "outputId": "8e90c77e-5021-4526-dbe5-2bd61818b76f"
      },
      "outputs": [
        {
          "output_type": "stream",
          "name": "stdout",
          "text": [
            "--2022-02-18 11:23:09--  https://md-datasets-cache-zipfiles-prod.s3.eu-west-1.amazonaws.com/4drtyfjtfy-1.zip\n",
            "Resolving md-datasets-cache-zipfiles-prod.s3.eu-west-1.amazonaws.com (md-datasets-cache-zipfiles-prod.s3.eu-west-1.amazonaws.com)... 52.218.29.24\n",
            "Connecting to md-datasets-cache-zipfiles-prod.s3.eu-west-1.amazonaws.com (md-datasets-cache-zipfiles-prod.s3.eu-west-1.amazonaws.com)|52.218.29.24|:443... connected.\n",
            "HTTP request sent, awaiting response... 200 OK\n",
            "Length: 95592747 (91M) [application/octet-stream]\n",
            "Saving to: ‘data.zip’\n",
            "\n",
            "data.zip            100%[===================>]  91.16M  20.5MB/s    in 5.3s    \n",
            "\n",
            "2022-02-18 11:23:15 (17.2 MB/s) - ‘data.zip’ saved [95592747/95592747]\n",
            "\n"
          ]
        }
      ],
      "source": [
        "!wget -O data.zip \"https://md-datasets-cache-zipfiles-prod.s3.eu-west-1.amazonaws.com/4drtyfjtfy-1.zip\""
      ]
    },
    {
      "cell_type": "code",
      "source": [
        "!unzip data.zip"
      ],
      "metadata": {
        "colab": {
          "base_uri": "https://localhost:8080/"
        },
        "id": "PAjAjwC-Sxl9",
        "outputId": "227c43ad-f92f-4374-a7ac-37387442c645"
      },
      "execution_count": 2,
      "outputs": [
        {
          "output_type": "stream",
          "name": "stdout",
          "text": [
            "Archive:  data.zip\n",
            "  inflating: dataset2.zip            \n"
          ]
        }
      ]
    },
    {
      "cell_type": "code",
      "source": [
        "!unzip -q dataset2.zip"
      ],
      "metadata": {
        "id": "wOZ8KRlsS8sl"
      },
      "execution_count": 3,
      "outputs": []
    },
    {
      "cell_type": "code",
      "source": [
        "import glob, os, shutil"
      ],
      "metadata": {
        "id": "mOYDX9lKTJQM"
      },
      "execution_count": 4,
      "outputs": []
    },
    {
      "cell_type": "code",
      "source": [
        "types = [\n",
        "  (\"Cloudy\", \"cloud*.*\"), (\"Rainy\" , \"rain*.*\"), (\"Shiny\", \"shin*.*\"), (\"Sunrise\",\"sunrise*.*\")       \n",
        "]\n",
        "\n",
        "shutil.rmtree(\"dataset\", ignore_errors=True)\n",
        "for folder_name, file_mask in types:\n",
        "  os.makedirs(f\"dataset/Train/{folder_name}\")\n",
        "  os.makedirs(f\"dataset/Test/{folder_name}\")\n",
        "  files = sorted( glob.glob(f\"dataset2/{file_mask}\") )\n",
        "  train_qnty = int(0.8*len(files))\n",
        "    \n",
        "  [ shutil.copy(file, f\"dataset/Train/{folder_name}\")  for file in files[:train_qnty]  ]\n",
        "  [ shutil.copy(file, f\"dataset/Test/{folder_name}\")  for file in files[train_qnty:]  ]\n",
        "  print(folder_name, file_mask, len(files))"
      ],
      "metadata": {
        "colab": {
          "base_uri": "https://localhost:8080/"
        },
        "id": "h-RuDynOUD_3",
        "outputId": "f9d8b324-1550-4c58-c392-8db5eb329954"
      },
      "execution_count": 5,
      "outputs": [
        {
          "output_type": "stream",
          "name": "stdout",
          "text": [
            "Cloudy cloud*.* 300\n",
            "Rainy rain*.* 215\n",
            "Shiny shin*.* 253\n",
            "Sunrise sunrise*.* 357\n"
          ]
        }
      ]
    },
    {
      "cell_type": "code",
      "source": [
        "from keras.applications.vgg16 import VGG16, preprocess_input, decode_predictions\n",
        "from keras.preprocessing.image import load_img, img_to_array"
      ],
      "metadata": {
        "id": "y5289XhyXa_w"
      },
      "execution_count": 6,
      "outputs": []
    },
    {
      "cell_type": "code",
      "source": [
        "!wget -O cup.jpg \"https://lh5.googleusercontent.com/sTDIn5BK6czLJsB9u-m-VcLma4a6IbJ6rKL0NC3Vp8XESJuAoc5detOT9wtNobOX2CvCX4Qtel21vr7R3Jnv13MrbNIy-yhb-4z6H08wIthMXhce8mjglvufpLOzgx0ftFbvGphn\""
      ],
      "metadata": {
        "colab": {
          "base_uri": "https://localhost:8080/"
        },
        "id": "xJGmwEEuYYyq",
        "outputId": "66f50813-958a-41d1-f7db-9a6bbf61325c"
      },
      "execution_count": 7,
      "outputs": [
        {
          "output_type": "stream",
          "name": "stdout",
          "text": [
            "--2022-02-18 11:23:19--  https://lh5.googleusercontent.com/sTDIn5BK6czLJsB9u-m-VcLma4a6IbJ6rKL0NC3Vp8XESJuAoc5detOT9wtNobOX2CvCX4Qtel21vr7R3Jnv13MrbNIy-yhb-4z6H08wIthMXhce8mjglvufpLOzgx0ftFbvGphn\n",
            "Resolving lh5.googleusercontent.com (lh5.googleusercontent.com)... 74.125.195.132, 2607:f8b0:400e:c0c::84\n",
            "Connecting to lh5.googleusercontent.com (lh5.googleusercontent.com)|74.125.195.132|:443... connected.\n",
            "HTTP request sent, awaiting response... 200 OK\n",
            "Length: 30838 (30K) [image/jpeg]\n",
            "Saving to: ‘cup.jpg’\n",
            "\n",
            "\rcup.jpg               0%[                    ]       0  --.-KB/s               \rcup.jpg             100%[===================>]  30.12K  --.-KB/s    in 0s      \n",
            "\n",
            "2022-02-18 11:23:19 (133 MB/s) - ‘cup.jpg’ saved [30838/30838]\n",
            "\n"
          ]
        }
      ]
    },
    {
      "cell_type": "code",
      "source": [
        "img = load_img(\"cup.jpg\", target_size=(224,224))\n",
        "x = img_to_array(img)\n",
        "x = x.reshape( (1,)+x.shape  )\n",
        "x.shape"
      ],
      "metadata": {
        "colab": {
          "base_uri": "https://localhost:8080/"
        },
        "id": "ch8swGW-ZBUY",
        "outputId": "62f0cd83-1ea9-4df3-e746-72a967bab96a"
      },
      "execution_count": 8,
      "outputs": [
        {
          "output_type": "execute_result",
          "data": {
            "text/plain": [
              "(1, 224, 224, 3)"
            ]
          },
          "metadata": {},
          "execution_count": 8
        }
      ]
    },
    {
      "cell_type": "code",
      "source": [
        "# inicjalizacja sieci\n",
        "model = VGG16()\n",
        "predict = model.predict( preprocess_input(x) )"
      ],
      "metadata": {
        "colab": {
          "base_uri": "https://localhost:8080/"
        },
        "id": "FaNzJeTbZgYb",
        "outputId": "2f10e366-a3ce-455a-b583-c8652fb60f77"
      },
      "execution_count": 9,
      "outputs": [
        {
          "output_type": "stream",
          "name": "stdout",
          "text": [
            "Downloading data from https://storage.googleapis.com/tensorflow/keras-applications/vgg16/vgg16_weights_tf_dim_ordering_tf_kernels.h5\n",
            "553467904/553467096 [==============================] - 2s 0us/step\n",
            "553476096/553467096 [==============================] - 2s 0us/step\n"
          ]
        }
      ]
    },
    {
      "cell_type": "code",
      "source": [
        "decode_predictions(predict, top=10)"
      ],
      "metadata": {
        "colab": {
          "base_uri": "https://localhost:8080/"
        },
        "id": "1ZPnaIOqZ7yt",
        "outputId": "381ad670-b662-4a03-cbe5-55d33e52c2bb"
      },
      "execution_count": 10,
      "outputs": [
        {
          "output_type": "stream",
          "name": "stdout",
          "text": [
            "Downloading data from https://storage.googleapis.com/download.tensorflow.org/data/imagenet_class_index.json\n",
            "40960/35363 [==================================] - 0s 0us/step\n",
            "49152/35363 [=========================================] - 0s 0us/step\n"
          ]
        },
        {
          "output_type": "execute_result",
          "data": {
            "text/plain": [
              "[[('n03063599', 'coffee_mug', 0.2533003),\n",
              "  ('n07930864', 'cup', 0.17093909),\n",
              "  ('n04263257', 'soup_bowl', 0.16099045),\n",
              "  ('n07920052', 'espresso', 0.14152709),\n",
              "  ('n03733805', 'measuring_cup', 0.082045786),\n",
              "  ('n04398044', 'teapot', 0.04722244),\n",
              "  ('n03775546', 'mixing_bowl', 0.044552166),\n",
              "  ('n03786901', 'mortar', 0.024030173),\n",
              "  ('n03950228', 'pitcher', 0.014153445),\n",
              "  ('n04332243', 'strainer', 0.010426586)]]"
            ]
          },
          "metadata": {},
          "execution_count": 10
        }
      ]
    },
    {
      "cell_type": "code",
      "source": [
        "import numpy as np\n",
        "from keras.models import Model\n",
        "from keras.layers import Dense, Flatten\n",
        "from keras.preprocessing.image import ImageDataGenerator"
      ],
      "metadata": {
        "id": "4NcSKXjbaC25"
      },
      "execution_count": 11,
      "outputs": []
    },
    {
      "cell_type": "code",
      "source": [
        "# tworzymy nowa sieci na bazie starej\n",
        "model = VGG16(include_top=False, input_shape=(224, 224, 3))\n",
        "\n",
        "# wyłączenie z trenowania istniejących warstw\n",
        "for layer in model.layers:\n",
        "  layer.trainable = False\n",
        "\n",
        "# konwersja warstwy wyjsciowej istniejacego modelu na nową wartst wyjsciowa\n",
        "hidden = Flatten()(model.output)\n",
        "outputs = Dense(4, activation=\"softmax\")(hidden)\n",
        "\n",
        "# tworzymy nowy model na podstawie istniejącego modelu\n",
        "model = Model(inputs=model.input, outputs=outputs)\n",
        "model.summary()\n"
      ],
      "metadata": {
        "colab": {
          "base_uri": "https://localhost:8080/"
        },
        "id": "NhrgAm0OeIdJ",
        "outputId": "aa6fe494-1154-4de5-c500-6c6395e50f8b"
      },
      "execution_count": 31,
      "outputs": [
        {
          "output_type": "stream",
          "name": "stdout",
          "text": [
            "Model: \"model_2\"\n",
            "_________________________________________________________________\n",
            " Layer (type)                Output Shape              Param #   \n",
            "=================================================================\n",
            " input_4 (InputLayer)        [(None, 224, 224, 3)]     0         \n",
            "                                                                 \n",
            " block1_conv1 (Conv2D)       (None, 224, 224, 64)      1792      \n",
            "                                                                 \n",
            " block1_conv2 (Conv2D)       (None, 224, 224, 64)      36928     \n",
            "                                                                 \n",
            " block1_pool (MaxPooling2D)  (None, 112, 112, 64)      0         \n",
            "                                                                 \n",
            " block2_conv1 (Conv2D)       (None, 112, 112, 128)     73856     \n",
            "                                                                 \n",
            " block2_conv2 (Conv2D)       (None, 112, 112, 128)     147584    \n",
            "                                                                 \n",
            " block2_pool (MaxPooling2D)  (None, 56, 56, 128)       0         \n",
            "                                                                 \n",
            " block3_conv1 (Conv2D)       (None, 56, 56, 256)       295168    \n",
            "                                                                 \n",
            " block3_conv2 (Conv2D)       (None, 56, 56, 256)       590080    \n",
            "                                                                 \n",
            " block3_conv3 (Conv2D)       (None, 56, 56, 256)       590080    \n",
            "                                                                 \n",
            " block3_pool (MaxPooling2D)  (None, 28, 28, 256)       0         \n",
            "                                                                 \n",
            " block4_conv1 (Conv2D)       (None, 28, 28, 512)       1180160   \n",
            "                                                                 \n",
            " block4_conv2 (Conv2D)       (None, 28, 28, 512)       2359808   \n",
            "                                                                 \n",
            " block4_conv3 (Conv2D)       (None, 28, 28, 512)       2359808   \n",
            "                                                                 \n",
            " block4_pool (MaxPooling2D)  (None, 14, 14, 512)       0         \n",
            "                                                                 \n",
            " block5_conv1 (Conv2D)       (None, 14, 14, 512)       2359808   \n",
            "                                                                 \n",
            " block5_conv2 (Conv2D)       (None, 14, 14, 512)       2359808   \n",
            "                                                                 \n",
            " block5_conv3 (Conv2D)       (None, 14, 14, 512)       2359808   \n",
            "                                                                 \n",
            " block5_pool (MaxPooling2D)  (None, 7, 7, 512)         0         \n",
            "                                                                 \n",
            " flatten_2 (Flatten)         (None, 25088)             0         \n",
            "                                                                 \n",
            " dense_2 (Dense)             (None, 4)                 100356    \n",
            "                                                                 \n",
            "=================================================================\n",
            "Total params: 14,815,044\n",
            "Trainable params: 100,356\n",
            "Non-trainable params: 14,714,688\n",
            "_________________________________________________________________\n"
          ]
        }
      ]
    },
    {
      "cell_type": "code",
      "source": [
        "model.compile(optimizer=\"adam\", loss=\"categorical_crossentropy\", metrics=[\"accuracy\"])"
      ],
      "metadata": {
        "id": "aiVTT91zek2g"
      },
      "execution_count": 32,
      "outputs": []
    },
    {
      "cell_type": "code",
      "source": [
        "train_data_gen = ImageDataGenerator(\n",
        "    rescale=1/255, shear_range=0.5, zoom_range=0.7, \n",
        "    horizontal_flip=True, vertical_flip=True\n",
        ")\n",
        "\n",
        "test_data_gen = ImageDataGenerator(\n",
        "    rescale=1/255\n",
        ")"
      ],
      "metadata": {
        "id": "HbSTpMychlLg"
      },
      "execution_count": 33,
      "outputs": []
    },
    {
      "cell_type": "code",
      "source": [
        "train_data = train_data_gen.flow_from_directory(\"dataset/Train\", \n",
        "                                                target_size=(224,224), \n",
        "                                                class_mode=\"categorical\")\n",
        "\n",
        "test_data = train_data_gen.flow_from_directory(\"dataset/Test\", \n",
        "                                                target_size=(224,224), \n",
        "                                                class_mode=\"categorical\")"
      ],
      "metadata": {
        "colab": {
          "base_uri": "https://localhost:8080/"
        },
        "id": "h0VduJuwinKr",
        "outputId": "bfcbedc6-3191-476e-8727-b713a29607bb"
      },
      "execution_count": 34,
      "outputs": [
        {
          "output_type": "stream",
          "name": "stdout",
          "text": [
            "Found 899 images belonging to 4 classes.\n",
            "Found 226 images belonging to 4 classes.\n"
          ]
        }
      ]
    },
    {
      "cell_type": "code",
      "source": [
        "test_data.class_indices"
      ],
      "metadata": {
        "colab": {
          "base_uri": "https://localhost:8080/"
        },
        "id": "lcFqJEPOjdHa",
        "outputId": "d570014b-f6ef-4825-ada7-bdf794a6ae81"
      },
      "execution_count": 35,
      "outputs": [
        {
          "output_type": "execute_result",
          "data": {
            "text/plain": [
              "{'Cloudy': 0, 'Rainy': 1, 'Shiny': 2, 'Sunrise': 3}"
            ]
          },
          "metadata": {},
          "execution_count": 35
        }
      ]
    },
    {
      "cell_type": "code",
      "source": [
        "from keras.callbacks import ModelCheckpoint"
      ],
      "metadata": {
        "id": "FJBzYE2ioOYA"
      },
      "execution_count": 36,
      "outputs": []
    },
    {
      "cell_type": "code",
      "source": [
        "mcp = ModelCheckpoint(\"/content/drive/MyDrive/vgg16-v1.h5\", save_best_only=True)\n",
        "result = model.fit_generator(train_data, epochs=100, validation_data=test_data, callbacks=[mcp])"
      ],
      "metadata": {
        "colab": {
          "base_uri": "https://localhost:8080/"
        },
        "id": "VKK4Q_BYjoyu",
        "outputId": "27bc1b0e-6fe7-498b-dd0d-e8e6e3f4db0c"
      },
      "execution_count": 37,
      "outputs": [
        {
          "output_type": "stream",
          "name": "stderr",
          "text": [
            "/usr/local/lib/python3.7/dist-packages/ipykernel_launcher.py:2: UserWarning: `Model.fit_generator` is deprecated and will be removed in a future version. Please use `Model.fit`, which supports generators.\n",
            "  \n"
          ]
        },
        {
          "output_type": "stream",
          "name": "stdout",
          "text": [
            "Epoch 1/100\n",
            "29/29 [==============================] - 20s 674ms/step - loss: 1.2853 - accuracy: 0.5261 - val_loss: 0.7086 - val_accuracy: 0.7257\n",
            "Epoch 2/100\n",
            "29/29 [==============================] - 20s 684ms/step - loss: 0.5264 - accuracy: 0.8109 - val_loss: 0.4511 - val_accuracy: 0.8407\n",
            "Epoch 3/100\n",
            "29/29 [==============================] - 20s 693ms/step - loss: 0.4000 - accuracy: 0.8554 - val_loss: 0.4458 - val_accuracy: 0.8142\n",
            "Epoch 4/100\n",
            "29/29 [==============================] - 20s 696ms/step - loss: 0.3814 - accuracy: 0.8732 - val_loss: 0.3498 - val_accuracy: 0.8850\n",
            "Epoch 5/100\n",
            "29/29 [==============================] - 19s 647ms/step - loss: 0.3492 - accuracy: 0.8710 - val_loss: 0.3937 - val_accuracy: 0.8628\n",
            "Epoch 6/100\n",
            "29/29 [==============================] - 18s 636ms/step - loss: 0.3107 - accuracy: 0.8954 - val_loss: 0.4164 - val_accuracy: 0.8319\n",
            "Epoch 7/100\n",
            "29/29 [==============================] - 19s 658ms/step - loss: 0.3138 - accuracy: 0.8888 - val_loss: 0.2281 - val_accuracy: 0.9159\n",
            "Epoch 8/100\n",
            "29/29 [==============================] - 19s 646ms/step - loss: 0.3134 - accuracy: 0.8854 - val_loss: 0.2770 - val_accuracy: 0.9027\n",
            "Epoch 9/100\n",
            "29/29 [==============================] - 19s 639ms/step - loss: 0.2583 - accuracy: 0.9032 - val_loss: 0.4300 - val_accuracy: 0.8186\n",
            "Epoch 10/100\n",
            "29/29 [==============================] - 18s 637ms/step - loss: 0.2470 - accuracy: 0.9088 - val_loss: 0.2693 - val_accuracy: 0.9071\n",
            "Epoch 11/100\n",
            "29/29 [==============================] - 19s 642ms/step - loss: 0.2162 - accuracy: 0.9221 - val_loss: 0.2850 - val_accuracy: 0.8938\n",
            "Epoch 12/100\n",
            "29/29 [==============================] - 18s 639ms/step - loss: 0.2193 - accuracy: 0.9166 - val_loss: 0.2540 - val_accuracy: 0.9204\n",
            "Epoch 13/100\n",
            "29/29 [==============================] - 18s 641ms/step - loss: 0.2070 - accuracy: 0.9355 - val_loss: 0.2498 - val_accuracy: 0.9204\n",
            "Epoch 14/100\n",
            "29/29 [==============================] - 18s 652ms/step - loss: 0.1898 - accuracy: 0.9399 - val_loss: 0.2436 - val_accuracy: 0.9071\n",
            "Epoch 15/100\n",
            "29/29 [==============================] - 19s 654ms/step - loss: 0.1883 - accuracy: 0.9422 - val_loss: 0.1812 - val_accuracy: 0.9381\n",
            "Epoch 16/100\n",
            "29/29 [==============================] - 19s 644ms/step - loss: 0.1890 - accuracy: 0.9366 - val_loss: 0.2263 - val_accuracy: 0.9027\n",
            "Epoch 17/100\n",
            "29/29 [==============================] - 18s 641ms/step - loss: 0.1607 - accuracy: 0.9466 - val_loss: 0.2046 - val_accuracy: 0.9159\n",
            "Epoch 18/100\n",
            "29/29 [==============================] - 19s 638ms/step - loss: 0.1752 - accuracy: 0.9555 - val_loss: 0.2762 - val_accuracy: 0.9027\n",
            "Epoch 19/100\n",
            "29/29 [==============================] - 19s 683ms/step - loss: 0.1677 - accuracy: 0.9377 - val_loss: 0.1788 - val_accuracy: 0.9381\n",
            "Epoch 20/100\n",
            "29/29 [==============================] - 19s 640ms/step - loss: 0.1638 - accuracy: 0.9488 - val_loss: 0.2433 - val_accuracy: 0.9248\n",
            "Epoch 21/100\n",
            "29/29 [==============================] - 18s 640ms/step - loss: 0.1664 - accuracy: 0.9466 - val_loss: 0.2553 - val_accuracy: 0.8982\n",
            "Epoch 22/100\n",
            "29/29 [==============================] - 19s 640ms/step - loss: 0.1717 - accuracy: 0.9388 - val_loss: 0.2273 - val_accuracy: 0.9115\n",
            "Epoch 23/100\n",
            "29/29 [==============================] - 18s 641ms/step - loss: 0.1852 - accuracy: 0.9399 - val_loss: 0.3089 - val_accuracy: 0.8982\n",
            "Epoch 24/100\n",
            "29/29 [==============================] - 18s 637ms/step - loss: 0.1968 - accuracy: 0.9288 - val_loss: 0.2088 - val_accuracy: 0.9248\n",
            "Epoch 25/100\n",
            "29/29 [==============================] - 18s 631ms/step - loss: 0.3519 - accuracy: 0.8721 - val_loss: 0.2877 - val_accuracy: 0.8938\n",
            "Epoch 26/100\n",
            "29/29 [==============================] - 18s 640ms/step - loss: 0.1535 - accuracy: 0.9566 - val_loss: 0.2528 - val_accuracy: 0.8982\n",
            "Epoch 27/100\n",
            "29/29 [==============================] - 18s 629ms/step - loss: 0.1404 - accuracy: 0.9499 - val_loss: 0.2348 - val_accuracy: 0.9159\n",
            "Epoch 28/100\n",
            "29/29 [==============================] - 18s 641ms/step - loss: 0.1521 - accuracy: 0.9477 - val_loss: 0.2675 - val_accuracy: 0.9027\n",
            "Epoch 29/100\n",
            "29/29 [==============================] - 18s 634ms/step - loss: 0.2164 - accuracy: 0.9366 - val_loss: 0.3983 - val_accuracy: 0.8407\n",
            "Epoch 30/100\n",
            "29/29 [==============================] - 18s 638ms/step - loss: 0.1297 - accuracy: 0.9566 - val_loss: 0.3259 - val_accuracy: 0.9071\n",
            "Epoch 31/100\n",
            "29/29 [==============================] - 18s 639ms/step - loss: 0.1341 - accuracy: 0.9488 - val_loss: 0.2081 - val_accuracy: 0.9292\n",
            "Epoch 32/100\n",
            "29/29 [==============================] - 18s 638ms/step - loss: 0.1116 - accuracy: 0.9622 - val_loss: 0.2556 - val_accuracy: 0.9115\n",
            "Epoch 33/100\n",
            "29/29 [==============================] - 18s 638ms/step - loss: 0.1124 - accuracy: 0.9566 - val_loss: 0.2177 - val_accuracy: 0.9248\n",
            "Epoch 34/100\n",
            "29/29 [==============================] - 18s 632ms/step - loss: 0.1258 - accuracy: 0.9577 - val_loss: 0.2029 - val_accuracy: 0.9027\n",
            "Epoch 35/100\n",
            "29/29 [==============================] - 19s 652ms/step - loss: 0.1115 - accuracy: 0.9555 - val_loss: 0.3467 - val_accuracy: 0.8805\n",
            "Epoch 36/100\n",
            "29/29 [==============================] - 18s 640ms/step - loss: 0.1281 - accuracy: 0.9499 - val_loss: 0.1794 - val_accuracy: 0.9381\n",
            "Epoch 37/100\n",
            "29/29 [==============================] - 18s 637ms/step - loss: 0.1148 - accuracy: 0.9611 - val_loss: 0.2544 - val_accuracy: 0.9027\n",
            "Epoch 38/100\n",
            "29/29 [==============================] - 18s 639ms/step - loss: 0.1322 - accuracy: 0.9533 - val_loss: 0.2396 - val_accuracy: 0.9204\n",
            "Epoch 39/100\n",
            "29/29 [==============================] - 18s 633ms/step - loss: 0.2121 - accuracy: 0.9199 - val_loss: 0.2356 - val_accuracy: 0.9071\n",
            "Epoch 40/100\n",
            "29/29 [==============================] - 18s 632ms/step - loss: 0.1375 - accuracy: 0.9433 - val_loss: 0.1872 - val_accuracy: 0.9292\n",
            "Epoch 41/100\n",
            "29/29 [==============================] - 18s 637ms/step - loss: 0.1384 - accuracy: 0.9566 - val_loss: 0.3302 - val_accuracy: 0.8982\n",
            "Epoch 42/100\n",
            "29/29 [==============================] - 18s 634ms/step - loss: 0.1237 - accuracy: 0.9622 - val_loss: 0.2730 - val_accuracy: 0.8982\n",
            "Epoch 43/100\n",
            "29/29 [==============================] - 18s 639ms/step - loss: 0.1448 - accuracy: 0.9511 - val_loss: 0.1954 - val_accuracy: 0.9204\n",
            "Epoch 44/100\n",
            "29/29 [==============================] - 18s 633ms/step - loss: 0.1398 - accuracy: 0.9577 - val_loss: 0.2814 - val_accuracy: 0.9159\n",
            "Epoch 45/100\n",
            "29/29 [==============================] - 18s 638ms/step - loss: 0.1043 - accuracy: 0.9600 - val_loss: 0.2256 - val_accuracy: 0.9159\n",
            "Epoch 46/100\n",
            "29/29 [==============================] - 18s 633ms/step - loss: 0.1177 - accuracy: 0.9622 - val_loss: 0.2651 - val_accuracy: 0.9248\n",
            "Epoch 47/100\n",
            "29/29 [==============================] - 18s 637ms/step - loss: 0.1055 - accuracy: 0.9622 - val_loss: 0.1861 - val_accuracy: 0.9292\n",
            "Epoch 48/100\n",
            "29/29 [==============================] - 19s 636ms/step - loss: 0.0962 - accuracy: 0.9600 - val_loss: 0.2000 - val_accuracy: 0.9204\n",
            "Epoch 49/100\n",
            "29/29 [==============================] - 18s 622ms/step - loss: 0.1366 - accuracy: 0.9577 - val_loss: 0.2094 - val_accuracy: 0.9204\n",
            "Epoch 50/100\n",
            "29/29 [==============================] - 18s 634ms/step - loss: 0.1100 - accuracy: 0.9588 - val_loss: 0.1906 - val_accuracy: 0.9204\n",
            "Epoch 51/100\n",
            "29/29 [==============================] - 18s 642ms/step - loss: 0.0973 - accuracy: 0.9677 - val_loss: 0.2206 - val_accuracy: 0.9292\n",
            "Epoch 52/100\n",
            "29/29 [==============================] - 19s 643ms/step - loss: 0.0942 - accuracy: 0.9711 - val_loss: 0.3150 - val_accuracy: 0.8761\n",
            "Epoch 53/100\n",
            "29/29 [==============================] - 18s 636ms/step - loss: 0.1067 - accuracy: 0.9755 - val_loss: 0.2638 - val_accuracy: 0.8938\n",
            "Epoch 54/100\n",
            "29/29 [==============================] - 18s 639ms/step - loss: 0.1050 - accuracy: 0.9611 - val_loss: 0.3544 - val_accuracy: 0.8938\n",
            "Epoch 55/100\n",
            "29/29 [==============================] - 18s 639ms/step - loss: 0.0954 - accuracy: 0.9677 - val_loss: 0.2256 - val_accuracy: 0.9248\n",
            "Epoch 56/100\n",
            "29/29 [==============================] - 18s 635ms/step - loss: 0.0800 - accuracy: 0.9744 - val_loss: 0.3358 - val_accuracy: 0.9027\n",
            "Epoch 57/100\n",
            "29/29 [==============================] - 18s 638ms/step - loss: 0.1095 - accuracy: 0.9566 - val_loss: 0.3308 - val_accuracy: 0.8982\n",
            "Epoch 58/100\n",
            "29/29 [==============================] - 18s 635ms/step - loss: 0.1611 - accuracy: 0.9488 - val_loss: 0.2611 - val_accuracy: 0.9071\n",
            "Epoch 59/100\n",
            "29/29 [==============================] - 18s 637ms/step - loss: 0.2169 - accuracy: 0.9155 - val_loss: 0.4306 - val_accuracy: 0.8850\n",
            "Epoch 60/100\n",
            "29/29 [==============================] - 18s 636ms/step - loss: 0.1003 - accuracy: 0.9677 - val_loss: 0.1885 - val_accuracy: 0.9381\n",
            "Epoch 61/100\n",
            "29/29 [==============================] - 18s 627ms/step - loss: 0.1188 - accuracy: 0.9611 - val_loss: 0.2323 - val_accuracy: 0.9204\n",
            "Epoch 62/100\n",
            "29/29 [==============================] - 18s 634ms/step - loss: 0.1216 - accuracy: 0.9655 - val_loss: 0.2829 - val_accuracy: 0.8982\n",
            "Epoch 63/100\n",
            "29/29 [==============================] - 18s 632ms/step - loss: 0.1132 - accuracy: 0.9644 - val_loss: 0.4552 - val_accuracy: 0.8673\n",
            "Epoch 64/100\n",
            "29/29 [==============================] - 18s 634ms/step - loss: 0.1112 - accuracy: 0.9622 - val_loss: 0.2108 - val_accuracy: 0.9115\n",
            "Epoch 65/100\n",
            "29/29 [==============================] - 18s 634ms/step - loss: 0.0896 - accuracy: 0.9666 - val_loss: 0.1830 - val_accuracy: 0.9381\n",
            "Epoch 66/100\n",
            "29/29 [==============================] - 18s 636ms/step - loss: 0.0750 - accuracy: 0.9733 - val_loss: 0.2033 - val_accuracy: 0.9204\n",
            "Epoch 67/100\n",
            "29/29 [==============================] - 19s 662ms/step - loss: 0.0718 - accuracy: 0.9778 - val_loss: 0.1741 - val_accuracy: 0.9248\n",
            "Epoch 68/100\n",
            "29/29 [==============================] - 19s 643ms/step - loss: 0.0875 - accuracy: 0.9722 - val_loss: 0.2527 - val_accuracy: 0.9027\n",
            "Epoch 69/100\n",
            "29/29 [==============================] - 18s 636ms/step - loss: 0.1263 - accuracy: 0.9622 - val_loss: 0.1877 - val_accuracy: 0.9381\n",
            "Epoch 70/100\n",
            "29/29 [==============================] - 18s 640ms/step - loss: 0.0979 - accuracy: 0.9677 - val_loss: 0.3353 - val_accuracy: 0.8805\n",
            "Epoch 71/100\n",
            "29/29 [==============================] - 18s 637ms/step - loss: 0.0849 - accuracy: 0.9677 - val_loss: 0.1797 - val_accuracy: 0.9292\n",
            "Epoch 72/100\n",
            "29/29 [==============================] - 18s 629ms/step - loss: 0.1732 - accuracy: 0.9488 - val_loss: 0.2593 - val_accuracy: 0.9159\n",
            "Epoch 73/100\n",
            "29/29 [==============================] - 18s 635ms/step - loss: 0.1507 - accuracy: 0.9511 - val_loss: 0.3874 - val_accuracy: 0.8850\n",
            "Epoch 74/100\n",
            "29/29 [==============================] - 18s 636ms/step - loss: 0.1638 - accuracy: 0.9466 - val_loss: 0.4289 - val_accuracy: 0.8451\n",
            "Epoch 75/100\n",
            "29/29 [==============================] - 18s 635ms/step - loss: 0.1625 - accuracy: 0.9422 - val_loss: 0.2556 - val_accuracy: 0.9248\n",
            "Epoch 76/100\n",
            "29/29 [==============================] - 18s 635ms/step - loss: 0.1423 - accuracy: 0.9577 - val_loss: 0.3347 - val_accuracy: 0.9071\n",
            "Epoch 77/100\n",
            "29/29 [==============================] - 18s 638ms/step - loss: 0.1013 - accuracy: 0.9666 - val_loss: 0.1853 - val_accuracy: 0.9381\n",
            "Epoch 78/100\n",
            "29/29 [==============================] - 19s 658ms/step - loss: 0.1053 - accuracy: 0.9633 - val_loss: 0.1413 - val_accuracy: 0.9336\n",
            "Epoch 79/100\n",
            "29/29 [==============================] - 18s 634ms/step - loss: 0.0909 - accuracy: 0.9722 - val_loss: 0.1788 - val_accuracy: 0.9336\n",
            "Epoch 80/100\n",
            "29/29 [==============================] - 18s 637ms/step - loss: 0.1207 - accuracy: 0.9622 - val_loss: 0.2333 - val_accuracy: 0.9115\n",
            "Epoch 81/100\n",
            "29/29 [==============================] - 18s 637ms/step - loss: 0.1326 - accuracy: 0.9533 - val_loss: 0.2182 - val_accuracy: 0.9336\n",
            "Epoch 82/100\n",
            "29/29 [==============================] - 18s 635ms/step - loss: 0.0834 - accuracy: 0.9666 - val_loss: 0.2675 - val_accuracy: 0.9115\n",
            "Epoch 83/100\n",
            "29/29 [==============================] - 18s 635ms/step - loss: 0.0981 - accuracy: 0.9666 - val_loss: 0.2450 - val_accuracy: 0.9071\n",
            "Epoch 84/100\n",
            "29/29 [==============================] - 19s 645ms/step - loss: 0.0938 - accuracy: 0.9733 - val_loss: 0.1904 - val_accuracy: 0.9336\n",
            "Epoch 85/100\n",
            "29/29 [==============================] - 18s 640ms/step - loss: 0.0734 - accuracy: 0.9744 - val_loss: 0.3046 - val_accuracy: 0.9071\n",
            "Epoch 86/100\n",
            "29/29 [==============================] - 18s 639ms/step - loss: 0.0924 - accuracy: 0.9644 - val_loss: 0.4226 - val_accuracy: 0.8673\n",
            "Epoch 87/100\n",
            "29/29 [==============================] - 18s 632ms/step - loss: 0.1605 - accuracy: 0.9488 - val_loss: 0.2484 - val_accuracy: 0.8850\n",
            "Epoch 88/100\n",
            "29/29 [==============================] - 18s 636ms/step - loss: 0.1006 - accuracy: 0.9633 - val_loss: 0.3036 - val_accuracy: 0.8805\n",
            "Epoch 89/100\n",
            "29/29 [==============================] - 18s 633ms/step - loss: 0.1117 - accuracy: 0.9600 - val_loss: 0.2881 - val_accuracy: 0.9292\n",
            "Epoch 90/100\n",
            "29/29 [==============================] - 18s 637ms/step - loss: 0.0838 - accuracy: 0.9733 - val_loss: 0.2756 - val_accuracy: 0.9027\n",
            "Epoch 91/100\n",
            "29/29 [==============================] - 18s 638ms/step - loss: 0.0824 - accuracy: 0.9766 - val_loss: 0.2507 - val_accuracy: 0.9204\n",
            "Epoch 92/100\n",
            "29/29 [==============================] - 18s 635ms/step - loss: 0.0964 - accuracy: 0.9700 - val_loss: 0.2186 - val_accuracy: 0.9204\n",
            "Epoch 93/100\n",
            "29/29 [==============================] - 18s 637ms/step - loss: 0.0692 - accuracy: 0.9755 - val_loss: 0.1868 - val_accuracy: 0.9381\n",
            "Epoch 94/100\n",
            "29/29 [==============================] - 18s 639ms/step - loss: 0.0715 - accuracy: 0.9789 - val_loss: 0.1529 - val_accuracy: 0.9469\n",
            "Epoch 95/100\n",
            "29/29 [==============================] - 18s 638ms/step - loss: 0.0765 - accuracy: 0.9722 - val_loss: 0.2727 - val_accuracy: 0.9159\n",
            "Epoch 96/100\n",
            "29/29 [==============================] - 18s 626ms/step - loss: 0.0910 - accuracy: 0.9722 - val_loss: 0.1997 - val_accuracy: 0.9292\n",
            "Epoch 97/100\n",
            "29/29 [==============================] - 19s 642ms/step - loss: 0.0700 - accuracy: 0.9722 - val_loss: 0.2029 - val_accuracy: 0.9248\n",
            "Epoch 98/100\n",
            "29/29 [==============================] - 18s 637ms/step - loss: 0.2315 - accuracy: 0.9344 - val_loss: 0.8934 - val_accuracy: 0.8097\n",
            "Epoch 99/100\n",
            "29/29 [==============================] - 18s 638ms/step - loss: 0.1323 - accuracy: 0.9588 - val_loss: 0.3409 - val_accuracy: 0.9071\n",
            "Epoch 100/100\n",
            "29/29 [==============================] - 18s 642ms/step - loss: 0.0993 - accuracy: 0.9644 - val_loss: 0.2157 - val_accuracy: 0.9204\n"
          ]
        }
      ]
    },
    {
      "cell_type": "code",
      "source": [
        "import pandas as pd"
      ],
      "metadata": {
        "id": "SW2SJQ1ukWW1"
      },
      "execution_count": 38,
      "outputs": []
    },
    {
      "cell_type": "code",
      "source": [
        "pd.DataFrame(result.history)[ [\"accuracy\",\"val_accuracy\"] ].plot()"
      ],
      "metadata": {
        "colab": {
          "base_uri": "https://localhost:8080/",
          "height": 287
        },
        "id": "GbQ4rOgnl37v",
        "outputId": "5b89ecf0-eb77-4e94-e0e4-519ddee1d285"
      },
      "execution_count": 39,
      "outputs": [
        {
          "output_type": "execute_result",
          "data": {
            "text/plain": [
              "<matplotlib.axes._subplots.AxesSubplot at 0x7f55ec657210>"
            ]
          },
          "metadata": {},
          "execution_count": 39
        },
        {
          "output_type": "display_data",
          "data": {
            "image/png": "[encoded data removed]",
            "text/plain": [
              "<Figure size 432x288 with 1 Axes>"
            ]
          },
          "metadata": {
            "needs_background": "light"
          }
        }
      ]
    },
    {
      "cell_type": "code",
      "source": [
        "!wget -O \"sky.jpg\" \"https://thumbs.dreamstime.com/b/bright-blue-cloudy-sky-background-texture-photo-42976329.jpg\"\n",
        "\n",
        "#img = load_img(\"sky.jpg\", target_size=(224,224))\n",
        "img = load_img(\"/content/dataset/Test/Cloudy/cloudy6.jpg\", target_size=(224,224))\n",
        "\n",
        "x = img_to_array(img)\n",
        "x = x.reshape( (1,)+x.shape  )\n",
        "\n",
        "prediction = model.predict( preprocess_input(x) )\n",
        "print(prediction)\n",
        "np.argmax(prediction)"
      ],
      "metadata": {
        "colab": {
          "base_uri": "https://localhost:8080/"
        },
        "id": "HXPEIdXFl70L",
        "outputId": "22a0caa8-cf52-4423-d0e9-1eb18906a3ba"
      },
      "execution_count": 40,
      "outputs": [
        {
          "output_type": "stream",
          "name": "stdout",
          "text": [
            "--2022-02-18 12:13:14--  https://thumbs.dreamstime.com/b/bright-blue-cloudy-sky-background-texture-photo-42976329.jpg\n",
            "Resolving thumbs.dreamstime.com (thumbs.dreamstime.com)... 192.229.163.122\n",
            "Connecting to thumbs.dreamstime.com (thumbs.dreamstime.com)|192.229.163.122|:443... connected.\n",
            "HTTP request sent, awaiting response... 200 OK\n",
            "Length: 58554 (57K) [image/jpeg]\n",
            "Saving to: ‘sky.jpg’\n",
            "\n",
            "\rsky.jpg               0%[                    ]       0  --.-KB/s               \rsky.jpg             100%[===================>]  57.18K  --.-KB/s    in 0.007s  \n",
            "\n",
            "2022-02-18 12:13:14 (7.52 MB/s) - ‘sky.jpg’ saved [58554/58554]\n",
            "\n",
            "[[0.00000000e+00 0.00000000e+00 1.00000000e+00 1.00127544e-14]]\n"
          ]
        },
        {
          "output_type": "execute_result",
          "data": {
            "text/plain": [
              "2"
            ]
          },
          "metadata": {},
          "execution_count": 40
        }
      ]
    },
    {
      "cell_type": "code",
      "source": [
        "test_data.class_indices"
      ],
      "metadata": {
        "colab": {
          "base_uri": "https://localhost:8080/"
        },
        "id": "rl3zqKRNmvRo",
        "outputId": "9c471b67-028a-449b-d4a3-760deed3a55d"
      },
      "execution_count": 41,
      "outputs": [
        {
          "output_type": "execute_result",
          "data": {
            "text/plain": [
              "{'Cloudy': 0, 'Rainy': 1, 'Shiny': 2, 'Sunrise': 3}"
            ]
          },
          "metadata": {},
          "execution_count": 41
        }
      ]
    },
    {
      "cell_type": "code",
      "source": [
        ""
      ],
      "metadata": {
        "id": "FdCoqjMGm3rg"
      },
      "execution_count": 41,
      "outputs": []
    }
  ]
}