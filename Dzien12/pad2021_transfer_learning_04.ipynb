{
  "nbformat": 4,
  "nbformat_minor": 0,
  "metadata": {
    "colab": {
      "name": "pad2021-transfer-learning-04.ipynb",
      "provenance": [],
      "collapsed_sections": []
    },
    "kernelspec": {
      "name": "python3",
      "display_name": "Python 3"
    },
    "language_info": {
      "name": "python"
    },
    "accelerator": "GPU"
  },
  "cells": [
    {
      "cell_type": "code",
      "execution_count": 1,
      "metadata": {
        "colab": {
          "base_uri": "https://localhost:8080/"
        },
        "id": "oHV-8GujShPw",
        "outputId": "8e90c77e-5021-4526-dbe5-2bd61818b76f"
      },
      "outputs": [
        {
          "output_type": "stream",
          "name": "stdout",
          "text": [
            "--2022-02-18 11:23:09--  https://md-datasets-cache-zipfiles-prod.s3.eu-west-1.amazonaws.com/4drtyfjtfy-1.zip\n",
            "Resolving md-datasets-cache-zipfiles-prod.s3.eu-west-1.amazonaws.com (md-datasets-cache-zipfiles-prod.s3.eu-west-1.amazonaws.com)... 52.218.29.24\n",
            "Connecting to md-datasets-cache-zipfiles-prod.s3.eu-west-1.amazonaws.com (md-datasets-cache-zipfiles-prod.s3.eu-west-1.amazonaws.com)|52.218.29.24|:443... connected.\n",
            "HTTP request sent, awaiting response... 200 OK\n",
            "Length: 95592747 (91M) [application/octet-stream]\n",
            "Saving to: ‘data.zip’\n",
            "\n",
            "data.zip            100%[===================>]  91.16M  20.5MB/s    in 5.3s    \n",
            "\n",
            "2022-02-18 11:23:15 (17.2 MB/s) - ‘data.zip’ saved [95592747/95592747]\n",
            "\n"
          ]
        }
      ],
      "source": [
        "!wget -O data.zip \"https://md-datasets-cache-zipfiles-prod.s3.eu-west-1.amazonaws.com/4drtyfjtfy-1.zip\""
      ]
    },
    {
      "cell_type": "code",
      "source": [
        "!unzip data.zip"
      ],
      "metadata": {
        "colab": {
          "base_uri": "https://localhost:8080/"
        },
        "id": "PAjAjwC-Sxl9",
        "outputId": "227c43ad-f92f-4374-a7ac-37387442c645"
      },
      "execution_count": 2,
      "outputs": [
        {
          "output_type": "stream",
          "name": "stdout",
          "text": [
            "Archive:  data.zip\n",
            "  inflating: dataset2.zip            \n"
          ]
        }
      ]
    },
    {
      "cell_type": "code",
      "source": [
        "!unzip -q dataset2.zip"
      ],
      "metadata": {
        "id": "wOZ8KRlsS8sl"
      },
      "execution_count": 3,
      "outputs": []
    },
    {
      "cell_type": "code",
      "source": [
        "import glob, os, shutil"
      ],
      "metadata": {
        "id": "mOYDX9lKTJQM"
      },
      "execution_count": 4,
      "outputs": []
    },
    {
      "cell_type": "code",
      "source": [
        "types = [\n",
        "  (\"Cloudy\", \"cloud*.*\"), (\"Rainy\" , \"rain*.*\"), (\"Shiny\", \"shin*.*\"), (\"Sunrise\",\"sunrise*.*\")       \n",
        "]\n",
        "\n",
        "shutil.rmtree(\"dataset\", ignore_errors=True)\n",
        "for folder_name, file_mask in types:\n",
        "  os.makedirs(f\"dataset/Train/{folder_name}\")\n",
        "  os.makedirs(f\"dataset/Test/{folder_name}\")\n",
        "  files = sorted( glob.glob(f\"dataset2/{file_mask}\") )\n",
        "  train_qnty = int(0.8*len(files))\n",
        "    \n",
        "  [ shutil.copy(file, f\"dataset/Train/{folder_name}\")  for file in files[:train_qnty]  ]\n",
        "  [ shutil.copy(file, f\"dataset/Test/{folder_name}\")  for file in files[train_qnty:]  ]\n",
        "  print(folder_name, file_mask, len(files))"
      ],
      "metadata": {
        "colab": {
          "base_uri": "https://localhost:8080/"
        },
        "id": "h-RuDynOUD_3",
        "outputId": "f9d8b324-1550-4c58-c392-8db5eb329954"
      },
      "execution_count": 5,
      "outputs": [
        {
          "output_type": "stream",
          "name": "stdout",
          "text": [
            "Cloudy cloud*.* 300\n",
            "Rainy rain*.* 215\n",
            "Shiny shin*.* 253\n",
            "Sunrise sunrise*.* 357\n"
          ]
        }
      ]
    },
    {
      "cell_type": "code",
      "source": [
        "from keras.applications.vgg16 import VGG16, preprocess_input, decode_predictions\n",
        "from keras.preprocessing.image import load_img, img_to_array"
      ],
      "metadata": {
        "id": "y5289XhyXa_w"
      },
      "execution_count": 6,
      "outputs": []
    },
    {
      "cell_type": "code",
      "source": [
        "!wget -O cup.jpg \"https://lh5.googleusercontent.com/sTDIn5BK6czLJsB9u-m-VcLma4a6IbJ6rKL0NC3Vp8XESJuAoc5detOT9wtNobOX2CvCX4Qtel21vr7R3Jnv13MrbNIy-yhb-4z6H08wIthMXhce8mjglvufpLOzgx0ftFbvGphn\""
      ],
      "metadata": {
        "colab": {
          "base_uri": "https://localhost:8080/"
        },
        "id": "xJGmwEEuYYyq",
        "outputId": "66f50813-958a-41d1-f7db-9a6bbf61325c"
      },
      "execution_count": 7,
      "outputs": [
        {
          "output_type": "stream",
          "name": "stdout",
          "text": [
            "--2022-02-18 11:23:19--  https://lh5.googleusercontent.com/sTDIn5BK6czLJsB9u-m-VcLma4a6IbJ6rKL0NC3Vp8XESJuAoc5detOT9wtNobOX2CvCX4Qtel21vr7R3Jnv13MrbNIy-yhb-4z6H08wIthMXhce8mjglvufpLOzgx0ftFbvGphn\n",
            "Resolving lh5.googleusercontent.com (lh5.googleusercontent.com)... 74.125.195.132, 2607:f8b0:400e:c0c::84\n",
            "Connecting to lh5.googleusercontent.com (lh5.googleusercontent.com)|74.125.195.132|:443... connected.\n",
            "HTTP request sent, awaiting response... 200 OK\n",
            "Length: 30838 (30K) [image/jpeg]\n",
            "Saving to: ‘cup.jpg’\n",
            "\n",
            "\rcup.jpg               0%[                    ]       0  --.-KB/s               \rcup.jpg             100%[===================>]  30.12K  --.-KB/s    in 0s      \n",
            "\n",
            "2022-02-18 11:23:19 (133 MB/s) - ‘cup.jpg’ saved [30838/30838]\n",
            "\n"
          ]
        }
      ]
    },
    {
      "cell_type": "code",
      "source": [
        "img = load_img(\"cup.jpg\", target_size=(224,224))\n",
        "x = img_to_array(img)\n",
        "x = x.reshape( (1,)+x.shape  )\n",
        "x.shape"
      ],
      "metadata": {
        "colab": {
          "base_uri": "https://localhost:8080/"
        },
        "id": "ch8swGW-ZBUY",
        "outputId": "62f0cd83-1ea9-4df3-e746-72a967bab96a"
      },
      "execution_count": 8,
      "outputs": [
        {
          "output_type": "execute_result",
          "data": {
            "text/plain": [
              "(1, 224, 224, 3)"
            ]
          },
          "metadata": {},
          "execution_count": 8
        }
      ]
    },
    {
      "cell_type": "code",
      "source": [
        "# inicjalizacja sieci\n",
        "model = VGG16()\n",
        "predict = model.predict( preprocess_input(x) )"
      ],
      "metadata": {
        "colab": {
          "base_uri": "https://localhost:8080/"
        },
        "id": "FaNzJeTbZgYb",
        "outputId": "2f10e366-a3ce-455a-b583-c8652fb60f77"
      },
      "execution_count": 9,
      "outputs": [
        {
          "output_type": "stream",
          "name": "stdout",
          "text": [
            "Downloading data from https://storage.googleapis.com/tensorflow/keras-applications/vgg16/vgg16_weights_tf_dim_ordering_tf_kernels.h5\n",
            "553467904/553467096 [==============================] - 2s 0us/step\n",
            "553476096/553467096 [==============================] - 2s 0us/step\n"
          ]
        }
      ]
    },
    {
      "cell_type": "code",
      "source": [
        "decode_predictions(predict, top=10)"
      ],
      "metadata": {
        "colab": {
          "base_uri": "https://localhost:8080/"
        },
        "id": "1ZPnaIOqZ7yt",
        "outputId": "381ad670-b662-4a03-cbe5-55d33e52c2bb"
      },
      "execution_count": 10,
      "outputs": [
        {
          "output_type": "stream",
          "name": "stdout",
          "text": [
            "Downloading data from https://storage.googleapis.com/download.tensorflow.org/data/imagenet_class_index.json\n",
            "40960/35363 [==================================] - 0s 0us/step\n",
            "49152/35363 [=========================================] - 0s 0us/step\n"
          ]
        },
        {
          "output_type": "execute_result",
          "data": {
            "text/plain": [
              "[[('n03063599', 'coffee_mug', 0.2533003),\n",
              "  ('n07930864', 'cup', 0.17093909),\n",
              "  ('n04263257', 'soup_bowl', 0.16099045),\n",
              "  ('n07920052', 'espresso', 0.14152709),\n",
              "  ('n03733805', 'measuring_cup', 0.082045786),\n",
              "  ('n04398044', 'teapot', 0.04722244),\n",
              "  ('n03775546', 'mixing_bowl', 0.044552166),\n",
              "  ('n03786901', 'mortar', 0.024030173),\n",
              "  ('n03950228', 'pitcher', 0.014153445),\n",
              "  ('n04332243', 'strainer', 0.010426586)]]"
            ]
          },
          "metadata": {},
          "execution_count": 10
        }
      ]
    },
    {
      "cell_type": "code",
      "source": [
        "import numpy as np\n",
        "from keras.models import Model\n",
        "from keras.layers import Dense, Flatten\n",
        "from keras.preprocessing.image import ImageDataGenerator"
      ],
      "metadata": {
        "id": "4NcSKXjbaC25"
      },
      "execution_count": 11,
      "outputs": []
    },
    {
      "cell_type": "code",
      "source": [
        "# tworzymy nowa sieci na bazie starej\n",
        "model = VGG16(include_top=False, input_shape=(224, 224, 3))\n",
        "\n",
        "# wyłączenie z trenowania istniejących warstw\n",
        "for layer in model.layers:\n",
        "  layer.trainable = False\n",
        "\n",
        "# konwersja warstwy wyjsciowej istniejacego modelu na nową wartst wyjsciowa\n",
        "hidden = Flatten()(model.output)\n",
        "outputs = Dense(4, activation=\"softmax\")(hidden)\n",
        "\n",
        "# tworzymy nowy model na podstawie istniejącego modelu\n",
        "model = Model(inputs=model.input, outputs=outputs)\n",
        "model.summary()\n"
      ],
      "metadata": {
        "colab": {
          "base_uri": "https://localhost:8080/"
        },
        "id": "NhrgAm0OeIdJ",
        "outputId": "aa6fe494-1154-4de5-c500-6c6395e50f8b"
      },
      "execution_count": 31,
      "outputs": [
        {
          "output_type": "stream",
          "name": "stdout",
          "text": [
            "Model: \"model_2\"\n",
            "_________________________________________________________________\n",
            " Layer (type)                Output Shape              Param #   \n",
            "=================================================================\n",
            " input_4 (InputLayer)        [(None, 224, 224, 3)]     0         \n",
            "                                                                 \n",
            " block1_conv1 (Conv2D)       (None, 224, 224, 64)      1792      \n",
            "                                                                 \n",
            " block1_conv2 (Conv2D)       (None, 224, 224, 64)      36928     \n",
            "                                                                 \n",
            " block1_pool (MaxPooling2D)  (None, 112, 112, 64)      0         \n",
            "                                                                 \n",
            " block2_conv1 (Conv2D)       (None, 112, 112, 128)     73856     \n",
            "                                                                 \n",
            " block2_conv2 (Conv2D)       (None, 112, 112, 128)     147584    \n",
            "                                                                 \n",
            " block2_pool (MaxPooling2D)  (None, 56, 56, 128)       0         \n",
            "                                                                 \n",
            " block3_conv1 (Conv2D)       (None, 56, 56, 256)       295168    \n",
            "                                                                 \n",
            " block3_conv2 (Conv2D)       (None, 56, 56, 256)       590080    \n",
            "                                                                 \n",
            " block3_conv3 (Conv2D)       (None, 56, 56, 256)       590080    \n",
            "                                                                 \n",
            " block3_pool (MaxPooling2D)  (None, 28, 28, 256)       0         \n",
            "                                                                 \n",
            " block4_conv1 (Conv2D)       (None, 28, 28, 512)       1180160   \n",
            "                                                                 \n",
            " block4_conv2 (Conv2D)       (None, 28, 28, 512)       2359808   \n",
            "                                                                 \n",
            " block4_conv3 (Conv2D)       (None, 28, 28, 512)       2359808   \n",
            "                                                                 \n",
            " block4_pool (MaxPooling2D)  (None, 14, 14, 512)       0         \n",
            "                                                                 \n",
            " block5_conv1 (Conv2D)       (None, 14, 14, 512)       2359808   \n",
            "                                                                 \n",
            " block5_conv2 (Conv2D)       (None, 14, 14, 512)       2359808   \n",
            "                                                                 \n",
            " block5_conv3 (Conv2D)       (None, 14, 14, 512)       2359808   \n",
            "                                                                 \n",
            " block5_pool (MaxPooling2D)  (None, 7, 7, 512)         0         \n",
            "                                                                 \n",
            " flatten_2 (Flatten)         (None, 25088)             0         \n",
            "                                                                 \n",
            " dense_2 (Dense)             (None, 4)                 100356    \n",
            "                                                                 \n",
            "=================================================================\n",
            "Total params: 14,815,044\n",
            "Trainable params: 100,356\n",
            "Non-trainable params: 14,714,688\n",
            "_________________________________________________________________\n"
          ]
        }
      ]
    },
    {
      "cell_type": "code",
      "source": [
        "model.compile(optimizer=\"adam\", loss=\"categorical_crossentropy\", metrics=[\"accuracy\"])"
      ],
      "metadata": {
        "id": "aiVTT91zek2g"
      },
      "execution_count": 32,
      "outputs": []
    },
    {
      "cell_type": "code",
      "source": [
        "train_data_gen = ImageDataGenerator(\n",
        "    rescale=1/255, shear_range=0.5, zoom_range=0.7, \n",
        "    horizontal_flip=True, vertical_flip=True\n",
        ")\n",
        "\n",
        "test_data_gen = ImageDataGenerator(\n",
        "    rescale=1/255\n",
        ")"
      ],
      "metadata": {
        "id": "HbSTpMychlLg"
      },
      "execution_count": 33,
      "outputs": []
    },
    {
      "cell_type": "code",
      "source": [
        "train_data = train_data_gen.flow_from_directory(\"dataset/Train\", \n",
        "                                                target_size=(224,224), \n",
        "                                                class_mode=\"categorical\")\n",
        "\n",
        "test_data = train_data_gen.flow_from_directory(\"dataset/Test\", \n",
        "                                                target_size=(224,224), \n",
        "                                                class_mode=\"categorical\")"
      ],
      "metadata": {
        "colab": {
          "base_uri": "https://localhost:8080/"
        },
        "id": "h0VduJuwinKr",
        "outputId": "bfcbedc6-3191-476e-8727-b713a29607bb"
      },
      "execution_count": 34,
      "outputs": [
        {
          "output_type": "stream",
          "name": "stdout",
          "text": [
            "Found 899 images belonging to 4 classes.\n",
            "Found 226 images belonging to 4 classes.\n"
          ]
        }
      ]
    },
    {
      "cell_type": "code",
      "source": [
        "test_data.class_indices"
      ],
      "metadata": {
        "colab": {
          "base_uri": "https://localhost:8080/"
        },
        "id": "lcFqJEPOjdHa",
        "outputId": "d570014b-f6ef-4825-ada7-bdf794a6ae81"
      },
      "execution_count": 35,
      "outputs": [
        {
          "output_type": "execute_result",
          "data": {
            "text/plain": [
              "{'Cloudy': 0, 'Rainy': 1, 'Shiny': 2, 'Sunrise': 3}"
            ]
          },
          "metadata": {},
          "execution_count": 35
        }
      ]
    },
    {
      "cell_type": "code",
      "source": [
        "from keras.callbacks import ModelCheckpoint"
      ],
      "metadata": {
        "id": "FJBzYE2ioOYA"
      },
      "execution_count": 36,
      "outputs": []
    },
    {
      "cell_type": "code",
      "source": [
        "mcp = ModelCheckpoint(\"/content/drive/MyDrive/vgg16-v1.h5\", save_best_only=True)\n",
        "result = model.fit_generator(train_data, epochs=100, validation_data=test_data, callbacks=[mcp])"
      ],
      "metadata": {
        "colab": {
          "base_uri": "https://localhost:8080/"
        },
        "id": "VKK4Q_BYjoyu",
        "outputId": "27bc1b0e-6fe7-498b-dd0d-e8e6e3f4db0c"
      },
      "execution_count": null,
      "outputs": [
        {
          "output_type": "stream",
          "name": "stderr",
          "text": [
            "/usr/local/lib/python3.7/dist-packages/ipykernel_launcher.py:2: UserWarning: `Model.fit_generator` is deprecated and will be removed in a future version. Please use `Model.fit`, which supports generators.\n",
            "  \n"
          ]
        },
        {
          "output_type": "stream",
          "name": "stdout",
          "text": [
            "Epoch 1/100\n",
            "29/29 [==============================] - 20s 674ms/step - loss: 1.2853 - accuracy: 0.5261 - val_loss: 0.7086 - val_accuracy: 0.7257\n",
            "Epoch 2/100\n",
            "29/29 [==============================] - 20s 684ms/step - loss: 0.5264 - accuracy: 0.8109 - val_loss: 0.4511 - val_accuracy: 0.8407\n",
            "Epoch 3/100\n",
            "29/29 [==============================] - 20s 693ms/step - loss: 0.4000 - accuracy: 0.8554 - val_loss: 0.4458 - val_accuracy: 0.8142\n",
            "Epoch 4/100\n",
            "29/29 [==============================] - 20s 696ms/step - loss: 0.3814 - accuracy: 0.8732 - val_loss: 0.3498 - val_accuracy: 0.8850\n",
            "Epoch 5/100\n",
            "29/29 [==============================] - 19s 647ms/step - loss: 0.3492 - accuracy: 0.8710 - val_loss: 0.3937 - val_accuracy: 0.8628\n",
            "Epoch 6/100\n",
            "29/29 [==============================] - 18s 636ms/step - loss: 0.3107 - accuracy: 0.8954 - val_loss: 0.4164 - val_accuracy: 0.8319\n",
            "Epoch 7/100\n",
            "29/29 [==============================] - 19s 658ms/step - loss: 0.3138 - accuracy: 0.8888 - val_loss: 0.2281 - val_accuracy: 0.9159\n",
            "Epoch 8/100\n",
            "29/29 [==============================] - 19s 646ms/step - loss: 0.3134 - accuracy: 0.8854 - val_loss: 0.2770 - val_accuracy: 0.9027\n",
            "Epoch 9/100\n",
            "29/29 [==============================] - 19s 639ms/step - loss: 0.2583 - accuracy: 0.9032 - val_loss: 0.4300 - val_accuracy: 0.8186\n",
            "Epoch 10/100\n",
            "29/29 [==============================] - 18s 637ms/step - loss: 0.2470 - accuracy: 0.9088 - val_loss: 0.2693 - val_accuracy: 0.9071\n",
            "Epoch 11/100\n",
            "29/29 [==============================] - 19s 642ms/step - loss: 0.2162 - accuracy: 0.9221 - val_loss: 0.2850 - val_accuracy: 0.8938\n",
            "Epoch 12/100\n",
            "29/29 [==============================] - 18s 639ms/step - loss: 0.2193 - accuracy: 0.9166 - val_loss: 0.2540 - val_accuracy: 0.9204\n",
            "Epoch 13/100\n",
            "29/29 [==============================] - 18s 641ms/step - loss: 0.2070 - accuracy: 0.9355 - val_loss: 0.2498 - val_accuracy: 0.9204\n",
            "Epoch 14/100\n",
            "29/29 [==============================] - 18s 652ms/step - loss: 0.1898 - accuracy: 0.9399 - val_loss: 0.2436 - val_accuracy: 0.9071\n",
            "Epoch 15/100\n",
            "29/29 [==============================] - 19s 654ms/step - loss: 0.1883 - accuracy: 0.9422 - val_loss: 0.1812 - val_accuracy: 0.9381\n",
            "Epoch 16/100\n",
            "29/29 [==============================] - 19s 644ms/step - loss: 0.1890 - accuracy: 0.9366 - val_loss: 0.2263 - val_accuracy: 0.9027\n",
            "Epoch 17/100\n",
            "29/29 [==============================] - 18s 641ms/step - loss: 0.1607 - accuracy: 0.9466 - val_loss: 0.2046 - val_accuracy: 0.9159\n",
            "Epoch 18/100\n",
            "29/29 [==============================] - 19s 638ms/step - loss: 0.1752 - accuracy: 0.9555 - val_loss: 0.2762 - val_accuracy: 0.9027\n",
            "Epoch 19/100\n",
            "15/29 [==============>...............] - ETA: 6s - loss: 0.1841 - accuracy: 0.9180"
          ]
        }
      ]
    },
    {
      "cell_type": "code",
      "source": [
        "import pandas as pd"
      ],
      "metadata": {
        "id": "SW2SJQ1ukWW1"
      },
      "execution_count": null,
      "outputs": []
    },
    {
      "cell_type": "code",
      "source": [
        "pd.DataFrame(result.history)[ [\"accuracy\",\"val_accuracy\"] ].plot()"
      ],
      "metadata": {
        "id": "GbQ4rOgnl37v"
      },
      "execution_count": null,
      "outputs": []
    },
    {
      "cell_type": "code",
      "source": [
        "!wget -O \"sky.jpg\" \"https://thumbs.dreamstime.com/b/bright-blue-cloudy-sky-background-texture-photo-42976329.jpg\"\n",
        "\n",
        "#img = load_img(\"sky.jpg\", target_size=(224,224))\n",
        "img = load_img(\"/content/dataset/Test/Cloudy/cloudy6.jpg\", target_size=(224,224))\n",
        "\n",
        "x = img_to_array(img)\n",
        "x = x.reshape( (1,)+x.shape  )\n",
        "\n",
        "prediction = model.predict( preprocess_input(x) )\n",
        "print(prediction)\n",
        "np.argmax(prediction)"
      ],
      "metadata": {
        "id": "HXPEIdXFl70L"
      },
      "execution_count": null,
      "outputs": []
    },
    {
      "cell_type": "code",
      "source": [
        "test_data.class_indices"
      ],
      "metadata": {
        "id": "rl3zqKRNmvRo"
      },
      "execution_count": null,
      "outputs": []
    },
    {
      "cell_type": "code",
      "source": [
        ""
      ],
      "metadata": {
        "id": "FdCoqjMGm3rg"
      },
      "execution_count": null,
      "outputs": []
    }
  ]
}