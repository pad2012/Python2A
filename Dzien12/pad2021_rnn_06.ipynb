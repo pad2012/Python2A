{
  "nbformat": 4,
  "nbformat_minor": 0,
  "metadata": {
    "colab": {
      "name": "pad2021-rnn-06.ipynb",
      "provenance": [],
      "collapsed_sections": []
    },
    "kernelspec": {
      "name": "python3",
      "display_name": "Python 3"
    },
    "language_info": {
      "name": "python"
    }
  },
  "cells": [
    {
      "cell_type": "code",
      "execution_count": 1,
      "metadata": {
        "id": "sHqK_fkZ-qy-"
      },
      "outputs": [],
      "source": [
        "import pandas as pd\n",
        "import numpy as np\n",
        "import matplotlib.pyplot as plt\n"
      ]
    },
    {
      "cell_type": "code",
      "source": [
        "stock_data = pd.read_csv(\"https://stooq.com/q/d/l/?s=cdr&d1=20190101&d2=20220201&i=d\")\n",
        "stock_data.head()"
      ],
      "metadata": {
        "colab": {
          "base_uri": "https://localhost:8080/",
          "height": 206
        },
        "id": "DMKZBx8i-1wE",
        "outputId": "005ea58b-f111-4b53-98fa-4cb2142a1d02"
      },
      "execution_count": 2,
      "outputs": [
        {
          "output_type": "execute_result",
          "data": {
            "text/html": [
              "\n",
              "  <div id=\"df-c4c47726-d531-4365-a8a7-90577422f112\">\n",
              "    <div class=\"colab-df-container\">\n",
              "      <div>\n",
              "<style scoped>\n",
              "    .dataframe tbody tr th:only-of-type {\n",
              "        vertical-align: middle;\n",
              "    }\n",
              "\n",
              "    .dataframe tbody tr th {\n",
              "        vertical-align: top;\n",
              "    }\n",
              "\n",
              "    .dataframe thead th {\n",
              "        text-align: right;\n",
              "    }\n",
              "</style>\n",
              "<table border=\"1\" class=\"dataframe\">\n",
              "  <thead>\n",
              "    <tr style=\"text-align: right;\">\n",
              "      <th></th>\n",
              "      <th>Date</th>\n",
              "      <th>Open</th>\n",
              "      <th>High</th>\n",
              "      <th>Low</th>\n",
              "      <th>Close</th>\n",
              "      <th>Volume</th>\n",
              "    </tr>\n",
              "  </thead>\n",
              "  <tbody>\n",
              "    <tr>\n",
              "      <th>0</th>\n",
              "      <td>2019-01-02</td>\n",
              "      <td>140.66</td>\n",
              "      <td>146.36</td>\n",
              "      <td>137.46</td>\n",
              "      <td>146.07</td>\n",
              "      <td>203661</td>\n",
              "    </tr>\n",
              "    <tr>\n",
              "      <th>1</th>\n",
              "      <td>2019-01-03</td>\n",
              "      <td>145.88</td>\n",
              "      <td>145.88</td>\n",
              "      <td>142.20</td>\n",
              "      <td>143.17</td>\n",
              "      <td>231128</td>\n",
              "    </tr>\n",
              "    <tr>\n",
              "      <th>2</th>\n",
              "      <td>2019-01-04</td>\n",
              "      <td>143.17</td>\n",
              "      <td>145.88</td>\n",
              "      <td>143.17</td>\n",
              "      <td>145.78</td>\n",
              "      <td>169481</td>\n",
              "    </tr>\n",
              "    <tr>\n",
              "      <th>3</th>\n",
              "      <td>2019-01-07</td>\n",
              "      <td>147.04</td>\n",
              "      <td>149.55</td>\n",
              "      <td>146.56</td>\n",
              "      <td>148.69</td>\n",
              "      <td>194329</td>\n",
              "    </tr>\n",
              "    <tr>\n",
              "      <th>4</th>\n",
              "      <td>2019-01-08</td>\n",
              "      <td>149.45</td>\n",
              "      <td>151.58</td>\n",
              "      <td>147.04</td>\n",
              "      <td>148.59</td>\n",
              "      <td>287699</td>\n",
              "    </tr>\n",
              "  </tbody>\n",
              "</table>\n",
              "</div>\n",
              "      <button class=\"colab-df-convert\" onclick=\"convertToInteractive('df-c4c47726-d531-4365-a8a7-90577422f112')\"\n",
              "              title=\"Convert this dataframe to an interactive table.\"\n",
              "              style=\"display:none;\">\n",
              "        \n",
              "  <svg xmlns=\"http://www.w3.org/2000/svg\" height=\"24px\"viewBox=\"0 0 24 24\"\n",
              "       width=\"24px\">\n",
              "    <path d=\"M0 0h24v24H0V0z\" fill=\"none\"/>\n",
              "    <path d=\"M18.56 5.44l.94 2.06.94-2.06 2.06-.94-2.06-.94-.94-2.06-.94 2.06-2.06.94zm-11 1L8.5 8.5l.94-2.06 2.06-.94-2.06-.94L8.5 2.5l-.94 2.06-2.06.94zm10 10l.94 2.06.94-2.06 2.06-.94-2.06-.94-.94-2.06-.94 2.06-2.06.94z\"/><path d=\"M17.41 7.96l-1.37-1.37c-.4-.4-.92-.59-1.43-.59-.52 0-1.04.2-1.43.59L10.3 9.45l-7.72 7.72c-.78.78-.78 2.05 0 2.83L4 21.41c.39.39.9.59 1.41.59.51 0 1.02-.2 1.41-.59l7.78-7.78 2.81-2.81c.8-.78.8-2.07 0-2.86zM5.41 20L4 18.59l7.72-7.72 1.47 1.35L5.41 20z\"/>\n",
              "  </svg>\n",
              "      </button>\n",
              "      \n",
              "  <style>\n",
              "    .colab-df-container {\n",
              "      display:flex;\n",
              "      flex-wrap:wrap;\n",
              "      gap: 12px;\n",
              "    }\n",
              "\n",
              "    .colab-df-convert {\n",
              "      background-color: #E8F0FE;\n",
              "      border: none;\n",
              "      border-radius: 50%;\n",
              "      cursor: pointer;\n",
              "      display: none;\n",
              "      fill: #1967D2;\n",
              "      height: 32px;\n",
              "      padding: 0 0 0 0;\n",
              "      width: 32px;\n",
              "    }\n",
              "\n",
              "    .colab-df-convert:hover {\n",
              "      background-color: #E2EBFA;\n",
              "      box-shadow: 0px 1px 2px rgba(60, 64, 67, 0.3), 0px 1px 3px 1px rgba(60, 64, 67, 0.15);\n",
              "      fill: #174EA6;\n",
              "    }\n",
              "\n",
              "    [theme=dark] .colab-df-convert {\n",
              "      background-color: #3B4455;\n",
              "      fill: #D2E3FC;\n",
              "    }\n",
              "\n",
              "    [theme=dark] .colab-df-convert:hover {\n",
              "      background-color: #434B5C;\n",
              "      box-shadow: 0px 1px 3px 1px rgba(0, 0, 0, 0.15);\n",
              "      filter: drop-shadow(0px 1px 2px rgba(0, 0, 0, 0.3));\n",
              "      fill: #FFFFFF;\n",
              "    }\n",
              "  </style>\n",
              "\n",
              "      <script>\n",
              "        const buttonEl =\n",
              "          document.querySelector('#df-c4c47726-d531-4365-a8a7-90577422f112 button.colab-df-convert');\n",
              "        buttonEl.style.display =\n",
              "          google.colab.kernel.accessAllowed ? 'block' : 'none';\n",
              "\n",
              "        async function convertToInteractive(key) {\n",
              "          const element = document.querySelector('#df-c4c47726-d531-4365-a8a7-90577422f112');\n",
              "          const dataTable =\n",
              "            await google.colab.kernel.invokeFunction('convertToInteractive',\n",
              "                                                     [key], {});\n",
              "          if (!dataTable) return;\n",
              "\n",
              "          const docLinkHtml = 'Like what you see? Visit the ' +\n",
              "            '<a target=\"_blank\" href=https://colab.research.google.com/notebooks/data_table.ipynb>data table notebook</a>'\n",
              "            + ' to learn more about interactive tables.';\n",
              "          element.innerHTML = '';\n",
              "          dataTable['output_type'] = 'display_data';\n",
              "          await google.colab.output.renderOutput(dataTable, element);\n",
              "          const docLink = document.createElement('div');\n",
              "          docLink.innerHTML = docLinkHtml;\n",
              "          element.appendChild(docLink);\n",
              "        }\n",
              "      </script>\n",
              "    </div>\n",
              "  </div>\n",
              "  "
            ],
            "text/plain": [
              "         Date    Open    High     Low   Close  Volume\n",
              "0  2019-01-02  140.66  146.36  137.46  146.07  203661\n",
              "1  2019-01-03  145.88  145.88  142.20  143.17  231128\n",
              "2  2019-01-04  143.17  145.88  143.17  145.78  169481\n",
              "3  2019-01-07  147.04  149.55  146.56  148.69  194329\n",
              "4  2019-01-08  149.45  151.58  147.04  148.59  287699"
            ]
          },
          "metadata": {},
          "execution_count": 2
        }
      ]
    },
    {
      "cell_type": "code",
      "source": [
        "stock_data.Close.plot(figsize=(22,6))"
      ],
      "metadata": {
        "colab": {
          "base_uri": "https://localhost:8080/",
          "height": 361
        },
        "id": "A5B5dpyB_QI-",
        "outputId": "2baae3d3-5626-4294-d931-723fee1c7572"
      },
      "execution_count": 4,
      "outputs": [
        {
          "output_type": "execute_result",
          "data": {
            "text/plain": [
              "<matplotlib.axes._subplots.AxesSubplot at 0x7f9743933f90>"
            ]
          },
          "metadata": {},
          "execution_count": 4
        },
        {
          "output_type": "display_data",
          "data": {
            "image/png": "[encoded data removed]",
            "text/plain": [
              "<Figure size 1584x432 with 1 Axes>"
            ]
          },
          "metadata": {
            "needs_background": "light"
          }
        }
      ]
    },
    {
      "cell_type": "code",
      "source": [
        "close_data = stock_data[[\"Close\"]].values\n",
        "print(close_data[:5])"
      ],
      "metadata": {
        "colab": {
          "base_uri": "https://localhost:8080/"
        },
        "id": "ZQmcfIt7_rYE",
        "outputId": "fd4ae9b9-4031-4c48-aa1c-724ff2a78738"
      },
      "execution_count": 8,
      "outputs": [
        {
          "output_type": "stream",
          "name": "stdout",
          "text": [
            "[[146.07]\n",
            " [143.17]\n",
            " [145.78]\n",
            " [148.69]\n",
            " [148.59]]\n"
          ]
        }
      ]
    },
    {
      "cell_type": "code",
      "source": [
        "from sklearn.preprocessing import MinMaxScaler\n",
        "\n",
        "scaler = MinMaxScaler()\n",
        "data_scaler = scaler.fit(close_data)\n",
        "\n",
        "X = data_scaler.transform(close_data)\n",
        "print(X[:5])"
      ],
      "metadata": {
        "colab": {
          "base_uri": "https://localhost:8080/"
        },
        "id": "TevkNd8uA15u",
        "outputId": "5297b453-12e1-4a2c-80c0-f6ff851fa5c8"
      },
      "execution_count": 9,
      "outputs": [
        {
          "output_type": "stream",
          "name": "stdout",
          "text": [
            "[[0.00951662]\n",
            " [0.        ]\n",
            " [0.00856496]\n",
            " [0.0181144 ]\n",
            " [0.01778624]]\n"
          ]
        }
      ]
    },
    {
      "cell_type": "code",
      "source": [
        "plt.plot(X)"
      ],
      "metadata": {
        "id": "W23CjX1QBQLf"
      },
      "execution_count": null,
      "outputs": []
    },
    {
      "cell_type": "code",
      "source": [
        "time_steps = 10 # liczba próbek historycznych względem probki N\n",
        "number_of_rows = len(X)\n",
        "\n",
        "X_samples = []\n",
        "y_samples = []\n",
        "\n",
        "for i in range(time_steps, number_of_rows):\n",
        "  x_sample = X[i-time_steps:i]\n",
        "  y_sample = X[i]\n",
        "\n",
        "  X_samples.append(x_sample)\n",
        "  y_samples.append(y_sample)"
      ],
      "metadata": {
        "id": "uFtneeO6B6r-"
      },
      "execution_count": 12,
      "outputs": []
    },
    {
      "cell_type": "code",
      "source": [
        "X_data = np.array(X_samples)\n",
        "print(X_data.shape)\n",
        "\n",
        "y_data = np.array( y_samples )\n",
        "print(y_data.shape)"
      ],
      "metadata": {
        "colab": {
          "base_uri": "https://localhost:8080/"
        },
        "id": "w7JiCtTACtfv",
        "outputId": "e960cccd-b2e2-4b0a-b260-c5b6903f01b2"
      },
      "execution_count": 20,
      "outputs": [
        {
          "output_type": "stream",
          "name": "stdout",
          "text": [
            "(762, 10, 1)\n",
            "(762, 1)\n"
          ]
        }
      ]
    },
    {
      "cell_type": "code",
      "source": [
        "test_records = int(len(X_data)*.15)\n",
        "print(test_records)\n",
        "\n",
        "# podział danych\n",
        "X_train = X_data[:-test_records]\n",
        "X_test = X_data[-test_records:]\n",
        "\n",
        "y_train = y_data[:-test_records]\n",
        "y_test = y_data[-test_records:]"
      ],
      "metadata": {
        "colab": {
          "base_uri": "https://localhost:8080/"
        },
        "id": "0War5o7SD1yr",
        "outputId": "75066134-90af-4255-907e-e2e3a7cf6400"
      },
      "execution_count": 22,
      "outputs": [
        {
          "output_type": "stream",
          "name": "stdout",
          "text": [
            "114\n"
          ]
        }
      ]
    },
    {
      "cell_type": "code",
      "source": [
        "from keras.models import Sequential\n",
        "from keras.layers import Dense, LSTM"
      ],
      "metadata": {
        "id": "vgLdNISGFUl6"
      },
      "execution_count": 23,
      "outputs": []
    },
    {
      "cell_type": "code",
      "source": [
        "model = Sequential()\n",
        "\n",
        "model.add(LSTM(10, activation=\"relu\", input_shape=(time_steps,1), return_sequences=True ))\n",
        "\n",
        "model.add(LSTM(5, activation=\"relu\", input_shape=(time_steps,1), return_sequences=True ))\n",
        "\n",
        "model.add(LSTM(5, activation=\"relu\", return_sequences=False ))\n",
        "\n",
        "model.add(Dense(1))"
      ],
      "metadata": {
        "id": "iIpdoCphHE5D"
      },
      "execution_count": 25,
      "outputs": []
    },
    {
      "cell_type": "code",
      "source": [
        "model.compile(optimizer=\"adam\", loss=\"mae\")"
      ],
      "metadata": {
        "id": "fnvZ32ZQHH5H"
      },
      "execution_count": 26,
      "outputs": []
    },
    {
      "cell_type": "code",
      "source": [
        "result = model.fit(X_train, y_train, epochs=150)"
      ],
      "metadata": {
        "colab": {
          "base_uri": "https://localhost:8080/"
        },
        "id": "kvX6DpglI1zm",
        "outputId": "48279252-f233-4cc8-a8f4-de42e17f56b0"
      },
      "execution_count": 27,
      "outputs": [
        {
          "output_type": "stream",
          "name": "stdout",
          "text": [
            "Epoch 1/150\n",
            "21/21 [==============================] - 6s 14ms/step - loss: 0.3831\n",
            "Epoch 2/150\n",
            "21/21 [==============================] - 0s 13ms/step - loss: 0.3283\n",
            "Epoch 3/150\n",
            "21/21 [==============================] - 0s 14ms/step - loss: 0.2610\n",
            "Epoch 4/150\n",
            "21/21 [==============================] - 0s 14ms/step - loss: 0.1861\n",
            "Epoch 5/150\n",
            "21/21 [==============================] - 0s 14ms/step - loss: 0.1213\n",
            "Epoch 6/150\n",
            "21/21 [==============================] - 0s 14ms/step - loss: 0.0737\n",
            "Epoch 7/150\n",
            "21/21 [==============================] - 0s 14ms/step - loss: 0.0650\n",
            "Epoch 8/150\n",
            "21/21 [==============================] - 0s 14ms/step - loss: 0.0633\n",
            "Epoch 9/150\n",
            "21/21 [==============================] - 0s 14ms/step - loss: 0.0601\n",
            "Epoch 10/150\n",
            "21/21 [==============================] - 0s 14ms/step - loss: 0.0561\n",
            "Epoch 11/150\n",
            "21/21 [==============================] - 0s 14ms/step - loss: 0.0538\n",
            "Epoch 12/150\n",
            "21/21 [==============================] - 0s 14ms/step - loss: 0.0521\n",
            "Epoch 13/150\n",
            "21/21 [==============================] - 0s 15ms/step - loss: 0.0497\n",
            "Epoch 14/150\n",
            "21/21 [==============================] - 0s 13ms/step - loss: 0.0492\n",
            "Epoch 15/150\n",
            "21/21 [==============================] - 0s 14ms/step - loss: 0.0501\n",
            "Epoch 16/150\n",
            "21/21 [==============================] - 0s 14ms/step - loss: 0.0477\n",
            "Epoch 17/150\n",
            "21/21 [==============================] - 0s 15ms/step - loss: 0.0459\n",
            "Epoch 18/150\n",
            "21/21 [==============================] - 0s 14ms/step - loss: 0.0454\n",
            "Epoch 19/150\n",
            "21/21 [==============================] - 0s 14ms/step - loss: 0.0449\n",
            "Epoch 20/150\n",
            "21/21 [==============================] - 0s 14ms/step - loss: 0.0449\n",
            "Epoch 21/150\n",
            "21/21 [==============================] - 0s 15ms/step - loss: 0.0475\n",
            "Epoch 22/150\n",
            "21/21 [==============================] - 0s 14ms/step - loss: 0.0449\n",
            "Epoch 23/150\n",
            "21/21 [==============================] - 0s 15ms/step - loss: 0.0471\n",
            "Epoch 24/150\n",
            "21/21 [==============================] - 0s 14ms/step - loss: 0.0473\n",
            "Epoch 25/150\n",
            "21/21 [==============================] - 0s 15ms/step - loss: 0.0453\n",
            "Epoch 26/150\n",
            "21/21 [==============================] - 0s 15ms/step - loss: 0.0449\n",
            "Epoch 27/150\n",
            "21/21 [==============================] - 0s 14ms/step - loss: 0.0448\n",
            "Epoch 28/150\n",
            "21/21 [==============================] - 0s 14ms/step - loss: 0.0451\n",
            "Epoch 29/150\n",
            "21/21 [==============================] - 0s 14ms/step - loss: 0.0443\n",
            "Epoch 30/150\n",
            "21/21 [==============================] - 0s 14ms/step - loss: 0.0458\n",
            "Epoch 31/150\n",
            "21/21 [==============================] - 0s 14ms/step - loss: 0.0435\n",
            "Epoch 32/150\n",
            "21/21 [==============================] - 0s 14ms/step - loss: 0.0433\n",
            "Epoch 33/150\n",
            "21/21 [==============================] - 0s 14ms/step - loss: 0.0436\n",
            "Epoch 34/150\n",
            "21/21 [==============================] - 0s 14ms/step - loss: 0.0438\n",
            "Epoch 35/150\n",
            "21/21 [==============================] - 0s 13ms/step - loss: 0.0448\n",
            "Epoch 36/150\n",
            "21/21 [==============================] - 0s 14ms/step - loss: 0.0435\n",
            "Epoch 37/150\n",
            "21/21 [==============================] - 0s 14ms/step - loss: 0.0431\n",
            "Epoch 38/150\n",
            "21/21 [==============================] - 0s 14ms/step - loss: 0.0438\n",
            "Epoch 39/150\n",
            "21/21 [==============================] - 0s 14ms/step - loss: 0.0429\n",
            "Epoch 40/150\n",
            "21/21 [==============================] - 0s 15ms/step - loss: 0.0432\n",
            "Epoch 41/150\n",
            "21/21 [==============================] - 0s 14ms/step - loss: 0.0439\n",
            "Epoch 42/150\n",
            "21/21 [==============================] - 0s 14ms/step - loss: 0.0432\n",
            "Epoch 43/150\n",
            "21/21 [==============================] - 0s 14ms/step - loss: 0.0427\n",
            "Epoch 44/150\n",
            "21/21 [==============================] - 0s 14ms/step - loss: 0.0422\n",
            "Epoch 45/150\n",
            "21/21 [==============================] - 0s 13ms/step - loss: 0.0422\n",
            "Epoch 46/150\n",
            "21/21 [==============================] - 0s 15ms/step - loss: 0.0429\n",
            "Epoch 47/150\n",
            "21/21 [==============================] - 0s 14ms/step - loss: 0.0424\n",
            "Epoch 48/150\n",
            "21/21 [==============================] - 0s 14ms/step - loss: 0.0415\n",
            "Epoch 49/150\n",
            "21/21 [==============================] - 0s 14ms/step - loss: 0.0416\n",
            "Epoch 50/150\n",
            "21/21 [==============================] - 0s 14ms/step - loss: 0.0416\n",
            "Epoch 51/150\n",
            "21/21 [==============================] - 0s 15ms/step - loss: 0.0416\n",
            "Epoch 52/150\n",
            "21/21 [==============================] - 0s 14ms/step - loss: 0.0412\n",
            "Epoch 53/150\n",
            "21/21 [==============================] - 0s 14ms/step - loss: 0.0406\n",
            "Epoch 54/150\n",
            "21/21 [==============================] - 0s 14ms/step - loss: 0.0420\n",
            "Epoch 55/150\n",
            "21/21 [==============================] - 0s 13ms/step - loss: 0.0416\n",
            "Epoch 56/150\n",
            "21/21 [==============================] - 0s 13ms/step - loss: 0.0420\n",
            "Epoch 57/150\n",
            "21/21 [==============================] - 0s 15ms/step - loss: 0.0413\n",
            "Epoch 58/150\n",
            "21/21 [==============================] - 0s 14ms/step - loss: 0.0409\n",
            "Epoch 59/150\n",
            "21/21 [==============================] - 0s 14ms/step - loss: 0.0402\n",
            "Epoch 60/150\n",
            "21/21 [==============================] - 0s 14ms/step - loss: 0.0408\n",
            "Epoch 61/150\n",
            "21/21 [==============================] - 0s 13ms/step - loss: 0.0405\n",
            "Epoch 62/150\n",
            "21/21 [==============================] - 0s 14ms/step - loss: 0.0397\n",
            "Epoch 63/150\n",
            "21/21 [==============================] - 0s 13ms/step - loss: 0.0401\n",
            "Epoch 64/150\n",
            "21/21 [==============================] - 0s 14ms/step - loss: 0.0412\n",
            "Epoch 65/150\n",
            "21/21 [==============================] - 0s 14ms/step - loss: 0.0402\n",
            "Epoch 66/150\n",
            "21/21 [==============================] - 0s 14ms/step - loss: 0.0414\n",
            "Epoch 67/150\n",
            "21/21 [==============================] - 0s 14ms/step - loss: 0.0403\n",
            "Epoch 68/150\n",
            "21/21 [==============================] - 0s 14ms/step - loss: 0.0404\n",
            "Epoch 69/150\n",
            "21/21 [==============================] - 0s 13ms/step - loss: 0.0393\n",
            "Epoch 70/150\n",
            "21/21 [==============================] - 0s 14ms/step - loss: 0.0393\n",
            "Epoch 71/150\n",
            "21/21 [==============================] - 0s 15ms/step - loss: 0.0407\n",
            "Epoch 72/150\n",
            "21/21 [==============================] - 0s 14ms/step - loss: 0.0399\n",
            "Epoch 73/150\n",
            "21/21 [==============================] - 0s 14ms/step - loss: 0.0413\n",
            "Epoch 74/150\n",
            "21/21 [==============================] - 0s 15ms/step - loss: 0.0409\n",
            "Epoch 75/150\n",
            "21/21 [==============================] - 0s 14ms/step - loss: 0.0394\n",
            "Epoch 76/150\n",
            "21/21 [==============================] - 0s 13ms/step - loss: 0.0392\n",
            "Epoch 77/150\n",
            "21/21 [==============================] - 0s 14ms/step - loss: 0.0391\n",
            "Epoch 78/150\n",
            "21/21 [==============================] - 0s 14ms/step - loss: 0.0390\n",
            "Epoch 79/150\n",
            "21/21 [==============================] - 0s 14ms/step - loss: 0.0386\n",
            "Epoch 80/150\n",
            "21/21 [==============================] - 0s 14ms/step - loss: 0.0389\n",
            "Epoch 81/150\n",
            "21/21 [==============================] - 0s 14ms/step - loss: 0.0394\n",
            "Epoch 82/150\n",
            "21/21 [==============================] - 0s 14ms/step - loss: 0.0395\n",
            "Epoch 83/150\n",
            "21/21 [==============================] - 0s 14ms/step - loss: 0.0399\n",
            "Epoch 84/150\n",
            "21/21 [==============================] - 0s 14ms/step - loss: 0.0389\n",
            "Epoch 85/150\n",
            "21/21 [==============================] - 0s 14ms/step - loss: 0.0387\n",
            "Epoch 86/150\n",
            "21/21 [==============================] - 0s 14ms/step - loss: 0.0380\n",
            "Epoch 87/150\n",
            "21/21 [==============================] - 0s 14ms/step - loss: 0.0388\n",
            "Epoch 88/150\n",
            "21/21 [==============================] - 0s 14ms/step - loss: 0.0386\n",
            "Epoch 89/150\n",
            "21/21 [==============================] - 0s 14ms/step - loss: 0.0406\n",
            "Epoch 90/150\n",
            "21/21 [==============================] - 0s 13ms/step - loss: 0.0382\n",
            "Epoch 91/150\n",
            "21/21 [==============================] - 0s 15ms/step - loss: 0.0382\n",
            "Epoch 92/150\n",
            "21/21 [==============================] - 0s 14ms/step - loss: 0.0389\n",
            "Epoch 93/150\n",
            "21/21 [==============================] - 0s 14ms/step - loss: 0.0391\n",
            "Epoch 94/150\n",
            "21/21 [==============================] - 0s 14ms/step - loss: 0.0421\n",
            "Epoch 95/150\n",
            "21/21 [==============================] - 0s 15ms/step - loss: 0.0421\n",
            "Epoch 96/150\n",
            "21/21 [==============================] - 0s 15ms/step - loss: 0.0384\n",
            "Epoch 97/150\n",
            "21/21 [==============================] - 0s 14ms/step - loss: 0.0381\n",
            "Epoch 98/150\n",
            "21/21 [==============================] - 0s 14ms/step - loss: 0.0383\n",
            "Epoch 99/150\n",
            "21/21 [==============================] - 0s 14ms/step - loss: 0.0381\n",
            "Epoch 100/150\n",
            "21/21 [==============================] - 0s 14ms/step - loss: 0.0375\n",
            "Epoch 101/150\n",
            "21/21 [==============================] - 1s 35ms/step - loss: 0.0381\n",
            "Epoch 102/150\n",
            "21/21 [==============================] - 1s 31ms/step - loss: 0.0387\n",
            "Epoch 103/150\n",
            "21/21 [==============================] - 0s 16ms/step - loss: 0.0372\n",
            "Epoch 104/150\n",
            "21/21 [==============================] - 1s 31ms/step - loss: 0.0370\n",
            "Epoch 105/150\n",
            "21/21 [==============================] - 1s 31ms/step - loss: 0.0379\n",
            "Epoch 106/150\n",
            "21/21 [==============================] - 0s 18ms/step - loss: 0.0374\n",
            "Epoch 107/150\n",
            "21/21 [==============================] - 1s 26ms/step - loss: 0.0374\n",
            "Epoch 108/150\n",
            "21/21 [==============================] - 1s 37ms/step - loss: 0.0375\n",
            "Epoch 109/150\n",
            "21/21 [==============================] - 0s 21ms/step - loss: 0.0382\n",
            "Epoch 110/150\n",
            "21/21 [==============================] - 0s 14ms/step - loss: 0.0371\n",
            "Epoch 111/150\n",
            "21/21 [==============================] - 0s 14ms/step - loss: 0.0369\n",
            "Epoch 112/150\n",
            "21/21 [==============================] - 0s 15ms/step - loss: 0.0367\n",
            "Epoch 113/150\n",
            "21/21 [==============================] - 0s 14ms/step - loss: 0.0463\n",
            "Epoch 114/150\n",
            "21/21 [==============================] - 0s 13ms/step - loss: 0.0401\n",
            "Epoch 115/150\n",
            "21/21 [==============================] - 0s 13ms/step - loss: 0.0381\n",
            "Epoch 116/150\n",
            "21/21 [==============================] - 0s 14ms/step - loss: 0.0375\n",
            "Epoch 117/150\n",
            "21/21 [==============================] - 0s 14ms/step - loss: 0.0371\n",
            "Epoch 118/150\n",
            "21/21 [==============================] - 0s 13ms/step - loss: 0.0378\n",
            "Epoch 119/150\n",
            "21/21 [==============================] - 0s 14ms/step - loss: 0.0368\n",
            "Epoch 120/150\n",
            "21/21 [==============================] - 0s 14ms/step - loss: 0.0364\n",
            "Epoch 121/150\n",
            "21/21 [==============================] - 0s 14ms/step - loss: 0.0379\n",
            "Epoch 122/150\n",
            "21/21 [==============================] - 0s 14ms/step - loss: 0.0363\n",
            "Epoch 123/150\n",
            "21/21 [==============================] - 0s 14ms/step - loss: 0.0365\n",
            "Epoch 124/150\n",
            "21/21 [==============================] - 0s 15ms/step - loss: 0.0366\n",
            "Epoch 125/150\n",
            "21/21 [==============================] - 0s 14ms/step - loss: 0.0364\n",
            "Epoch 126/150\n",
            "21/21 [==============================] - 0s 14ms/step - loss: 0.0365\n",
            "Epoch 127/150\n",
            "21/21 [==============================] - 0s 14ms/step - loss: 0.0361\n",
            "Epoch 128/150\n",
            "21/21 [==============================] - 0s 14ms/step - loss: 0.0365\n",
            "Epoch 129/150\n",
            "21/21 [==============================] - 0s 14ms/step - loss: 0.0376\n",
            "Epoch 130/150\n",
            "21/21 [==============================] - 0s 14ms/step - loss: 0.0363\n",
            "Epoch 131/150\n",
            "21/21 [==============================] - 0s 14ms/step - loss: 0.0363\n",
            "Epoch 132/150\n",
            "21/21 [==============================] - 0s 14ms/step - loss: 0.0355\n",
            "Epoch 133/150\n",
            "21/21 [==============================] - 0s 14ms/step - loss: 0.0379\n",
            "Epoch 134/150\n",
            "21/21 [==============================] - 0s 16ms/step - loss: 0.0381\n",
            "Epoch 135/150\n",
            "21/21 [==============================] - 0s 13ms/step - loss: 0.0354\n",
            "Epoch 136/150\n",
            "21/21 [==============================] - 0s 14ms/step - loss: 0.0354\n",
            "Epoch 137/150\n",
            "21/21 [==============================] - 0s 15ms/step - loss: 0.0360\n",
            "Epoch 138/150\n",
            "21/21 [==============================] - 0s 15ms/step - loss: 0.0403\n",
            "Epoch 139/150\n",
            "21/21 [==============================] - 0s 13ms/step - loss: 0.0353\n",
            "Epoch 140/150\n",
            "21/21 [==============================] - 0s 15ms/step - loss: 0.0353\n",
            "Epoch 141/150\n",
            "21/21 [==============================] - 0s 15ms/step - loss: 0.0351\n",
            "Epoch 142/150\n",
            "21/21 [==============================] - 0s 14ms/step - loss: 0.0358\n",
            "Epoch 143/150\n",
            "21/21 [==============================] - 0s 14ms/step - loss: 0.0369\n",
            "Epoch 144/150\n",
            "21/21 [==============================] - 0s 15ms/step - loss: 0.0355\n",
            "Epoch 145/150\n",
            "21/21 [==============================] - 0s 14ms/step - loss: 0.0359\n",
            "Epoch 146/150\n",
            "21/21 [==============================] - 0s 14ms/step - loss: 0.0350\n",
            "Epoch 147/150\n",
            "21/21 [==============================] - 0s 16ms/step - loss: 0.0353\n",
            "Epoch 148/150\n",
            "21/21 [==============================] - 0s 14ms/step - loss: 0.0381\n",
            "Epoch 149/150\n",
            "21/21 [==============================] - 0s 14ms/step - loss: 0.0349\n",
            "Epoch 150/150\n",
            "21/21 [==============================] - 0s 15ms/step - loss: 0.0357\n"
          ]
        }
      ]
    },
    {
      "cell_type": "code",
      "source": [
        "pd.DataFrame(result.history).plot()"
      ],
      "metadata": {
        "colab": {
          "base_uri": "https://localhost:8080/",
          "height": 287
        },
        "id": "qckPg8cfJLs2",
        "outputId": "e140b733-5c00-4c73-c4ae-8c81b6c08ffc"
      },
      "execution_count": 28,
      "outputs": [
        {
          "output_type": "execute_result",
          "data": {
            "text/plain": [
              "<matplotlib.axes._subplots.AxesSubplot at 0x7f96c8de43d0>"
            ]
          },
          "metadata": {},
          "execution_count": 28
        },
        {
          "output_type": "display_data",
          "data": {
            "image/png": "[encoded data removed]",
            "text/plain": [
              "<Figure size 432x288 with 1 Axes>"
            ]
          },
          "metadata": {
            "needs_background": "light"
          }
        }
      ]
    },
    {
      "cell_type": "code",
      "source": [
        "model.evaluate(X_test, y_test)"
      ],
      "metadata": {
        "colab": {
          "base_uri": "https://localhost:8080/"
        },
        "id": "5BmJmBPNMUMQ",
        "outputId": "f8056b54-b379-4eb4-8534-3f09947bce04"
      },
      "execution_count": 29,
      "outputs": [
        {
          "output_type": "stream",
          "name": "stdout",
          "text": [
            "4/4 [==============================] - 1s 6ms/step - loss: 0.0213\n"
          ]
        },
        {
          "output_type": "execute_result",
          "data": {
            "text/plain": [
              "0.021335706114768982"
            ]
          },
          "metadata": {},
          "execution_count": 29
        }
      ]
    },
    {
      "cell_type": "code",
      "source": [
        "train_predict =  data_scaler.inverse_transform( model.predict(X_train) )\n",
        "test_predict = data_scaler.inverse_transform( model.predict(X_test) )\n",
        "close_data_predict = np.append(train_predict, test_predict)\n",
        "\n",
        "plt.figure(figsize=(18,8))\n",
        "plt.plot(close_data_predict, color='b', label='Predict')\n",
        "plt.plot(close_data[time_steps:], color='r', label='Oryg' )\n",
        "plt.xlim( len(X_data)-time_steps, len(X_data) )\n",
        "plt.ylim( 150, 250 )\n",
        "\n",
        "plt.legend();"
      ],
      "metadata": {
        "colab": {
          "base_uri": "https://localhost:8080/",
          "height": 483
        },
        "id": "qT_Bwoa8Mfb_",
        "outputId": "960d8616-f50e-4bdf-b324-87a868ea2f76"
      },
      "execution_count": 37,
      "outputs": [
        {
          "output_type": "display_data",
          "data": {
            "image/png": "[encoded data removed]",
            "text/plain": [
              "<Figure size 1296x576 with 1 Axes>"
            ]
          },
          "metadata": {
            "needs_background": "light"
          }
        }
      ]
    },
    {
      "cell_type": "code",
      "source": [
        "# predycja na \"dzień po\"\n",
        "last10d = data_scaler.transform(close_data[-time_steps:])\n",
        "x = last10d.reshape( (1,)+last10d.shape )"
      ],
      "metadata": {
        "id": "nn3dItHPOsbT"
      },
      "execution_count": 44,
      "outputs": []
    },
    {
      "cell_type": "code",
      "source": [
        "data_scaler.inverse_transform( model.predict(x) )"
      ],
      "metadata": {
        "colab": {
          "base_uri": "https://localhost:8080/"
        },
        "id": "p0fHknfCQvRG",
        "outputId": "d3ed4614-f406-434f-e6ff-3a5b2ff4708d"
      },
      "execution_count": 47,
      "outputs": [
        {
          "output_type": "execute_result",
          "data": {
            "text/plain": [
              "array([[178.25294]], dtype=float32)"
            ]
          },
          "metadata": {},
          "execution_count": 47
        }
      ]
    },
    {
      "cell_type": "code",
      "source": [
        "185.8 / 178.2"
      ],
      "metadata": {
        "colab": {
          "base_uri": "https://localhost:8080/"
        },
        "id": "zOwtXTQ0RWhu",
        "outputId": "912242c9-d9c7-4765-941c-3f42c0ccfc77"
      },
      "execution_count": 48,
      "outputs": [
        {
          "output_type": "execute_result",
          "data": {
            "text/plain": [
              "1.042648709315376"
            ]
          },
          "metadata": {},
          "execution_count": 48
        }
      ]
    },
    {
      "cell_type": "code",
      "source": [
        ""
      ],
      "metadata": {
        "id": "wQGu6aGjRsBX"
      },
      "execution_count": null,
      "outputs": []
    }
  ]
}