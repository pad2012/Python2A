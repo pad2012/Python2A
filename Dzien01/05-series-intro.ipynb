{
 "cells": [
  {
   "cell_type": "code",
   "execution_count": 1,
   "id": "34d8e51c",
   "metadata": {},
   "outputs": [],
   "source": [
    "import pandas as pd"
   ]
  },
  {
   "cell_type": "code",
   "execution_count": 2,
   "id": "7eff1fed",
   "metadata": {},
   "outputs": [
    {
     "data": {
      "text/plain": [
       "'1.3.4'"
      ]
     },
     "execution_count": 2,
     "metadata": {},
     "output_type": "execute_result"
    }
   ],
   "source": [
    "pd.__version__"
   ]
  },
  {
   "cell_type": "code",
   "execution_count": 3,
   "id": "4fed1216",
   "metadata": {},
   "outputs": [
    {
     "data": {
      "text/plain": [
       "0       Gdańsk\n",
       "1       Poznań\n",
       "2      Wrocław\n",
       "3     Warszawa\n",
       "4        Radom\n",
       "5    Sosnowiec\n",
       "dtype: object"
      ]
     },
     "execution_count": 3,
     "metadata": {},
     "output_type": "execute_result"
    }
   ],
   "source": [
    "cities = [\"Gdańsk\",\"Poznań\",\"Wrocław\",\"Warszawa\",\"Radom\",\"Sosnowiec\"]\n",
    "serie = pd.Series(cities)\n",
    "serie"
   ]
  },
  {
   "cell_type": "code",
   "execution_count": 4,
   "id": "ae07056c",
   "metadata": {},
   "outputs": [
    {
     "data": {
      "text/plain": [
       "pandas.core.series.Series"
      ]
     },
     "execution_count": 4,
     "metadata": {},
     "output_type": "execute_result"
    }
   ],
   "source": [
    "type(serie)"
   ]
  },
  {
   "cell_type": "code",
   "execution_count": 5,
   "id": "b06329a6",
   "metadata": {},
   "outputs": [
    {
     "data": {
      "text/plain": [
       "array(['Gdańsk', 'Poznań', 'Wrocław', 'Warszawa', 'Radom', 'Sosnowiec'],\n",
       "      dtype=object)"
      ]
     },
     "execution_count": 5,
     "metadata": {},
     "output_type": "execute_result"
    }
   ],
   "source": [
    "serie.values"
   ]
  },
  {
   "cell_type": "code",
   "execution_count": 7,
   "id": "323d4002",
   "metadata": {},
   "outputs": [
    {
     "data": {
      "text/plain": [
       "[0, 1, 2, 3, 4, 5]"
      ]
     },
     "execution_count": 7,
     "metadata": {},
     "output_type": "execute_result"
    }
   ],
   "source": [
    "list(serie.index)"
   ]
  },
  {
   "cell_type": "code",
   "execution_count": 8,
   "id": "3cf62e05",
   "metadata": {},
   "outputs": [
    {
     "data": {
      "text/plain": [
       "GD        Gdańsk\n",
       "PO        Poznań\n",
       "DW       Wrocław\n",
       "WI      Warszawa\n",
       "WRA        Radom\n",
       "SO     Sosnowiec\n",
       "dtype: object"
      ]
     },
     "execution_count": 8,
     "metadata": {},
     "output_type": "execute_result"
    }
   ],
   "source": [
    "cities = [\"Gdańsk\",\"Poznań\",\"Wrocław\",\"Warszawa\",\"Radom\",\"Sosnowiec\"]\n",
    "plates = [\"GD\", \"PO\", \"DW\", \"WI\", \"WRA\", \"SO\"]\n",
    "serie = pd.Series(cities, plates)\n",
    "serie"
   ]
  },
  {
   "cell_type": "code",
   "execution_count": 10,
   "id": "f0f71e68",
   "metadata": {},
   "outputs": [
    {
     "data": {
      "text/plain": [
       "Index(['GD', 'PO', 'DW', 'WI', 'WRA', 'SO'], dtype='object')"
      ]
     },
     "execution_count": 10,
     "metadata": {},
     "output_type": "execute_result"
    }
   ],
   "source": [
    "serie.index"
   ]
  },
  {
   "cell_type": "code",
   "execution_count": 11,
   "id": "443dbd36",
   "metadata": {},
   "outputs": [
    {
     "data": {
      "text/plain": [
       "Poland      38321543\n",
       "Germany     84123567\n",
       "Russia     150765222\n",
       "USA        320987654\n",
       "UK          62123456\n",
       "dtype: int64"
      ]
     },
     "execution_count": 11,
     "metadata": {},
     "output_type": "execute_result"
    }
   ],
   "source": [
    "countries = [\"Poland\", \"Germany\", \"Russia\", \"USA\", \"UK\"]\n",
    "population = [38321543, 84123567, 150765222, 320987654, 62123456]\n",
    "serie = pd.Series(population, countries)\n",
    "serie"
   ]
  },
  {
   "cell_type": "code",
   "execution_count": 13,
   "id": "20a0c9ad",
   "metadata": {},
   "outputs": [
    {
     "data": {
      "text/plain": [
       "Germany     84123567\n",
       "Russia     150765222\n",
       "USA        320987654\n",
       "dtype: int64"
      ]
     },
     "execution_count": 13,
     "metadata": {},
     "output_type": "execute_result"
    }
   ],
   "source": [
    "# filtrowanie serii\n",
    "serie[ serie>80_000_000 ]"
   ]
  },
  {
   "cell_type": "code",
   "execution_count": 14,
   "id": "5ac122f6",
   "metadata": {},
   "outputs": [
    {
     "data": {
      "text/plain": [
       "Poland      38321543\n",
       "Germany     84123567\n",
       "Russia     150765222\n",
       "USA        320987654\n",
       "UK          62123456\n",
       "dtype: int64"
      ]
     },
     "execution_count": 14,
     "metadata": {},
     "output_type": "execute_result"
    }
   ],
   "source": [
    "serie"
   ]
  },
  {
   "cell_type": "code",
   "execution_count": 15,
   "id": "4b7392e4",
   "metadata": {},
   "outputs": [],
   "source": [
    "def convert_pop(x):\n",
    "    if x<50_000_000:\n",
    "        return \"L\"\n",
    "    if x<100_000_000:\n",
    "        return \"M\"\n",
    "    return \"H\""
   ]
  },
  {
   "cell_type": "code",
   "execution_count": 18,
   "id": "a0b7700d",
   "metadata": {},
   "outputs": [
    {
     "data": {
      "text/plain": [
       "'H'"
      ]
     },
     "execution_count": 18,
     "metadata": {},
     "output_type": "execute_result"
    }
   ],
   "source": [
    "convert_pop(105_123_456)"
   ]
  },
  {
   "cell_type": "code",
   "execution_count": 19,
   "id": "e45bd1c0",
   "metadata": {},
   "outputs": [
    {
     "data": {
      "text/plain": [
       "Poland     L\n",
       "Germany    M\n",
       "Russia     H\n",
       "USA        H\n",
       "UK         M\n",
       "dtype: object"
      ]
     },
     "execution_count": 19,
     "metadata": {},
     "output_type": "execute_result"
    }
   ],
   "source": [
    "serie.apply(convert_pop)"
   ]
  },
  {
   "cell_type": "code",
   "execution_count": 21,
   "id": "100f4e21",
   "metadata": {},
   "outputs": [
    {
     "data": {
      "text/plain": [
       "Poland      38.321543\n",
       "Germany     84.123567\n",
       "Russia     150.765222\n",
       "USA        320.987654\n",
       "UK          62.123456\n",
       "dtype: float64"
      ]
     },
     "execution_count": 21,
     "metadata": {},
     "output_type": "execute_result"
    }
   ],
   "source": [
    "serie / 1_000_000"
   ]
  },
  {
   "cell_type": "code",
   "execution_count": 24,
   "id": "147902da",
   "metadata": {},
   "outputs": [
    {
     "data": {
      "text/plain": [
       "Poland      38.32 mln\n",
       "Germany     84.12 mln\n",
       "Russia     150.77 mln\n",
       "USA        320.99 mln\n",
       "UK          62.12 mln\n",
       "dtype: object"
      ]
     },
     "execution_count": 24,
     "metadata": {},
     "output_type": "execute_result"
    }
   ],
   "source": [
    "serie.apply(lambda x: f\"{x/1_000_000:.2f} mln\")"
   ]
  },
  {
   "cell_type": "code",
   "execution_count": 26,
   "id": "9585db12",
   "metadata": {},
   "outputs": [
    {
     "data": {
      "text/plain": [
       "USA        320987654\n",
       "Russia     150765222\n",
       "Germany     84123567\n",
       "UK          62123456\n",
       "Poland      38321543\n",
       "dtype: int64"
      ]
     },
     "execution_count": 26,
     "metadata": {},
     "output_type": "execute_result"
    }
   ],
   "source": [
    "serie.sort_values(ascending=False)"
   ]
  },
  {
   "cell_type": "code",
   "execution_count": 28,
   "id": "8a90f0eb",
   "metadata": {},
   "outputs": [
    {
     "data": {
      "text/plain": [
       "USA        320987654\n",
       "UK          62123456\n",
       "Russia     150765222\n",
       "Poland      38321543\n",
       "Germany     84123567\n",
       "dtype: int64"
      ]
     },
     "execution_count": 28,
     "metadata": {},
     "output_type": "execute_result"
    }
   ],
   "source": [
    "serie.sort_index(ascending=False)"
   ]
  },
  {
   "cell_type": "code",
   "execution_count": 29,
   "id": "49ce88c8",
   "metadata": {},
   "outputs": [
    {
     "data": {
      "text/plain": [
       "0    PL\n",
       "1    UK\n",
       "2    RU\n",
       "dtype: object"
      ]
     },
     "execution_count": 29,
     "metadata": {},
     "output_type": "execute_result"
    }
   ],
   "source": [
    "# mapowanie danych\n",
    "serie = pd.Series([\"PL\",\"UK\",\"RU\"])\n",
    "serie"
   ]
  },
  {
   "cell_type": "code",
   "execution_count": 31,
   "id": "af73fb5c",
   "metadata": {},
   "outputs": [
    {
     "data": {
      "text/plain": [
       "0                Poland\n",
       "1    The United Kingdom\n",
       "2                   NaN\n",
       "dtype: object"
      ]
     },
     "execution_count": 31,
     "metadata": {},
     "output_type": "execute_result"
    }
   ],
   "source": [
    "countries_map = {\n",
    "    \"PL\" : \"Poland\", \"UK\": \"The United Kingdom\", #\"RU\" : \"Russia\"\n",
    "}\n",
    "serie.map(countries_map)"
   ]
  },
  {
   "cell_type": "markdown",
   "id": "09bdef57",
   "metadata": {},
   "source": [
    "### Lokalizowanie danych w serii"
   ]
  },
  {
   "cell_type": "code",
   "execution_count": 32,
   "id": "06ebfac3",
   "metadata": {},
   "outputs": [
    {
     "data": {
      "text/plain": [
       "Poland      38321543\n",
       "Germany     84123567\n",
       "Russia     150765222\n",
       "USA        320987654\n",
       "UK          62123456\n",
       "dtype: int64"
      ]
     },
     "execution_count": 32,
     "metadata": {},
     "output_type": "execute_result"
    }
   ],
   "source": [
    "countries = [\"Poland\", \"Germany\", \"Russia\", \"USA\", \"UK\"]\n",
    "population = [38321543, 84123567, 150765222, 320987654, 62123456]\n",
    "serie = pd.Series(population, countries)\n",
    "serie"
   ]
  },
  {
   "cell_type": "code",
   "execution_count": 39,
   "id": "1f9c149d",
   "metadata": {},
   "outputs": [
    {
     "data": {
      "text/plain": [
       "(38321543, 38321543, 38321543, 38321543, 38321543)"
      ]
     },
     "execution_count": 39,
     "metadata": {},
     "output_type": "execute_result"
    }
   ],
   "source": [
    "serie[\"Poland\"], serie.loc[\"Poland\"], serie.Poland, serie[0], serie.iloc[0]"
   ]
  },
  {
   "cell_type": "code",
   "execution_count": 40,
   "id": "03b7735e",
   "metadata": {},
   "outputs": [
    {
     "data": {
      "text/plain": [
       "Poland      38321543\n",
       "Germany     84123567\n",
       "Russia     150765222\n",
       "USA        320987654\n",
       "dtype: int64"
      ]
     },
     "execution_count": 40,
     "metadata": {},
     "output_type": "execute_result"
    }
   ],
   "source": [
    "serie.loc[\"Poland\":\"USA\"]"
   ]
  },
  {
   "cell_type": "code",
   "execution_count": 42,
   "id": "e608f92b",
   "metadata": {},
   "outputs": [
    {
     "data": {
      "text/plain": [
       "Poland      38321543\n",
       "Germany     84123567\n",
       "Russia     150765222\n",
       "USA        320987654\n",
       "dtype: int64"
      ]
     },
     "execution_count": 42,
     "metadata": {},
     "output_type": "execute_result"
    }
   ],
   "source": [
    "serie.iloc[0:4]"
   ]
  },
  {
   "cell_type": "code",
   "execution_count": 43,
   "id": "a0adf4e9",
   "metadata": {},
   "outputs": [
    {
     "data": {
      "text/plain": [
       "Poland     38321543\n",
       "USA       320987654\n",
       "dtype: int64"
      ]
     },
     "execution_count": 43,
     "metadata": {},
     "output_type": "execute_result"
    }
   ],
   "source": [
    "serie.loc[ [\"Poland\",\"USA\"] ]"
   ]
  },
  {
   "cell_type": "code",
   "execution_count": 53,
   "id": "df2f8c23",
   "metadata": {},
   "outputs": [
    {
     "data": {
      "text/plain": [
       "USA       320987654\n",
       "Poland     38321543\n",
       "dtype: int64"
      ]
     },
     "execution_count": 53,
     "metadata": {},
     "output_type": "execute_result"
    }
   ],
   "source": [
    "serie.loc[ [\"USA\",\"Poland\"] ]"
   ]
  },
  {
   "cell_type": "code",
   "execution_count": 54,
   "id": "88fab74b",
   "metadata": {},
   "outputs": [
    {
     "data": {
      "text/plain": [
       "Poland     38321543\n",
       "Russia    150765222\n",
       "dtype: int64"
      ]
     },
     "execution_count": 54,
     "metadata": {},
     "output_type": "execute_result"
    }
   ],
   "source": [
    "serie.loc[ \"Poland\":\"USA\":2 ]"
   ]
  },
  {
   "cell_type": "code",
   "execution_count": 49,
   "id": "431cfa24",
   "metadata": {},
   "outputs": [
    {
     "data": {
      "text/plain": [
       "Poland      38321543\n",
       "Germany     84123567\n",
       "Russia     150765222\n",
       "USA        320987654\n",
       "UK          62123456\n",
       "dtype: int64"
      ]
     },
     "execution_count": 49,
     "metadata": {},
     "output_type": "execute_result"
    }
   ],
   "source": [
    "serie"
   ]
  },
  {
   "cell_type": "code",
   "execution_count": 51,
   "id": "07836e26",
   "metadata": {},
   "outputs": [
    {
     "data": {
      "text/plain": [
       "Germany    84123567\n",
       "UK         62123456\n",
       "dtype: int64"
      ]
     },
     "execution_count": 51,
     "metadata": {},
     "output_type": "execute_result"
    }
   ],
   "source": [
    "serie.iloc[ [1,-1] ]"
   ]
  },
  {
   "cell_type": "code",
   "execution_count": 52,
   "id": "deb34175",
   "metadata": {},
   "outputs": [
    {
     "data": {
      "text/plain": [
       "UK    62123456\n",
       "dtype: int64"
      ]
     },
     "execution_count": 52,
     "metadata": {},
     "output_type": "execute_result"
    }
   ],
   "source": [
    "serie.iloc[ [-1] ]"
   ]
  },
  {
   "cell_type": "code",
   "execution_count": null,
   "id": "7c9939a8",
   "metadata": {},
   "outputs": [],
   "source": []
  }
 ],
 "metadata": {
  "kernelspec": {
   "display_name": "Python 3 (ipykernel)",
   "language": "python",
   "name": "python3"
  },
  "language_info": {
   "codemirror_mode": {
    "name": "ipython",
    "version": 3
   },
   "file_extension": ".py",
   "mimetype": "text/x-python",
   "name": "python",
   "nbconvert_exporter": "python",
   "pygments_lexer": "ipython3",
   "version": "3.9.7"
  }
 },
 "nbformat": 4,
 "nbformat_minor": 5
}
