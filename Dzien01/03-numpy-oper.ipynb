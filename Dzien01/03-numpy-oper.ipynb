{
 "cells": [
  {
   "cell_type": "code",
   "execution_count": 1,
   "id": "3263bbd9",
   "metadata": {},
   "outputs": [],
   "source": [
    "import numpy as np"
   ]
  },
  {
   "cell_type": "code",
   "execution_count": 3,
   "id": "d4ce3d6c",
   "metadata": {},
   "outputs": [
    {
     "data": {
      "text/plain": [
       "(array([10, 20, 30, 40, 50, 60, 70]), array([1, 2, 3, 4, 5, 6, 7]))"
      ]
     },
     "execution_count": 3,
     "metadata": {},
     "output_type": "execute_result"
    }
   ],
   "source": [
    "a = np.arange(10, 71, 10)\n",
    "b = np.arange(1, 8, 1)\n",
    "a, b"
   ]
  },
  {
   "cell_type": "code",
   "execution_count": 4,
   "id": "5232431b",
   "metadata": {},
   "outputs": [
    {
     "data": {
      "text/plain": [
       "array([11, 22, 33, 44, 55, 66, 77])"
      ]
     },
     "execution_count": 4,
     "metadata": {},
     "output_type": "execute_result"
    }
   ],
   "source": [
    "a+b"
   ]
  },
  {
   "cell_type": "code",
   "execution_count": 5,
   "id": "5bbd0029",
   "metadata": {},
   "outputs": [
    {
     "data": {
      "text/plain": [
       "array([ 9, 18, 27, 36, 45, 54, 63])"
      ]
     },
     "execution_count": 5,
     "metadata": {},
     "output_type": "execute_result"
    }
   ],
   "source": [
    "a-b"
   ]
  },
  {
   "cell_type": "code",
   "execution_count": 6,
   "id": "94954eac",
   "metadata": {},
   "outputs": [
    {
     "data": {
      "text/plain": [
       "array([ 10,  40,  90, 160, 250, 360, 490])"
      ]
     },
     "execution_count": 6,
     "metadata": {},
     "output_type": "execute_result"
    }
   ],
   "source": [
    "a*b"
   ]
  },
  {
   "cell_type": "code",
   "execution_count": 7,
   "id": "172b28e3",
   "metadata": {},
   "outputs": [
    {
     "data": {
      "text/plain": [
       "array([15, 25, 35, 45, 55, 65, 75])"
      ]
     },
     "execution_count": 7,
     "metadata": {},
     "output_type": "execute_result"
    }
   ],
   "source": [
    "a+5"
   ]
  },
  {
   "cell_type": "code",
   "execution_count": 8,
   "id": "3549b28a",
   "metadata": {},
   "outputs": [
    {
     "data": {
      "text/plain": [
       "array([ 1,  4,  9, 16, 25, 36, 49], dtype=int32)"
      ]
     },
     "execution_count": 8,
     "metadata": {},
     "output_type": "execute_result"
    }
   ],
   "source": [
    "b**2"
   ]
  },
  {
   "cell_type": "code",
   "execution_count": 10,
   "id": "123ab51c",
   "metadata": {},
   "outputs": [
    {
     "data": {
      "text/plain": [
       "array([ 20,  40,  60,  80, 100, 120, 140])"
      ]
     },
     "execution_count": 10,
     "metadata": {},
     "output_type": "execute_result"
    }
   ],
   "source": [
    "a *= 2\n",
    "a"
   ]
  },
  {
   "cell_type": "code",
   "execution_count": 13,
   "id": "a4ffb4ee",
   "metadata": {},
   "outputs": [],
   "source": [
    "a = a /3 #a /= 3"
   ]
  },
  {
   "cell_type": "code",
   "execution_count": 14,
   "id": "9ca3cb30",
   "metadata": {},
   "outputs": [
    {
     "data": {
      "text/plain": [
       "array([ 6.66666667, 13.33333333, 20.        , 26.66666667, 33.33333333,\n",
       "       40.        , 46.66666667])"
      ]
     },
     "execution_count": 14,
     "metadata": {},
     "output_type": "execute_result"
    }
   ],
   "source": [
    "a"
   ]
  },
  {
   "cell_type": "code",
   "execution_count": 15,
   "id": "03116618",
   "metadata": {},
   "outputs": [
    {
     "data": {
      "text/plain": [
       "dtype('float64')"
      ]
     },
     "execution_count": 15,
     "metadata": {},
     "output_type": "execute_result"
    }
   ],
   "source": [
    "a.dtype"
   ]
  },
  {
   "cell_type": "code",
   "execution_count": 16,
   "id": "4191c377",
   "metadata": {},
   "outputs": [
    {
     "data": {
      "text/plain": [
       "array([[1],\n",
       "       [2],\n",
       "       [3]])"
      ]
     },
     "execution_count": 16,
     "metadata": {},
     "output_type": "execute_result"
    }
   ],
   "source": [
    "arr1 = np.array([ [1],[2],[3]  ])\n",
    "arr1"
   ]
  },
  {
   "cell_type": "code",
   "execution_count": 17,
   "id": "43b86bbe",
   "metadata": {},
   "outputs": [
    {
     "data": {
      "text/plain": [
       "array([[1, 2, 3]])"
      ]
     },
     "execution_count": 17,
     "metadata": {},
     "output_type": "execute_result"
    }
   ],
   "source": [
    "arr2 = np.array([ [1,2,3] ])\n",
    "arr2"
   ]
  },
  {
   "cell_type": "code",
   "execution_count": 18,
   "id": "0d5aea4e",
   "metadata": {},
   "outputs": [
    {
     "data": {
      "text/plain": [
       "array([[2, 3, 4],\n",
       "       [3, 4, 5],\n",
       "       [4, 5, 6]])"
      ]
     },
     "execution_count": 18,
     "metadata": {},
     "output_type": "execute_result"
    }
   ],
   "source": [
    "arr1 + arr2"
   ]
  },
  {
   "cell_type": "code",
   "execution_count": 19,
   "id": "14883381",
   "metadata": {},
   "outputs": [
    {
     "data": {
      "text/plain": [
       "array([[1, 2, 3],\n",
       "       [2, 4, 6],\n",
       "       [3, 6, 9]])"
      ]
     },
     "execution_count": 19,
     "metadata": {},
     "output_type": "execute_result"
    }
   ],
   "source": [
    "arr1 * arr2"
   ]
  },
  {
   "cell_type": "markdown",
   "id": "170eea9f",
   "metadata": {},
   "source": [
    "### Wybieranie danych z tablicy"
   ]
  },
  {
   "cell_type": "code",
   "execution_count": 20,
   "id": "d762607a",
   "metadata": {},
   "outputs": [
    {
     "data": {
      "text/plain": [
       "array([[  2,   5, -10,  -7,  -7,  -3,  -1,   9],\n",
       "       [  8,  -6,  -4,   2,  -9,  -4,  -3,   4],\n",
       "       [  7,  -5,   3,  -2,  -1,  10,   9,   6],\n",
       "       [  9,  -5,   5,   5, -10,   8,  -7,   7],\n",
       "       [  9,   9,   9,   4,  -3, -10,  -9,  -1],\n",
       "       [-10,   0,  10,  -7,   1,   8,  -8, -10],\n",
       "       [-10,  -6,  -5,  -4,  -2,  10,   7,   5]])"
      ]
     },
     "execution_count": 20,
     "metadata": {},
     "output_type": "execute_result"
    }
   ],
   "source": [
    "np.random.seed(0)\n",
    "arr = np.random.randint(-10, 11, (7,8) )\n",
    "arr"
   ]
  },
  {
   "cell_type": "code",
   "execution_count": 21,
   "id": "67149466",
   "metadata": {},
   "outputs": [
    {
     "data": {
      "text/plain": [
       "(array([-10,  -6,  -5,  -4,  -2,  10,   7,   5]),\n",
       " array([-10,  -6,  -5,  -4,  -2,  10,   7,   5]))"
      ]
     },
     "execution_count": 21,
     "metadata": {},
     "output_type": "execute_result"
    }
   ],
   "source": [
    "# ostatni wiersz\n",
    "arr[6], arr[-1]"
   ]
  },
  {
   "cell_type": "code",
   "execution_count": 25,
   "id": "6f09e5ef",
   "metadata": {},
   "outputs": [
    {
     "data": {
      "text/plain": [
       "array([[ 8,  2, -3],\n",
       "       [ 7, -2,  9]])"
      ]
     },
     "execution_count": 25,
     "metadata": {},
     "output_type": "execute_result"
    }
   ],
   "source": [
    "# wiersz 2 i 3, co 3-cia kolumna\n",
    "arr[ 1:3 , ::3 ]"
   ]
  },
  {
   "cell_type": "code",
   "execution_count": 26,
   "id": "780f0709",
   "metadata": {},
   "outputs": [
    {
     "data": {
      "text/plain": [
       "array([[  2,   5, -10,  -7,  -7,  -3,  -1,   9],\n",
       "       [-10,  -6,  -5,  -4,  -2,  10,   7,   5]])"
      ]
     },
     "execution_count": 26,
     "metadata": {},
     "output_type": "execute_result"
    }
   ],
   "source": [
    "# tylko wiersz pierwszy i ostatni\n",
    "arr[ [0,-1] ]"
   ]
  },
  {
   "cell_type": "code",
   "execution_count": 28,
   "id": "9aa840d8",
   "metadata": {},
   "outputs": [
    {
     "data": {
      "text/plain": [
       "array([[-10,  -6,  -5,  -4,  -2,  10,   7,   5],\n",
       "       [  2,   5, -10,  -7,  -7,  -3,  -1,   9]])"
      ]
     },
     "execution_count": 28,
     "metadata": {},
     "output_type": "execute_result"
    }
   ],
   "source": [
    "arr[ [-1,0] ]"
   ]
  },
  {
   "cell_type": "code",
   "execution_count": 29,
   "id": "76f37d70",
   "metadata": {},
   "outputs": [
    {
     "data": {
      "text/plain": [
       "array([[  2,   5, -10,  -7,  -7,  -3,  -1,   9],\n",
       "       [  8,  -6,  -4,   2,  -9,  -4,  -3,   4],\n",
       "       [  7,  -5,   3,  -2,  -1,  10,   9,   6],\n",
       "       [  9,  -5,   5,   5, -10,   8,  -7,   7],\n",
       "       [  9,   9,   9,   4,  -3, -10,  -9,  -1],\n",
       "       [-10,   0,  10,  -7,   1,   8,  -8, -10],\n",
       "       [-10,  -6,  -5,  -4,  -2,  10,   7,   5]])"
      ]
     },
     "execution_count": 29,
     "metadata": {},
     "output_type": "execute_result"
    }
   ],
   "source": [
    "arr"
   ]
  },
  {
   "cell_type": "code",
   "execution_count": 34,
   "id": "84b454a1",
   "metadata": {},
   "outputs": [
    {
     "data": {
      "text/plain": [
       "array([[  9],\n",
       "       [  4],\n",
       "       [  6],\n",
       "       [  7],\n",
       "       [ -1],\n",
       "       [-10],\n",
       "       [  5]])"
      ]
     },
     "execution_count": 34,
     "metadata": {},
     "output_type": "execute_result"
    }
   ],
   "source": [
    "# ostatnia kolumna\n",
    "arr[ :, [-1] ]"
   ]
  },
  {
   "cell_type": "code",
   "execution_count": 36,
   "id": "7e4da447",
   "metadata": {},
   "outputs": [
    {
     "data": {
      "text/plain": [
       "array([  9,   4,   6,   7,  -1, -10,   5])"
      ]
     },
     "execution_count": 36,
     "metadata": {},
     "output_type": "execute_result"
    }
   ],
   "source": [
    "arr.transpose()[-1]"
   ]
  },
  {
   "cell_type": "code",
   "execution_count": 38,
   "id": "835b961d",
   "metadata": {},
   "outputs": [
    {
     "data": {
      "text/plain": [
       "array([  9,   4,   6,   7,  -1, -10,   5])"
      ]
     },
     "execution_count": 38,
     "metadata": {},
     "output_type": "execute_result"
    }
   ],
   "source": [
    "arr.T[-1]"
   ]
  },
  {
   "cell_type": "code",
   "execution_count": 39,
   "id": "1184b091",
   "metadata": {},
   "outputs": [
    {
     "data": {
      "text/plain": [
       "array([[  2,   5, -10,  -7,  -7,  -3,  -1,   9],\n",
       "       [  8,  -6,  -4,   2,  -9,  -4,  -3,   4],\n",
       "       [  7,  -5,   3,  -2,  -1,  10,   9,   6],\n",
       "       [  9,  -5,   5,   5, -10,   8,  -7,   7],\n",
       "       [  9,   9,   9,   4,  -3, -10,  -9,  -1],\n",
       "       [-10,   0,  10,  -7,   1,   8,  -8, -10],\n",
       "       [-10,  -6,  -5,  -4,  -2,  10,   7,   5]])"
      ]
     },
     "execution_count": 39,
     "metadata": {},
     "output_type": "execute_result"
    }
   ],
   "source": [
    "arr"
   ]
  },
  {
   "cell_type": "code",
   "execution_count": 40,
   "id": "a236bc40",
   "metadata": {},
   "outputs": [
    {
     "name": "stdout",
     "output_type": "stream",
     "text": [
      "[  2   5 -10  -7  -7  -3  -1   9]\n",
      "==================================================\n",
      "[ 8 -6 -4  2 -9 -4 -3  4]\n",
      "==================================================\n",
      "[ 7 -5  3 -2 -1 10  9  6]\n",
      "==================================================\n",
      "[  9  -5   5   5 -10   8  -7   7]\n",
      "==================================================\n",
      "[  9   9   9   4  -3 -10  -9  -1]\n",
      "==================================================\n",
      "[-10   0  10  -7   1   8  -8 -10]\n",
      "==================================================\n",
      "[-10  -6  -5  -4  -2  10   7   5]\n",
      "==================================================\n"
     ]
    }
   ],
   "source": [
    "for row in arr:\n",
    "    print(row)\n",
    "    print(\"=\"*50)"
   ]
  },
  {
   "cell_type": "markdown",
   "id": "e736bcc1",
   "metadata": {},
   "source": [
    "### Porównania szybkości Numpy vs Python list"
   ]
  },
  {
   "cell_type": "code",
   "execution_count": 42,
   "id": "012d1c3c",
   "metadata": {},
   "outputs": [
    {
     "name": "stdout",
     "output_type": "stream",
     "text": [
      "718 µs ± 72.2 µs per loop (mean ± std. dev. of 20 runs, 500 loops each)\n"
     ]
    }
   ],
   "source": [
    "%%timeit -r 20 -n 500\n",
    "[x**2 for x in range(1,1001)]"
   ]
  },
  {
   "cell_type": "code",
   "execution_count": 43,
   "id": "3c745711",
   "metadata": {},
   "outputs": [
    {
     "name": "stdout",
     "output_type": "stream",
     "text": [
      "11 µs ± 2.73 µs per loop (mean ± std. dev. of 20 runs, 500 loops each)\n"
     ]
    }
   ],
   "source": [
    "%%timeit -r 20 -n 500\n",
    "np.arange(1,1001)**2"
   ]
  },
  {
   "cell_type": "code",
   "execution_count": 44,
   "id": "26cc2659",
   "metadata": {},
   "outputs": [
    {
     "data": {
      "text/plain": [
       "65.27272727272727"
      ]
     },
     "execution_count": 44,
     "metadata": {},
     "output_type": "execute_result"
    }
   ],
   "source": [
    "718/11"
   ]
  },
  {
   "cell_type": "code",
   "execution_count": null,
   "id": "9cb27a36",
   "metadata": {},
   "outputs": [],
   "source": []
  }
 ],
 "metadata": {
  "kernelspec": {
   "display_name": "Python 3 (ipykernel)",
   "language": "python",
   "name": "python3"
  },
  "language_info": {
   "codemirror_mode": {
    "name": "ipython",
    "version": 3
   },
   "file_extension": ".py",
   "mimetype": "text/x-python",
   "name": "python",
   "nbconvert_exporter": "python",
   "pygments_lexer": "ipython3",
   "version": "3.9.7"
  }
 },
 "nbformat": 4,
 "nbformat_minor": 5
}
