{
 "cells": [
  {
   "cell_type": "code",
   "execution_count": 23,
   "id": "f24d357e",
   "metadata": {},
   "outputs": [],
   "source": [
    "import numpy as np"
   ]
  },
  {
   "cell_type": "code",
   "execution_count": 24,
   "id": "6aaffec4",
   "metadata": {},
   "outputs": [],
   "source": [
    "class Perceptron:\n",
    "    \n",
    "    def __init__(self):\n",
    "        \"\"\" Inicjalizacja wag dla perceptronu \"\"\"\n",
    "        np.random.seed(0)\n",
    "        self.weights = 4 * np.random.random((3,1)) - 2\n",
    "        \n",
    "    \n",
    "    def sigmoid(self, x):\n",
    "        \"\"\" Funkcja aktywacji \"\"\"\n",
    "        return 1/(1+np.exp(-x))\n",
    "    \n",
    "    def d_sigmoid(self, x):\n",
    "        \"\"\" Pochodna do f. aktywacji \"\"\"\n",
    "        return x*(1-x)\n",
    "        \n",
    "    def propagation(self, inputs):\n",
    "        \"\"\" Propagacja danych i wag \"\"\"\n",
    "        return self.sigmoid( np.dot(inputs.astype(\"float\"), self.weights) )\n",
    "    \n",
    "    def back_propagation(self, propagation_result, train_input, train_output):\n",
    "        \"\"\" Prosty algorytm prop. wstecznej \"\"\"\n",
    "        error = train_output - propagation_result\n",
    "        self.weights += np.dot( train_input.T, error*self.d_sigmoid(propagation_result) )\n",
    "    \n",
    "    def train(self, train_input, train_output, epochs):\n",
    "        for _ in range(epochs):\n",
    "            prop_result = self.propagation(train_input)\n",
    "            self.back_propagation(prop_result, train_input, train_output)    "
   ]
  },
  {
   "cell_type": "code",
   "execution_count": 25,
   "id": "1ca19914",
   "metadata": {},
   "outputs": [],
   "source": [
    "model = Perceptron()\n",
    "\n",
    "X = np.array([\n",
    "    [1,1,0], [1,1,1], [1,1,0], [1,0,0], [0,1,1], [0,1,0]\n",
    "])\n",
    "\n",
    "y = np.array([[0, 1, 0, 0, 1, 0]]).T"
   ]
  },
  {
   "cell_type": "code",
   "execution_count": 26,
   "id": "39268939",
   "metadata": {},
   "outputs": [
    {
     "name": "stdout",
     "output_type": "stream",
     "text": [
      "[[0.19525402]\n",
      " [0.86075747]\n",
      " [0.4110535 ]]\n",
      "[[-5.04497798]\n",
      " [-5.04495648]\n",
      " [15.28006533]]\n"
     ]
    }
   ],
   "source": [
    "print(model.weights)\n",
    "model.train(X, y, 50_000)\n",
    "print(model.weights)"
   ]
  },
  {
   "cell_type": "code",
   "execution_count": 27,
   "id": "16bbabdc",
   "metadata": {},
   "outputs": [
    {
     "name": "stdout",
     "output_type": "stream",
     "text": [
      "[1 1 1] = [0.99445959]\n",
      "[0 0 1] = [0.99999977]\n",
      "[1 0 1] = [0.99996411]\n",
      "[1 1 0] = [4.14934092e-05]\n",
      "[0 0 1] = [0.99999977]\n"
     ]
    }
   ],
   "source": [
    "X_test = np.array([\n",
    "    [1,1,1], [0,0,1], [1,0,1] , [1,1,0], [0,0,1]\n",
    "])\n",
    "\n",
    "for x in X_test:\n",
    "    print(f\"{x} = {model.propagation(x)}\")"
   ]
  },
  {
   "cell_type": "code",
   "execution_count": null,
   "id": "c2e8eee3",
   "metadata": {},
   "outputs": [],
   "source": []
  }
 ],
 "metadata": {
  "kernelspec": {
   "display_name": "Python 3 (ipykernel)",
   "language": "python",
   "name": "python3"
  },
  "language_info": {
   "codemirror_mode": {
    "name": "ipython",
    "version": 3
   },
   "file_extension": ".py",
   "mimetype": "text/x-python",
   "name": "python",
   "nbconvert_exporter": "python",
   "pygments_lexer": "ipython3",
   "version": "3.9.7"
  }
 },
 "nbformat": 4,
 "nbformat_minor": 5
}
