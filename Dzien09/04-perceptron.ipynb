{
 "cells": [
  {
   "cell_type": "code",
   "execution_count": 1,
   "id": "c5a6212f",
   "metadata": {},
   "outputs": [],
   "source": [
    "import numpy as np"
   ]
  },
  {
   "cell_type": "code",
   "execution_count": 2,
   "id": "cca228f7",
   "metadata": {},
   "outputs": [],
   "source": [
    "class Perceptron:\n",
    "    \n",
    "    def __init__(self):\n",
    "        \"\"\" Inicjalizacja wag dla perceptronu \"\"\"\n",
    "        np.random.seed(0)\n",
    "        self.weights = 4 * np.random.random((3,1)) - 2\n",
    "        \n",
    "    \n",
    "    def sigmoid(self, x):\n",
    "        \"\"\" Funkcja aktywacji \"\"\"\n",
    "        return 1/(1+np.exp(-x))\n",
    "    \n",
    "    def d_sigmoid(self, x):\n",
    "        \"\"\" Pochodna do f. aktywacji \"\"\"\n",
    "        return x*(1-x)\n",
    "        \n",
    "    def propagation(self, inputs):\n",
    "        \"\"\" Propagacja danych i wag \"\"\"\n",
    "        return self.sigmoid( np.dot(inputs.astype(\"float\"), self.weights) )\n",
    "    \n",
    "    def back_propagation(self, propagation_result, train_input, train_output):\n",
    "        \"\"\" Prosty algorytm prop. wstecznej \"\"\"\n",
    "        error = train_output - propagation_result\n",
    "        self.weights += np.dot( train_input.T, error*self.d_sigmoid(propagation_result) )\n",
    "    \n",
    "    def train(self, train_input, train_output, epochs):\n",
    "        for _ in range(epochs):\n",
    "            prop_result = self.propagation(train_input)\n",
    "            self.back_propagation(prop_result, train_input, train_output)    "
   ]
  },
  {
   "cell_type": "code",
   "execution_count": 13,
   "id": "33eb228a",
   "metadata": {},
   "outputs": [],
   "source": [
    "model = Perceptron()\n",
    "\n",
    "X = np.array([\n",
    "    [1,1,0], [1,1,1], [1,1,0], [1,0,0], [0,1,1], [0,1,0]\n",
    "])\n",
    "\n",
    "y = np.array([[0, 1, 0, 0, 1, 0]]).T"
   ]
  },
  {
   "cell_type": "code",
   "execution_count": 14,
   "id": "42476d4c",
   "metadata": {},
   "outputs": [
    {
     "name": "stdout",
     "output_type": "stream",
     "text": [
      "[[0.19525402]\n",
      " [0.86075747]\n",
      " [0.4110535 ]]\n",
      "[[-4.21855518]\n",
      " [-4.21843766]\n",
      " [12.80226329]]\n"
     ]
    }
   ],
   "source": [
    "print(model.weights)\n",
    "model.train(X, y, 10_000)\n",
    "print(model.weights)"
   ]
  },
  {
   "cell_type": "code",
   "execution_count": 15,
   "id": "8985a7db",
   "metadata": {},
   "outputs": [
    {
     "name": "stdout",
     "output_type": "stream",
     "text": [
      "[1 1 1] = [0.98744833]\n",
      "[0 0 0] = [0.5]\n",
      "[1 0 1] = [0.99981291]\n",
      "[1 1 0] = [0.00021665]\n"
     ]
    }
   ],
   "source": [
    "X_test = np.array([\n",
    "    [1,1,1], [0,0,0], [1,0,1] , [1,1,0]\n",
    "])\n",
    "\n",
    "for x in X_test:\n",
    "    print(f\"{x} = {model.propagation(x)}\")"
   ]
  },
  {
   "cell_type": "code",
   "execution_count": null,
   "id": "7c4275a2",
   "metadata": {},
   "outputs": [],
   "source": []
  }
 ],
 "metadata": {
  "kernelspec": {
   "display_name": "Python 3 (ipykernel)",
   "language": "python",
   "name": "python3"
  },
  "language_info": {
   "codemirror_mode": {
    "name": "ipython",
    "version": 3
   },
   "file_extension": ".py",
   "mimetype": "text/x-python",
   "name": "python",
   "nbconvert_exporter": "python",
   "pygments_lexer": "ipython3",
   "version": "3.9.7"
  }
 },
 "nbformat": 4,
 "nbformat_minor": 5
}
